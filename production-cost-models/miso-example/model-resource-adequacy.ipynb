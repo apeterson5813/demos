{
 "cells": [
  {
   "cell_type": "code",
   "execution_count": 3,
   "id": "7a95b215",
   "metadata": {},
   "outputs": [],
   "source": [
    "using PRAS"
   ]
  },
  {
   "cell_type": "code",
   "execution_count": 4,
   "id": "ea3cd937",
   "metadata": {},
   "outputs": [
    {
     "data": {
      "text/plain": [
       "SystemModel{8760, 1, Hour, MW, MWh}(Regions{8760, MW}([\"eastcentral\", \"south\", \"west\"], [34277 31481 … 42663 41874; 18822 18419 … 22231 21852; 27322 27340 … 24483 23602]), Interfaces{8760, MW}([1, 1], [2, 3], [1500 1500 … 1500 1500; 100000 100000 … 100000 100000], [1500 1500 … 1500 1500; 100000 100000 … 100000 100000]), Generators{8760, 1, Hour, MW}([\"trigen_st_louis_56309_CT 1\", \"energy_shelby_county_55237_CTG3\", \"monroe_mi_1733_1\", \"hydro_eastcentral\", \"merom_6213_1\", \"kalamazoo_river_generating_station_55101_1\", \"river_rouge_1740_IC1\", \"joppa_steam_887_1\", \"gaylord_wolverine_7932_1\", \"factory_8016_1\"  …  \"jamestown_2801_2\", \"roquette_america_57953_GT\", \"weston_rice_0_0\", \"benson_city_of_1964_11\", \"rapids_energy_center_10686_6\", \"fairmont_mn_1973_10\", \"elk_mound_7863_2\", \"sheboygan_falls_56166_2\", \"columbia_wi_8023_2\", \"point_beach_nuclear_plant_4046_5\"], [\"NATURAL_GAS\", \"NATURAL_GAS\", \"COAL\", \"Hydro\", \"COAL\", \"NATURAL_GAS\", \"DISTILLATE_FUEL_OIL\", \"COAL\", \"NATURAL_GAS\", \"DISTILLATE_FUEL_OIL\"  …  \"DISTILLATE_FUEL_OIL\", \"NATURAL_GAS\", \"NATURAL_GAS\", \"DISTILLATE_FUEL_OIL\", \"NATURAL_GAS\", \"NATURAL_GAS\", \"NATURAL_GAS\", \"NATURAL_GAS\", \"COAL\", \"DISTILLATE_FUEL_OIL\"], [7 7 … 7 7; 60 60 … 60 60; … ; 556 556 … 556 556; 25 25 … 25 25], [0.0067463706233988055 0.0067463706233988055 … 0.0067463706233988055 0.0067463706233988055; 0.007469102632993016 0.007469102632993016 … 0.007469102632993016 0.007469102632993016; … ; 0.009914266871839966 0.009914266871839966 … 0.009914266871839966 0.009914266871839966; 0.019488588839765803 0.019488588839765803 … 0.019488588839765803 0.019488588839765803], [0.1 0.1 … 0.1 0.1; 0.1 0.1 … 0.1 0.1; … ; 0.1 0.1 … 0.1 0.1; 0.1 0.1 … 0.1 0.1]), UnitRange{Int64}[1:444, 445:684, 685:1156], Storages{8760, 1, Hour, MW, MWh}([\"harding_street_990_BAT1\", \"taum_sauk_2108_1\", \"nabb_battery_energy_storage_system_62862_ES1\", \"parkview_battery_61909_1\", \"ludington_1713_2\", \"taum_sauk_2108_2\", \"crane_battery_energy_storage_system_64207_ES1\", \"cavalry_solar_0_0\", \"camp_atterbury_microgrid_hybrid_63324_ES1\", \"ludington_1713_6\"  …  \"ludington_1713_1\", \"ludington_1713_3\", \"ludington_1713_4\", \"searcy_bat_62617_SEABT\", \"degray_187_2\", \"deer_run_battery_0_0\", \"moline_899_HY2\", \"portage_battery_0_0\", \"moline_899_HY3\", \"moline_899_HY1\"], [\"Battery\", \"Battery\", \"Battery\", \"Battery\", \"Battery\", \"Battery\", \"Battery\", \"Battery\", \"Battery\", \"Battery\"  …  \"Battery\", \"Battery\", \"Battery\", \"Battery\", \"Battery\", \"Battery\", \"Battery\", \"Battery\", \"Battery\", \"Battery\"], [20 20 … 20 20; 204 204 … 204 204; … ; 0 0 … 0 0; 0 0 … 0 0], [20 20 … 20 20; 204 204 … 204 204; … ; 0 0 … 0 0; 0 0 … 0 0], [80 80 … 80 80; 2040 2040 … 2040 2040; … ; 9 9 … 9 9; 9 9 … 9 9], [1.0 1.0 … 1.0 1.0; 1.0 1.0 … 1.0 1.0; … ; 1.0 1.0 … 1.0 1.0; 1.0 1.0 … 1.0 1.0], [1.0 1.0 … 1.0 1.0; 1.0 1.0 … 1.0 1.0; … ; 1.0 1.0 … 1.0 1.0; 1.0 1.0 … 1.0 1.0], [1.0 1.0 … 1.0 1.0; 1.0 1.0 … 1.0 1.0; … ; 1.0 1.0 … 1.0 1.0; 1.0 1.0 … 1.0 1.0], [0.0 0.0 … 0.0 0.0; 0.0 0.0 … 0.0 0.0; … ; 0.0 0.0 … 0.0 0.0; 0.0 0.0 … 0.0 0.0], [1.0 1.0 … 1.0 1.0; 1.0 1.0 … 1.0 1.0; … ; 1.0 1.0 … 1.0 1.0; 1.0 1.0 … 1.0 1.0]), UnitRange{Int64}[1:15, 16:17, 18:22], GeneratorStorages{8760, 1, Hour, MW, MWh}(String[], String[], Matrix{Int64}(undef, 0, 8760), Matrix{Int64}(undef, 0, 8760), Matrix{Int64}(undef, 0, 8760), Matrix{Float64}(undef, 0, 8760), Matrix{Float64}(undef, 0, 8760), Matrix{Float64}(undef, 0, 8760), Matrix{Int64}(undef, 0, 8760), Matrix{Int64}(undef, 0, 8760), Matrix{Int64}(undef, 0, 8760), Matrix{Float64}(undef, 0, 8760), Matrix{Float64}(undef, 0, 8760)), UnitRange{Int64}[1:0, 1:0, 1:0], Lines{8760, 1, Hour, MW}([\"eastcentral_south\", \"west_eastcentral\"], [\"ACLine\", \"ACLine\"], [1500 1500 … 1500 1500; 100000 100000 … 100000 100000], [1500 1500 … 1500 1500; 100000 100000 … 100000 100000], [0.0 0.0 … 0.0 0.0; 0.0 0.0 … 0.0 0.0], [1.0 1.0 … 1.0 1.0; 1.0 1.0 … 1.0 1.0]), UnitRange{Int64}[1:1, 2:2], ZonedDateTime(2023, 1, 1, tz\"UTC\"):Hour(1):ZonedDateTime(2023, 12, 31, 23, tz\"UTC\"))"
      ]
     },
     "execution_count": 4,
     "metadata": {},
     "output_type": "execute_result"
    }
   ],
   "source": [
    "base_system = SystemModel(\"./models/pras/miso_base.pras\")"
   ]
  },
  {
   "cell_type": "code",
   "execution_count": 6,
   "id": "ffab9977",
   "metadata": {},
   "outputs": [
    {
     "data": {
      "text/plain": [
       "(PRASCore.Results.ShortfallResult{8760, 1, Hour, MWh}(1000, Regions{8760, MW}([\"eastcentral\", \"south\", \"west\"], [34277 31481 … 42663 41874; 18822 18419 … 22231 21852; 27322 27340 … 24483 23602]), ZonedDateTime(2023, 1, 1, tz\"UTC\"):Hour(1):ZonedDateTime(2023, 12, 31, 23, tz\"UTC\"), 3.579, 2.7959929500226886, [3.579, 0.0, 0.0], [2.7959929500226886, 0.0, 0.0], [0.0, 0.0, 0.0, 0.0, 0.0, 0.0, 0.0, 0.0, 0.0, 0.0  …  0.0, 0.0, 0.0, 0.0, 0.0, 0.0, 0.0, 0.0, 0.0, 0.0], [0.0, 0.0, 0.0, 0.0, 0.0, 0.0, 0.0, 0.0, 0.0, 0.0  …  0.0, 0.0, 0.0, 0.0, 0.0, 0.0, 0.0, 0.0, 0.0, 0.0], [0.0 0.0 … 0.0 0.0; 0.0 0.0 … 0.0 0.0; 0.0 0.0 … 0.0 0.0], [0.0 0.0 … 0.0 0.0; 0.0 0.0 … 0.0 0.0; 0.0 0.0 … 0.0 0.0], [0.0 0.0 … 0.0 0.0; 0.0 0.0 … 0.0 0.0; 0.0 0.0 … 0.0 0.0], 5458.351062905071, [5458.351062905071, 0.0, 0.0], [0.0, 0.0, 0.0, 0.0, 0.0, 0.0, 0.0, 0.0, 0.0, 0.0  …  0.0, 0.0, 0.0, 0.0, 0.0, 0.0, 0.0, 0.0, 0.0, 0.0], [0.0 0.0 … 0.0 0.0; 0.0 0.0 … 0.0 0.0; 0.0 0.0 … 0.0 0.0]),)"
      ]
     },
     "execution_count": 6,
     "metadata": {},
     "output_type": "execute_result"
    }
   ],
   "source": [
    "sequential_monte_carlo = SequentialMonteCarlo(samples=1_000, seed=1)\n",
    "shortfalls, = assess(base_system, sequential_monte_carlo, Shortfall())"
   ]
  },
  {
   "cell_type": "code",
   "execution_count": 7,
   "id": "c7fcd570",
   "metadata": {},
   "outputs": [
    {
     "data": {
      "text/plain": [
       "LOLE = 3.58±0.09 event-h/8760h"
      ]
     },
     "execution_count": 7,
     "metadata": {},
     "output_type": "execute_result"
    }
   ],
   "source": [
    "lole_overall = LOLE(shortfalls)"
   ]
  },
  {
   "cell_type": "code",
   "execution_count": 8,
   "id": "2a8f9395",
   "metadata": {},
   "outputs": [
    {
     "data": {
      "text/plain": [
       "EUE = 4600±200 MWh/8760h"
      ]
     },
     "execution_count": 8,
     "metadata": {},
     "output_type": "execute_result"
    }
   ],
   "source": [
    "eue = EUE(shortfalls)"
   ]
  },
  {
   "cell_type": "code",
   "execution_count": null,
   "id": "0e5a455e",
   "metadata": {},
   "outputs": [],
   "source": [
    "# sequential_monte_carlo = SequentialMonteCarlo(samples=10_000, seed=11)\n",
    "# cc_result = assess(base_system, augmented_system, ELCC{EUE}(100, \"Region\"), sequential_monte_carlo)"
   ]
  },
  {
   "cell_type": "code",
   "execution_count": null,
   "id": "52415e3b",
   "metadata": {},
   "outputs": [],
   "source": [
    "# cc_lower, cc_upper = extrema(cc_result)"
   ]
  }
 ],
 "metadata": {
  "kernelspec": {
   "display_name": "Julia 1.10.5 8 threads 1.10.5",
   "language": "julia",
   "name": "julia-1.10.5-8-threads-1.10"
  },
  "language_info": {
   "file_extension": ".jl",
   "mimetype": "application/julia",
   "name": "julia",
   "version": "1.10.5"
  }
 },
 "nbformat": 4,
 "nbformat_minor": 5
}
