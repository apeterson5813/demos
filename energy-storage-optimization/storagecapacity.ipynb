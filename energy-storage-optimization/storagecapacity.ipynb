{
 "cells": [
  {
   "cell_type": "code",
   "execution_count": 13,
   "metadata": {},
   "outputs": [],
   "source": [
    "using CSV\n",
    "using Dates\n",
    "using DataFramesMeta\n",
    "\n",
    "include(\"../data/datacatalog.jl\");"
   ]
  },
  {
   "cell_type": "code",
   "execution_count": 14,
   "metadata": {},
   "outputs": [
    {
     "data": {
      "text/plain": [
       "\"yyyy-mm-ddTHH:MM:SS.s\""
      ]
     },
     "metadata": {},
     "output_type": "display_data"
    }
   ],
   "source": [
    "dtFmt = \"yyyy-mm-ddTHH:MM:SS.s\""
   ]
  },
  {
   "cell_type": "code",
   "execution_count": 15,
   "metadata": {},
   "outputs": [
    {
     "data": {
      "text/plain": [
       "\"8hr\""
      ]
     },
     "metadata": {},
     "output_type": "display_data"
    }
   ],
   "source": [
    "analysisYear = 2024\n",
    "batteryDuration = \"8hr\""
   ]
  },
  {
   "cell_type": "code",
   "execution_count": 24,
   "metadata": {},
   "outputs": [],
   "source": [
    "dispatch = CSV.read(\"$batteryDuration-$analysisYear-cap-bonus-battery-optimization-results.csv\", DataFrame; dateformat=\"yyyy-mm-ddTHH:MM:SS.s\");\n",
    "raHours = CSV.read(\"../Data/MISO RA Hours PY25.csv\", DataFrame; dateformat=\"yyyy-mm-ddTHH:MM:SS.s\");\n",
    "raHours = @chain raHours begin\n",
    "    @rtransform :year = year(:interval_start_est)\n",
    "    @rsubset :year == analysisYear\n",
    "end;\n",
    "raHoursBehavior = leftjoin(raHours, dispatch, on=:interval_start_est);"
   ]
  },
  {
   "cell_type": "code",
   "execution_count": 25,
   "metadata": {},
   "outputs": [
    {
     "data": {
      "text/html": [
       "<div><div style = \"float: left;\"><span>8×11 DataFrame</span></div><div style = \"clear: both;\"></div></div><div class = \"data-frame\" style = \"overflow-x: scroll;\"><table class = \"data-frame\" style = \"margin-bottom: 6px;\"><thead><tr class = \"header\"><th class = \"rowNumber\" style = \"font-weight: bold; text-align: right;\">Row</th><th style = \"text-align: left;\">interval_start_est</th><th style = \"text-align: left;\">season</th><th style = \"text-align: left;\">ra_hour_north_central</th><th style = \"text-align: left;\">ra_hour_south</th><th style = \"text-align: left;\">year</th><th style = \"text-align: left;\">minnHubLmp</th><th style = \"text-align: left;\">charging</th><th style = \"text-align: left;\">discharging</th><th style = \"text-align: left;\">SOCstart</th><th style = \"text-align: left;\">SOCend</th><th style = \"text-align: left;\">cashFlow</th></tr><tr class = \"subheader headerLastRow\"><th class = \"rowNumber\" style = \"font-weight: bold; text-align: right;\"></th><th title = \"DateTime\" style = \"text-align: left;\">DateTime</th><th title = \"String7\" style = \"text-align: left;\">String7</th><th title = \"Int64\" style = \"text-align: left;\">Int64</th><th title = \"Int64\" style = \"text-align: left;\">Int64</th><th title = \"Int64\" style = \"text-align: left;\">Int64</th><th title = \"Union{Missing, Float64}\" style = \"text-align: left;\">Float64?</th><th title = \"Union{Missing, Float64}\" style = \"text-align: left;\">Float64?</th><th title = \"Union{Missing, Float64}\" style = \"text-align: left;\">Float64?</th><th title = \"Union{Missing, Float64}\" style = \"text-align: left;\">Float64?</th><th title = \"Union{Missing, Float64}\" style = \"text-align: left;\">Float64?</th><th title = \"Union{Missing, Float64}\" style = \"text-align: left;\">Float64?</th></tr></thead><tbody><tr><td class = \"rowNumber\" style = \"font-weight: bold; text-align: right;\">1</td><td style = \"text-align: left;\">2024-01-14T20:00:00</td><td style = \"text-align: left;\">Winter</td><td style = \"text-align: right;\">1</td><td style = \"text-align: right;\">0</td><td style = \"text-align: right;\">2024</td><td style = \"text-align: right;\">104.99</td><td style = \"text-align: right;\">3.52941</td><td style = \"text-align: right;\">0.0</td><td style = \"text-align: right;\">50.0</td><td style = \"text-align: right;\">53.5294</td><td style = \"text-align: right;\">-370.553</td></tr><tr><td class = \"rowNumber\" style = \"font-weight: bold; text-align: right;\">2</td><td style = \"text-align: left;\">2024-01-14T21:00:00</td><td style = \"text-align: left;\">Winter</td><td style = \"text-align: right;\">1</td><td style = \"text-align: right;\">0</td><td style = \"text-align: right;\">2024</td><td style = \"text-align: right;\">97.76</td><td style = \"text-align: right;\">10.0</td><td style = \"text-align: right;\">0.0</td><td style = \"text-align: right;\">53.0</td><td style = \"text-align: right;\">63.0</td><td style = \"text-align: right;\">-977.6</td></tr><tr><td class = \"rowNumber\" style = \"font-weight: bold; text-align: right;\">3</td><td style = \"text-align: left;\">2024-01-14T22:00:00</td><td style = \"text-align: left;\">Winter</td><td style = \"text-align: right;\">1</td><td style = \"text-align: right;\">0</td><td style = \"text-align: right;\">2024</td><td style = \"text-align: right;\">93.76</td><td style = \"text-align: right;\">10.0</td><td style = \"text-align: right;\">0.0</td><td style = \"text-align: right;\">61.5</td><td style = \"text-align: right;\">71.5</td><td style = \"text-align: right;\">-937.6</td></tr><tr><td class = \"rowNumber\" style = \"font-weight: bold; text-align: right;\">4</td><td style = \"text-align: left;\">2024-01-15T12:00:00</td><td style = \"text-align: left;\">Winter</td><td style = \"text-align: right;\">1</td><td style = \"text-align: right;\">0</td><td style = \"text-align: right;\">2024</td><td style = \"text-align: right;\">133.45</td><td style = \"text-align: right;\">10.0</td><td style = \"text-align: right;\">0.0</td><td style = \"text-align: right;\">19.9949</td><td style = \"text-align: right;\">29.9949</td><td style = \"text-align: right;\">-1334.5</td></tr><tr><td class = \"rowNumber\" style = \"font-weight: bold; text-align: right;\">5</td><td style = \"text-align: left;\">2024-01-15T22:00:00</td><td style = \"text-align: left;\">Winter</td><td style = \"text-align: right;\">1</td><td style = \"text-align: right;\">0</td><td style = \"text-align: right;\">2024</td><td style = \"text-align: right;\">134.03</td><td style = \"text-align: right;\">2.94713</td><td style = \"text-align: right;\">0.0</td><td style = \"text-align: right;\">22.4949</td><td style = \"text-align: right;\">25.4421</td><td style = \"text-align: right;\">-395.004</td></tr><tr><td class = \"rowNumber\" style = \"font-weight: bold; text-align: right;\">6</td><td style = \"text-align: left;\">2024-01-15T23:00:00</td><td style = \"text-align: left;\">Winter</td><td style = \"text-align: right;\">1</td><td style = \"text-align: right;\">0</td><td style = \"text-align: right;\">2024</td><td style = \"text-align: right;\">108.39</td><td style = \"text-align: right;\">10.0</td><td style = \"text-align: right;\">0.0</td><td style = \"text-align: right;\">25.0</td><td style = \"text-align: right;\">35.0</td><td style = \"text-align: right;\">-1083.9</td></tr><tr><td class = \"rowNumber\" style = \"font-weight: bold; text-align: right;\">7</td><td style = \"text-align: left;\">2024-05-21T13:00:00</td><td style = \"text-align: left;\">Spring</td><td style = \"text-align: right;\">1</td><td style = \"text-align: right;\">0</td><td style = \"text-align: right;\">2024</td><td style = \"text-align: right;\">22.37</td><td style = \"text-align: right;\">10.0</td><td style = \"text-align: right;\">0.0</td><td style = \"text-align: right;\">4.0</td><td style = \"text-align: right;\">14.0</td><td style = \"text-align: right;\">-223.7</td></tr><tr><td class = \"rowNumber\" style = \"font-weight: bold; text-align: right;\">8</td><td style = \"text-align: left;\">2024-05-21T14:00:00</td><td style = \"text-align: left;\">Spring</td><td style = \"text-align: right;\">1</td><td style = \"text-align: right;\">0</td><td style = \"text-align: right;\">2024</td><td style = \"text-align: right;\">22.4</td><td style = \"text-align: right;\">8.82353</td><td style = \"text-align: right;\">0.0</td><td style = \"text-align: right;\">12.5</td><td style = \"text-align: right;\">21.3235</td><td style = \"text-align: right;\">-197.647</td></tr></tbody></table></div>"
      ],
      "text/latex": [
       "\\begin{tabular}{r|ccccccc}\n",
       "\t& interval\\_start\\_est & season & ra\\_hour\\_north\\_central & ra\\_hour\\_south & year & minnHubLmp & \\\\\n",
       "\t\\hline\n",
       "\t& DateTime & String7 & Int64 & Int64 & Int64 & Float64? & \\\\\n",
       "\t\\hline\n",
       "\t1 & 2024-01-14T20:00:00 & Winter & 1 & 0 & 2024 & 104.99 & $\\dots$ \\\\\n",
       "\t2 & 2024-01-14T21:00:00 & Winter & 1 & 0 & 2024 & 97.76 & $\\dots$ \\\\\n",
       "\t3 & 2024-01-14T22:00:00 & Winter & 1 & 0 & 2024 & 93.76 & $\\dots$ \\\\\n",
       "\t4 & 2024-01-15T12:00:00 & Winter & 1 & 0 & 2024 & 133.45 & $\\dots$ \\\\\n",
       "\t5 & 2024-01-15T22:00:00 & Winter & 1 & 0 & 2024 & 134.03 & $\\dots$ \\\\\n",
       "\t6 & 2024-01-15T23:00:00 & Winter & 1 & 0 & 2024 & 108.39 & $\\dots$ \\\\\n",
       "\t7 & 2024-05-21T13:00:00 & Spring & 1 & 0 & 2024 & 22.37 & $\\dots$ \\\\\n",
       "\t8 & 2024-05-21T14:00:00 & Spring & 1 & 0 & 2024 & 22.4 & $\\dots$ \\\\\n",
       "\\end{tabular}\n"
      ],
      "text/plain": [
       "\u001b[1m8×11 DataFrame\u001b[0m\n",
       "\u001b[1m Row \u001b[0m│\u001b[1m interval_start_est  \u001b[0m\u001b[1m season  \u001b[0m\u001b[1m ra_hour_north_central \u001b[0m\u001b[1m ra_hour_south \u001b[0m\u001b[1m yea\u001b[0m ⋯\n",
       "     │\u001b[90m DateTime            \u001b[0m\u001b[90m String7 \u001b[0m\u001b[90m Int64                 \u001b[0m\u001b[90m Int64         \u001b[0m\u001b[90m Int\u001b[0m ⋯\n",
       "─────┼──────────────────────────────────────────────────────────────────────────\n",
       "   1 │ 2024-01-14T20:00:00  Winter                       1              0   20 ⋯\n",
       "   2 │ 2024-01-14T21:00:00  Winter                       1              0   20\n",
       "   3 │ 2024-01-14T22:00:00  Winter                       1              0   20\n",
       "   4 │ 2024-01-15T12:00:00  Winter                       1              0   20\n",
       "   5 │ 2024-01-15T22:00:00  Winter                       1              0   20 ⋯\n",
       "   6 │ 2024-01-15T23:00:00  Winter                       1              0   20\n",
       "   7 │ 2024-05-21T13:00:00  Spring                       1              0   20\n",
       "   8 │ 2024-05-21T14:00:00  Spring                       1              0   20\n",
       "\u001b[36m                                                               7 columns omitted\u001b[0m"
      ]
     },
     "metadata": {},
     "output_type": "display_data"
    }
   ],
   "source": [
    "@rsubset raHoursBehavior begin\n",
    "    :charging > 0.09\n",
    "    :ra_hour_north_central == 1\n",
    "end"
   ]
  },
  {
   "cell_type": "code",
   "execution_count": 26,
   "metadata": {},
   "outputs": [
    {
     "data": {
      "text/html": [
       "<div><div style = \"float: left;\"><span>141×11 DataFrame</span></div><div style = \"float: right;\"><span style = \"font-style: italic;\">116 rows omitted</span></div><div style = \"clear: both;\"></div></div><div class = \"data-frame\" style = \"overflow-x: scroll;\"><table class = \"data-frame\" style = \"margin-bottom: 6px;\"><thead><tr class = \"header\"><th class = \"rowNumber\" style = \"font-weight: bold; text-align: right;\">Row</th><th style = \"text-align: left;\">interval_start_est</th><th style = \"text-align: left;\">season</th><th style = \"text-align: left;\">ra_hour_north_central</th><th style = \"text-align: left;\">ra_hour_south</th><th style = \"text-align: left;\">year</th><th style = \"text-align: left;\">minnHubLmp</th><th style = \"text-align: left;\">charging</th><th style = \"text-align: left;\">discharging</th><th style = \"text-align: left;\">SOCstart</th><th style = \"text-align: left;\">SOCend</th><th style = \"text-align: left;\">cashFlow</th></tr><tr class = \"subheader headerLastRow\"><th class = \"rowNumber\" style = \"font-weight: bold; text-align: right;\"></th><th title = \"DateTime\" style = \"text-align: left;\">DateTime</th><th title = \"String7\" style = \"text-align: left;\">String7</th><th title = \"Int64\" style = \"text-align: left;\">Int64</th><th title = \"Int64\" style = \"text-align: left;\">Int64</th><th title = \"Int64\" style = \"text-align: left;\">Int64</th><th title = \"Union{Missing, Float64}\" style = \"text-align: left;\">Float64?</th><th title = \"Union{Missing, Float64}\" style = \"text-align: left;\">Float64?</th><th title = \"Union{Missing, Float64}\" style = \"text-align: left;\">Float64?</th><th title = \"Union{Missing, Float64}\" style = \"text-align: left;\">Float64?</th><th title = \"Union{Missing, Float64}\" style = \"text-align: left;\">Float64?</th><th title = \"Union{Missing, Float64}\" style = \"text-align: left;\">Float64?</th></tr></thead><tbody><tr><td class = \"rowNumber\" style = \"font-weight: bold; text-align: right;\">1</td><td style = \"text-align: left;\">2024-01-14T18:00:00</td><td style = \"text-align: left;\">Winter</td><td style = \"text-align: right;\">1</td><td style = \"text-align: right;\">0</td><td style = \"text-align: right;\">2024</td><td style = \"text-align: right;\">146.65</td><td style = \"text-align: right;\">0.0</td><td style = \"text-align: right;\">10.0</td><td style = \"text-align: right;\">70.0</td><td style = \"text-align: right;\">60.0</td><td style = \"text-align: right;\">1466.5</td></tr><tr><td class = \"rowNumber\" style = \"font-weight: bold; text-align: right;\">2</td><td style = \"text-align: left;\">2024-01-14T19:00:00</td><td style = \"text-align: left;\">Winter</td><td style = \"text-align: right;\">1</td><td style = \"text-align: right;\">0</td><td style = \"text-align: right;\">2024</td><td style = \"text-align: right;\">124.82</td><td style = \"text-align: right;\">0.0</td><td style = \"text-align: right;\">10.0</td><td style = \"text-align: right;\">60.0</td><td style = \"text-align: right;\">50.0</td><td style = \"text-align: right;\">1248.2</td></tr><tr><td class = \"rowNumber\" style = \"font-weight: bold; text-align: right;\">3</td><td style = \"text-align: left;\">2024-01-15T07:00:00</td><td style = \"text-align: left;\">Winter</td><td style = \"text-align: right;\">1</td><td style = \"text-align: right;\">0</td><td style = \"text-align: right;\">2024</td><td style = \"text-align: right;\">185.55</td><td style = \"text-align: right;\">0.0</td><td style = \"text-align: right;\">10.0</td><td style = \"text-align: right;\">69.9949</td><td style = \"text-align: right;\">59.9949</td><td style = \"text-align: right;\">1855.5</td></tr><tr><td class = \"rowNumber\" style = \"font-weight: bold; text-align: right;\">4</td><td style = \"text-align: left;\">2024-01-15T08:00:00</td><td style = \"text-align: left;\">Winter</td><td style = \"text-align: right;\">1</td><td style = \"text-align: right;\">0</td><td style = \"text-align: right;\">2024</td><td style = \"text-align: right;\">199.03</td><td style = \"text-align: right;\">0.0</td><td style = \"text-align: right;\">10.0</td><td style = \"text-align: right;\">59.9949</td><td style = \"text-align: right;\">49.9949</td><td style = \"text-align: right;\">1990.3</td></tr><tr><td class = \"rowNumber\" style = \"font-weight: bold; text-align: right;\">5</td><td style = \"text-align: left;\">2024-01-15T09:00:00</td><td style = \"text-align: left;\">Winter</td><td style = \"text-align: right;\">1</td><td style = \"text-align: right;\">0</td><td style = \"text-align: right;\">2024</td><td style = \"text-align: right;\">190.24</td><td style = \"text-align: right;\">0.0</td><td style = \"text-align: right;\">10.0</td><td style = \"text-align: right;\">49.9949</td><td style = \"text-align: right;\">39.9949</td><td style = \"text-align: right;\">1902.4</td></tr><tr><td class = \"rowNumber\" style = \"font-weight: bold; text-align: right;\">6</td><td style = \"text-align: left;\">2024-01-15T10:00:00</td><td style = \"text-align: left;\">Winter</td><td style = \"text-align: right;\">1</td><td style = \"text-align: right;\">0</td><td style = \"text-align: right;\">2024</td><td style = \"text-align: right;\">169.93</td><td style = \"text-align: right;\">0.0</td><td style = \"text-align: right;\">10.0</td><td style = \"text-align: right;\">39.9949</td><td style = \"text-align: right;\">29.9949</td><td style = \"text-align: right;\">1699.3</td></tr><tr><td class = \"rowNumber\" style = \"font-weight: bold; text-align: right;\">7</td><td style = \"text-align: left;\">2024-01-15T11:00:00</td><td style = \"text-align: left;\">Winter</td><td style = \"text-align: right;\">1</td><td style = \"text-align: right;\">0</td><td style = \"text-align: right;\">2024</td><td style = \"text-align: right;\">169.86</td><td style = \"text-align: right;\">0.0</td><td style = \"text-align: right;\">10.0</td><td style = \"text-align: right;\">29.9949</td><td style = \"text-align: right;\">19.9949</td><td style = \"text-align: right;\">1698.6</td></tr><tr><td class = \"rowNumber\" style = \"font-weight: bold; text-align: right;\">8</td><td style = \"text-align: left;\">2024-01-15T17:00:00</td><td style = \"text-align: left;\">Winter</td><td style = \"text-align: right;\">1</td><td style = \"text-align: right;\">0</td><td style = \"text-align: right;\">2024</td><td style = \"text-align: right;\">162.12</td><td style = \"text-align: right;\">0.0</td><td style = \"text-align: right;\">10.0</td><td style = \"text-align: right;\">62.4949</td><td style = \"text-align: right;\">52.4949</td><td style = \"text-align: right;\">1621.2</td></tr><tr><td class = \"rowNumber\" style = \"font-weight: bold; text-align: right;\">9</td><td style = \"text-align: left;\">2024-01-15T18:00:00</td><td style = \"text-align: left;\">Winter</td><td style = \"text-align: right;\">1</td><td style = \"text-align: right;\">0</td><td style = \"text-align: right;\">2024</td><td style = \"text-align: right;\">180.0</td><td style = \"text-align: right;\">0.0</td><td style = \"text-align: right;\">10.0</td><td style = \"text-align: right;\">52.4949</td><td style = \"text-align: right;\">42.4949</td><td style = \"text-align: right;\">1800.0</td></tr><tr><td class = \"rowNumber\" style = \"font-weight: bold; text-align: right;\">10</td><td style = \"text-align: left;\">2024-01-15T19:00:00</td><td style = \"text-align: left;\">Winter</td><td style = \"text-align: right;\">1</td><td style = \"text-align: right;\">0</td><td style = \"text-align: right;\">2024</td><td style = \"text-align: right;\">173.0</td><td style = \"text-align: right;\">0.0</td><td style = \"text-align: right;\">10.0</td><td style = \"text-align: right;\">42.4949</td><td style = \"text-align: right;\">32.4949</td><td style = \"text-align: right;\">1730.0</td></tr><tr><td class = \"rowNumber\" style = \"font-weight: bold; text-align: right;\">11</td><td style = \"text-align: left;\">2024-01-15T20:00:00</td><td style = \"text-align: left;\">Winter</td><td style = \"text-align: right;\">1</td><td style = \"text-align: right;\">0</td><td style = \"text-align: right;\">2024</td><td style = \"text-align: right;\">159.68</td><td style = \"text-align: right;\">0.0</td><td style = \"text-align: right;\">10.0</td><td style = \"text-align: right;\">32.4949</td><td style = \"text-align: right;\">22.4949</td><td style = \"text-align: right;\">1596.8</td></tr><tr><td class = \"rowNumber\" style = \"font-weight: bold; text-align: right;\">12</td><td style = \"text-align: left;\">2024-01-16T08:00:00</td><td style = \"text-align: left;\">Winter</td><td style = \"text-align: right;\">1</td><td style = \"text-align: right;\">1</td><td style = \"text-align: right;\">2024</td><td style = \"text-align: right;\">211.84</td><td style = \"text-align: right;\">0.0</td><td style = \"text-align: right;\">10.0</td><td style = \"text-align: right;\">56.0</td><td style = \"text-align: right;\">46.0</td><td style = \"text-align: right;\">2118.4</td></tr><tr><td class = \"rowNumber\" style = \"font-weight: bold; text-align: right;\">13</td><td style = \"text-align: left;\">2024-01-16T09:00:00</td><td style = \"text-align: left;\">Winter</td><td style = \"text-align: right;\">1</td><td style = \"text-align: right;\">0</td><td style = \"text-align: right;\">2024</td><td style = \"text-align: right;\">196.35</td><td style = \"text-align: right;\">0.0</td><td style = \"text-align: right;\">10.0</td><td style = \"text-align: right;\">46.0</td><td style = \"text-align: right;\">36.0</td><td style = \"text-align: right;\">1963.5</td></tr><tr><td style = \"text-align: right;\">&vellip;</td><td style = \"text-align: right;\">&vellip;</td><td style = \"text-align: right;\">&vellip;</td><td style = \"text-align: right;\">&vellip;</td><td style = \"text-align: right;\">&vellip;</td><td style = \"text-align: right;\">&vellip;</td><td style = \"text-align: right;\">&vellip;</td><td style = \"text-align: right;\">&vellip;</td><td style = \"text-align: right;\">&vellip;</td><td style = \"text-align: right;\">&vellip;</td><td style = \"text-align: right;\">&vellip;</td><td style = \"text-align: right;\">&vellip;</td></tr><tr><td class = \"rowNumber\" style = \"font-weight: bold; text-align: right;\">130</td><td style = \"text-align: left;\">2024-08-26T15:00:00</td><td style = \"text-align: left;\">Summer</td><td style = \"text-align: right;\">1</td><td style = \"text-align: right;\">0</td><td style = \"text-align: right;\">2024</td><td style = \"text-align: right;\">137.53</td><td style = \"text-align: right;\">0.0</td><td style = \"text-align: right;\">10.0</td><td style = \"text-align: right;\">50.0</td><td style = \"text-align: right;\">40.0</td><td style = \"text-align: right;\">1375.3</td></tr><tr><td class = \"rowNumber\" style = \"font-weight: bold; text-align: right;\">131</td><td style = \"text-align: left;\">2024-08-26T16:00:00</td><td style = \"text-align: left;\">Summer</td><td style = \"text-align: right;\">1</td><td style = \"text-align: right;\">0</td><td style = \"text-align: right;\">2024</td><td style = \"text-align: right;\">157.1</td><td style = \"text-align: right;\">0.0</td><td style = \"text-align: right;\">10.0</td><td style = \"text-align: right;\">40.0</td><td style = \"text-align: right;\">30.0</td><td style = \"text-align: right;\">1571.0</td></tr><tr><td class = \"rowNumber\" style = \"font-weight: bold; text-align: right;\">132</td><td style = \"text-align: left;\">2024-08-26T17:00:00</td><td style = \"text-align: left;\">Summer</td><td style = \"text-align: right;\">1</td><td style = \"text-align: right;\">0</td><td style = \"text-align: right;\">2024</td><td style = \"text-align: right;\">160.95</td><td style = \"text-align: right;\">0.0</td><td style = \"text-align: right;\">10.0</td><td style = \"text-align: right;\">30.0</td><td style = \"text-align: right;\">20.0</td><td style = \"text-align: right;\">1609.5</td></tr><tr><td class = \"rowNumber\" style = \"font-weight: bold; text-align: right;\">133</td><td style = \"text-align: left;\">2024-08-26T18:00:00</td><td style = \"text-align: left;\">Summer</td><td style = \"text-align: right;\">1</td><td style = \"text-align: right;\">0</td><td style = \"text-align: right;\">2024</td><td style = \"text-align: right;\">149.24</td><td style = \"text-align: right;\">0.0</td><td style = \"text-align: right;\">10.0</td><td style = \"text-align: right;\">20.0</td><td style = \"text-align: right;\">10.0</td><td style = \"text-align: right;\">1492.4</td></tr><tr><td class = \"rowNumber\" style = \"font-weight: bold; text-align: right;\">134</td><td style = \"text-align: left;\">2024-08-26T19:00:00</td><td style = \"text-align: left;\">Summer</td><td style = \"text-align: right;\">1</td><td style = \"text-align: right;\">0</td><td style = \"text-align: right;\">2024</td><td style = \"text-align: right;\">118.39</td><td style = \"text-align: right;\">0.0</td><td style = \"text-align: right;\">10.0</td><td style = \"text-align: right;\">10.0</td><td style = \"text-align: right;\">0.0</td><td style = \"text-align: right;\">1183.9</td></tr><tr><td class = \"rowNumber\" style = \"font-weight: bold; text-align: right;\">135</td><td style = \"text-align: left;\">2024-08-27T13:00:00</td><td style = \"text-align: left;\">Summer</td><td style = \"text-align: right;\">1</td><td style = \"text-align: right;\">0</td><td style = \"text-align: right;\">2024</td><td style = \"text-align: right;\">86.08</td><td style = \"text-align: right;\">0.0</td><td style = \"text-align: right;\">10.0</td><td style = \"text-align: right;\">70.0</td><td style = \"text-align: right;\">60.0</td><td style = \"text-align: right;\">860.8</td></tr><tr><td class = \"rowNumber\" style = \"font-weight: bold; text-align: right;\">136</td><td style = \"text-align: left;\">2024-08-27T14:00:00</td><td style = \"text-align: left;\">Summer</td><td style = \"text-align: right;\">1</td><td style = \"text-align: right;\">0</td><td style = \"text-align: right;\">2024</td><td style = \"text-align: right;\">108.11</td><td style = \"text-align: right;\">0.0</td><td style = \"text-align: right;\">10.0</td><td style = \"text-align: right;\">60.0</td><td style = \"text-align: right;\">50.0</td><td style = \"text-align: right;\">1081.1</td></tr><tr><td class = \"rowNumber\" style = \"font-weight: bold; text-align: right;\">137</td><td style = \"text-align: left;\">2024-08-27T15:00:00</td><td style = \"text-align: left;\">Summer</td><td style = \"text-align: right;\">1</td><td style = \"text-align: right;\">0</td><td style = \"text-align: right;\">2024</td><td style = \"text-align: right;\">130.44</td><td style = \"text-align: right;\">0.0</td><td style = \"text-align: right;\">10.0</td><td style = \"text-align: right;\">50.0</td><td style = \"text-align: right;\">40.0</td><td style = \"text-align: right;\">1304.4</td></tr><tr><td class = \"rowNumber\" style = \"font-weight: bold; text-align: right;\">138</td><td style = \"text-align: left;\">2024-08-27T16:00:00</td><td style = \"text-align: left;\">Summer</td><td style = \"text-align: right;\">1</td><td style = \"text-align: right;\">0</td><td style = \"text-align: right;\">2024</td><td style = \"text-align: right;\">153.03</td><td style = \"text-align: right;\">0.0</td><td style = \"text-align: right;\">10.0</td><td style = \"text-align: right;\">40.0</td><td style = \"text-align: right;\">30.0</td><td style = \"text-align: right;\">1530.3</td></tr><tr><td class = \"rowNumber\" style = \"font-weight: bold; text-align: right;\">139</td><td style = \"text-align: left;\">2024-08-27T17:00:00</td><td style = \"text-align: left;\">Summer</td><td style = \"text-align: right;\">1</td><td style = \"text-align: right;\">0</td><td style = \"text-align: right;\">2024</td><td style = \"text-align: right;\">146.11</td><td style = \"text-align: right;\">0.0</td><td style = \"text-align: right;\">10.0</td><td style = \"text-align: right;\">30.0</td><td style = \"text-align: right;\">20.0</td><td style = \"text-align: right;\">1461.1</td></tr><tr><td class = \"rowNumber\" style = \"font-weight: bold; text-align: right;\">140</td><td style = \"text-align: left;\">2024-08-27T18:00:00</td><td style = \"text-align: left;\">Summer</td><td style = \"text-align: right;\">1</td><td style = \"text-align: right;\">0</td><td style = \"text-align: right;\">2024</td><td style = \"text-align: right;\">146.8</td><td style = \"text-align: right;\">0.0</td><td style = \"text-align: right;\">10.0</td><td style = \"text-align: right;\">20.0</td><td style = \"text-align: right;\">10.0</td><td style = \"text-align: right;\">1468.0</td></tr><tr><td class = \"rowNumber\" style = \"font-weight: bold; text-align: right;\">141</td><td style = \"text-align: left;\">2024-08-27T19:00:00</td><td style = \"text-align: left;\">Summer</td><td style = \"text-align: right;\">1</td><td style = \"text-align: right;\">0</td><td style = \"text-align: right;\">2024</td><td style = \"text-align: right;\">92.66</td><td style = \"text-align: right;\">0.0</td><td style = \"text-align: right;\">10.0</td><td style = \"text-align: right;\">10.0</td><td style = \"text-align: right;\">0.0</td><td style = \"text-align: right;\">926.6</td></tr></tbody></table></div>"
      ],
      "text/latex": [
       "\\begin{tabular}{r|ccccccc}\n",
       "\t& interval\\_start\\_est & season & ra\\_hour\\_north\\_central & ra\\_hour\\_south & year & minnHubLmp & \\\\\n",
       "\t\\hline\n",
       "\t& DateTime & String7 & Int64 & Int64 & Int64 & Float64? & \\\\\n",
       "\t\\hline\n",
       "\t1 & 2024-01-14T18:00:00 & Winter & 1 & 0 & 2024 & 146.65 & $\\dots$ \\\\\n",
       "\t2 & 2024-01-14T19:00:00 & Winter & 1 & 0 & 2024 & 124.82 & $\\dots$ \\\\\n",
       "\t3 & 2024-01-15T07:00:00 & Winter & 1 & 0 & 2024 & 185.55 & $\\dots$ \\\\\n",
       "\t4 & 2024-01-15T08:00:00 & Winter & 1 & 0 & 2024 & 199.03 & $\\dots$ \\\\\n",
       "\t5 & 2024-01-15T09:00:00 & Winter & 1 & 0 & 2024 & 190.24 & $\\dots$ \\\\\n",
       "\t6 & 2024-01-15T10:00:00 & Winter & 1 & 0 & 2024 & 169.93 & $\\dots$ \\\\\n",
       "\t7 & 2024-01-15T11:00:00 & Winter & 1 & 0 & 2024 & 169.86 & $\\dots$ \\\\\n",
       "\t8 & 2024-01-15T17:00:00 & Winter & 1 & 0 & 2024 & 162.12 & $\\dots$ \\\\\n",
       "\t9 & 2024-01-15T18:00:00 & Winter & 1 & 0 & 2024 & 180.0 & $\\dots$ \\\\\n",
       "\t10 & 2024-01-15T19:00:00 & Winter & 1 & 0 & 2024 & 173.0 & $\\dots$ \\\\\n",
       "\t11 & 2024-01-15T20:00:00 & Winter & 1 & 0 & 2024 & 159.68 & $\\dots$ \\\\\n",
       "\t12 & 2024-01-16T08:00:00 & Winter & 1 & 1 & 2024 & 211.84 & $\\dots$ \\\\\n",
       "\t13 & 2024-01-16T09:00:00 & Winter & 1 & 0 & 2024 & 196.35 & $\\dots$ \\\\\n",
       "\t14 & 2024-01-16T10:00:00 & Winter & 1 & 1 & 2024 & 184.49 & $\\dots$ \\\\\n",
       "\t15 & 2024-01-16T11:00:00 & Winter & 1 & 0 & 2024 & 162.3 & $\\dots$ \\\\\n",
       "\t16 & 2024-01-16T18:00:00 & Winter & 1 & 0 & 2024 & 205.37 & $\\dots$ \\\\\n",
       "\t17 & 2024-01-16T19:00:00 & Winter & 1 & 0 & 2024 & 198.76 & $\\dots$ \\\\\n",
       "\t18 & 2024-01-16T20:00:00 & Winter & 1 & 0 & 2024 & 190.03 & $\\dots$ \\\\\n",
       "\t19 & 2024-01-16T21:00:00 & Winter & 1 & 0 & 2024 & 182.7 & $\\dots$ \\\\\n",
       "\t20 & 2024-01-17T07:00:00 & Winter & 1 & 1 & 2024 & 191.47 & $\\dots$ \\\\\n",
       "\t21 & 2024-01-17T08:00:00 & Winter & 1 & 1 & 2024 & 222.81 & $\\dots$ \\\\\n",
       "\t22 & 2024-01-17T09:00:00 & Winter & 1 & 1 & 2024 & 185.23 & $\\dots$ \\\\\n",
       "\t23 & 2024-01-17T17:00:00 & Winter & 1 & 0 & 2024 & 183.82 & $\\dots$ \\\\\n",
       "\t24 & 2024-01-17T18:00:00 & Winter & 1 & 0 & 2024 & 224.77 & $\\dots$ \\\\\n",
       "\t$\\dots$ & $\\dots$ & $\\dots$ & $\\dots$ & $\\dots$ & $\\dots$ & $\\dots$ &  \\\\\n",
       "\\end{tabular}\n"
      ],
      "text/plain": [
       "\u001b[1m141×11 DataFrame\u001b[0m\n",
       "\u001b[1m Row \u001b[0m│\u001b[1m interval_start_est  \u001b[0m\u001b[1m season  \u001b[0m\u001b[1m ra_hour_north_central \u001b[0m\u001b[1m ra_hour_south \u001b[0m\u001b[1m yea\u001b[0m ⋯\n",
       "     │\u001b[90m DateTime            \u001b[0m\u001b[90m String7 \u001b[0m\u001b[90m Int64                 \u001b[0m\u001b[90m Int64         \u001b[0m\u001b[90m Int\u001b[0m ⋯\n",
       "─────┼──────────────────────────────────────────────────────────────────────────\n",
       "   1 │ 2024-01-14T18:00:00  Winter                       1              0   20 ⋯\n",
       "   2 │ 2024-01-14T19:00:00  Winter                       1              0   20\n",
       "   3 │ 2024-01-15T07:00:00  Winter                       1              0   20\n",
       "   4 │ 2024-01-15T08:00:00  Winter                       1              0   20\n",
       "   5 │ 2024-01-15T09:00:00  Winter                       1              0   20 ⋯\n",
       "   6 │ 2024-01-15T10:00:00  Winter                       1              0   20\n",
       "   7 │ 2024-01-15T11:00:00  Winter                       1              0   20\n",
       "   8 │ 2024-01-15T17:00:00  Winter                       1              0   20\n",
       "  ⋮  │          ⋮              ⋮               ⋮                  ⋮          ⋮ ⋱\n",
       " 135 │ 2024-08-27T13:00:00  Summer                       1              0   20 ⋯\n",
       " 136 │ 2024-08-27T14:00:00  Summer                       1              0   20\n",
       " 137 │ 2024-08-27T15:00:00  Summer                       1              0   20\n",
       " 138 │ 2024-08-27T16:00:00  Summer                       1              0   20\n",
       " 139 │ 2024-08-27T17:00:00  Summer                       1              0   20 ⋯\n",
       " 140 │ 2024-08-27T18:00:00  Summer                       1              0   20\n",
       " 141 │ 2024-08-27T19:00:00  Summer                       1              0   20\n",
       "\u001b[36m                                                  7 columns and 126 rows omitted\u001b[0m"
      ]
     },
     "metadata": {},
     "output_type": "display_data"
    }
   ],
   "source": [
    "@rsubset raHoursBehavior begin\n",
    "    :discharging > 0.09\n",
    "    :ra_hour_north_central == 1\n",
    "end"
   ]
  },
  {
   "cell_type": "code",
   "execution_count": 7,
   "metadata": {},
   "outputs": [
    {
     "data": {
      "text/html": [
       "<div><div style = \"float: left;\"><span>1694×11 DataFrame</span></div><div style = \"float: right;\"><span style = \"font-style: italic;\">1669 rows omitted</span></div><div style = \"clear: both;\"></div></div><div class = \"data-frame\" style = \"overflow-x: scroll;\"><table class = \"data-frame\" style = \"margin-bottom: 6px;\"><thead><tr class = \"header\"><th class = \"rowNumber\" style = \"font-weight: bold; text-align: right;\">Row</th><th style = \"text-align: left;\">interval_start_est</th><th style = \"text-align: left;\">season</th><th style = \"text-align: left;\">ra_hour_north_central</th><th style = \"text-align: left;\">ra_hour_south</th><th style = \"text-align: left;\">year</th><th style = \"text-align: left;\">minnHubLmp</th><th style = \"text-align: left;\">charging</th><th style = \"text-align: left;\">discharging</th><th style = \"text-align: left;\">SOCstart</th><th style = \"text-align: left;\">SOCend</th><th style = \"text-align: left;\">cashFlow</th></tr><tr class = \"subheader headerLastRow\"><th class = \"rowNumber\" style = \"font-weight: bold; text-align: right;\"></th><th title = \"DateTime\" style = \"text-align: left;\">DateTime</th><th title = \"String7\" style = \"text-align: left;\">String7</th><th title = \"Int64\" style = \"text-align: left;\">Int64</th><th title = \"Int64\" style = \"text-align: left;\">Int64</th><th title = \"Int64\" style = \"text-align: left;\">Int64</th><th title = \"Union{Missing, Float64}\" style = \"text-align: left;\">Float64?</th><th title = \"Union{Missing, Float64}\" style = \"text-align: left;\">Float64?</th><th title = \"Union{Missing, Float64}\" style = \"text-align: left;\">Float64?</th><th title = \"Union{Missing, Float64}\" style = \"text-align: left;\">Float64?</th><th title = \"Union{Missing, Float64}\" style = \"text-align: left;\">Float64?</th><th title = \"Union{Missing, Float64}\" style = \"text-align: left;\">Float64?</th></tr></thead><tbody><tr><td class = \"rowNumber\" style = \"font-weight: bold; text-align: right;\">1</td><td style = \"text-align: left;\">2024-01-01T00:00:00</td><td style = \"text-align: left;\">Winter</td><td style = \"text-align: right;\">0</td><td style = \"text-align: right;\">0</td><td style = \"text-align: right;\">2024</td><td style = \"text-align: right;\">24.82</td><td style = \"text-align: right;\">0.0</td><td style = \"text-align: right;\">0.0</td><td style = \"text-align: right;\">0.0</td><td style = \"text-align: right;\">0.0</td><td style = \"text-align: right;\">0.0</td></tr><tr><td class = \"rowNumber\" style = \"font-weight: bold; text-align: right;\">2</td><td style = \"text-align: left;\">2024-01-01T02:00:00</td><td style = \"text-align: left;\">Winter</td><td style = \"text-align: right;\">0</td><td style = \"text-align: right;\">0</td><td style = \"text-align: right;\">2024</td><td style = \"text-align: right;\">24.82</td><td style = \"text-align: right;\">0.0</td><td style = \"text-align: right;\">0.0</td><td style = \"text-align: right;\">8.5</td><td style = \"text-align: right;\">8.5</td><td style = \"text-align: right;\">0.0</td></tr><tr><td class = \"rowNumber\" style = \"font-weight: bold; text-align: right;\">3</td><td style = \"text-align: left;\">2024-01-01T03:00:00</td><td style = \"text-align: left;\">Winter</td><td style = \"text-align: right;\">0</td><td style = \"text-align: right;\">0</td><td style = \"text-align: right;\">2024</td><td style = \"text-align: right;\">24.78</td><td style = \"text-align: right;\">0.0</td><td style = \"text-align: right;\">0.0</td><td style = \"text-align: right;\">8.5</td><td style = \"text-align: right;\">8.5</td><td style = \"text-align: right;\">0.0</td></tr><tr><td class = \"rowNumber\" style = \"font-weight: bold; text-align: right;\">4</td><td style = \"text-align: left;\">2024-01-01T04:00:00</td><td style = \"text-align: left;\">Winter</td><td style = \"text-align: right;\">0</td><td style = \"text-align: right;\">0</td><td style = \"text-align: right;\">2024</td><td style = \"text-align: right;\">25.01</td><td style = \"text-align: right;\">0.0</td><td style = \"text-align: right;\">0.0</td><td style = \"text-align: right;\">8.5</td><td style = \"text-align: right;\">8.5</td><td style = \"text-align: right;\">0.0</td></tr><tr><td class = \"rowNumber\" style = \"font-weight: bold; text-align: right;\">5</td><td style = \"text-align: left;\">2024-01-01T05:00:00</td><td style = \"text-align: left;\">Winter</td><td style = \"text-align: right;\">0</td><td style = \"text-align: right;\">0</td><td style = \"text-align: right;\">2024</td><td style = \"text-align: right;\">24.63</td><td style = \"text-align: right;\">0.0</td><td style = \"text-align: right;\">0.0</td><td style = \"text-align: right;\">8.5</td><td style = \"text-align: right;\">8.5</td><td style = \"text-align: right;\">0.0</td></tr><tr><td class = \"rowNumber\" style = \"font-weight: bold; text-align: right;\">6</td><td style = \"text-align: left;\">2024-01-01T06:00:00</td><td style = \"text-align: left;\">Winter</td><td style = \"text-align: right;\">0</td><td style = \"text-align: right;\">0</td><td style = \"text-align: right;\">2024</td><td style = \"text-align: right;\">26.09</td><td style = \"text-align: right;\">0.0</td><td style = \"text-align: right;\">0.0</td><td style = \"text-align: right;\">8.5</td><td style = \"text-align: right;\">8.5</td><td style = \"text-align: right;\">0.0</td></tr><tr><td class = \"rowNumber\" style = \"font-weight: bold; text-align: right;\">7</td><td style = \"text-align: left;\">2024-01-01T07:00:00</td><td style = \"text-align: left;\">Winter</td><td style = \"text-align: right;\">0</td><td style = \"text-align: right;\">0</td><td style = \"text-align: right;\">2024</td><td style = \"text-align: right;\">28.01</td><td style = \"text-align: right;\">0.0</td><td style = \"text-align: right;\">0.0</td><td style = \"text-align: right;\">8.5</td><td style = \"text-align: right;\">8.5</td><td style = \"text-align: right;\">0.0</td></tr><tr><td class = \"rowNumber\" style = \"font-weight: bold; text-align: right;\">8</td><td style = \"text-align: left;\">2024-01-01T09:00:00</td><td style = \"text-align: left;\">Winter</td><td style = \"text-align: right;\">0</td><td style = \"text-align: right;\">0</td><td style = \"text-align: right;\">2024</td><td style = \"text-align: right;\">25.53</td><td style = \"text-align: right;\">0.0</td><td style = \"text-align: right;\">0.0</td><td style = \"text-align: right;\">0.0</td><td style = \"text-align: right;\">0.0</td><td style = \"text-align: right;\">0.0</td></tr><tr><td class = \"rowNumber\" style = \"font-weight: bold; text-align: right;\">9</td><td style = \"text-align: left;\">2024-01-01T10:00:00</td><td style = \"text-align: left;\">Winter</td><td style = \"text-align: right;\">0</td><td style = \"text-align: right;\">0</td><td style = \"text-align: right;\">2024</td><td style = \"text-align: right;\">25.26</td><td style = \"text-align: right;\">0.0</td><td style = \"text-align: right;\">0.0</td><td style = \"text-align: right;\">0.0</td><td style = \"text-align: right;\">0.0</td><td style = \"text-align: right;\">0.0</td></tr><tr><td class = \"rowNumber\" style = \"font-weight: bold; text-align: right;\">10</td><td style = \"text-align: left;\">2024-01-01T11:00:00</td><td style = \"text-align: left;\">Winter</td><td style = \"text-align: right;\">0</td><td style = \"text-align: right;\">0</td><td style = \"text-align: right;\">2024</td><td style = \"text-align: right;\">23.94</td><td style = \"text-align: right;\">0.0</td><td style = \"text-align: right;\">0.0</td><td style = \"text-align: right;\">0.0</td><td style = \"text-align: right;\">0.0</td><td style = \"text-align: right;\">0.0</td></tr><tr><td class = \"rowNumber\" style = \"font-weight: bold; text-align: right;\">11</td><td style = \"text-align: left;\">2024-01-01T12:00:00</td><td style = \"text-align: left;\">Winter</td><td style = \"text-align: right;\">0</td><td style = \"text-align: right;\">0</td><td style = \"text-align: right;\">2024</td><td style = \"text-align: right;\">22.88</td><td style = \"text-align: right;\">0.0</td><td style = \"text-align: right;\">0.0</td><td style = \"text-align: right;\">0.0</td><td style = \"text-align: right;\">0.0</td><td style = \"text-align: right;\">0.0</td></tr><tr><td class = \"rowNumber\" style = \"font-weight: bold; text-align: right;\">12</td><td style = \"text-align: left;\">2024-01-01T13:00:00</td><td style = \"text-align: left;\">Winter</td><td style = \"text-align: right;\">0</td><td style = \"text-align: right;\">0</td><td style = \"text-align: right;\">2024</td><td style = \"text-align: right;\">22.25</td><td style = \"text-align: right;\">0.0</td><td style = \"text-align: right;\">0.0</td><td style = \"text-align: right;\">0.0</td><td style = \"text-align: right;\">0.0</td><td style = \"text-align: right;\">0.0</td></tr><tr><td class = \"rowNumber\" style = \"font-weight: bold; text-align: right;\">13</td><td style = \"text-align: left;\">2024-01-01T14:00:00</td><td style = \"text-align: left;\">Winter</td><td style = \"text-align: right;\">0</td><td style = \"text-align: right;\">0</td><td style = \"text-align: right;\">2024</td><td style = \"text-align: right;\">21.47</td><td style = \"text-align: right;\">0.0</td><td style = \"text-align: right;\">0.0</td><td style = \"text-align: right;\">0.0</td><td style = \"text-align: right;\">0.0</td><td style = \"text-align: right;\">0.0</td></tr><tr><td style = \"text-align: right;\">&vellip;</td><td style = \"text-align: right;\">&vellip;</td><td style = \"text-align: right;\">&vellip;</td><td style = \"text-align: right;\">&vellip;</td><td style = \"text-align: right;\">&vellip;</td><td style = \"text-align: right;\">&vellip;</td><td style = \"text-align: right;\">&vellip;</td><td style = \"text-align: right;\">&vellip;</td><td style = \"text-align: right;\">&vellip;</td><td style = \"text-align: right;\">&vellip;</td><td style = \"text-align: right;\">&vellip;</td><td style = \"text-align: right;\">&vellip;</td></tr><tr><td class = \"rowNumber\" style = \"font-weight: bold; text-align: right;\">1683</td><td style = \"text-align: left;\">2024-08-26T22:00:00</td><td style = \"text-align: left;\">Summer</td><td style = \"text-align: right;\">0</td><td style = \"text-align: right;\">0</td><td style = \"text-align: right;\">2024</td><td style = \"text-align: right;\">35.35</td><td style = \"text-align: right;\">0.0</td><td style = \"text-align: right;\">0.0</td><td style = \"text-align: right;\">0.0</td><td style = \"text-align: right;\">0.0</td><td style = \"text-align: right;\">0.0</td></tr><tr><td class = \"rowNumber\" style = \"font-weight: bold; text-align: right;\">1684</td><td style = \"text-align: left;\">2024-08-27T11:00:00</td><td style = \"text-align: left;\">Summer</td><td style = \"text-align: right;\">0</td><td style = \"text-align: right;\">0</td><td style = \"text-align: right;\">2024</td><td style = \"text-align: right;\">61.8</td><td style = \"text-align: right;\">0.0</td><td style = \"text-align: right;\">0.0</td><td style = \"text-align: right;\">79.9213</td><td style = \"text-align: right;\">79.9213</td><td style = \"text-align: right;\">0.0</td></tr><tr><td class = \"rowNumber\" style = \"font-weight: bold; text-align: right;\">1685</td><td style = \"text-align: left;\">2024-08-27T20:00:00</td><td style = \"text-align: left;\">Summer</td><td style = \"text-align: right;\">0</td><td style = \"text-align: right;\">0</td><td style = \"text-align: right;\">2024</td><td style = \"text-align: right;\">56.51</td><td style = \"text-align: right;\">0.0</td><td style = \"text-align: right;\">0.0</td><td style = \"text-align: right;\">0.0</td><td style = \"text-align: right;\">0.0</td><td style = \"text-align: right;\">0.0</td></tr><tr><td class = \"rowNumber\" style = \"font-weight: bold; text-align: right;\">1686</td><td style = \"text-align: left;\">2024-08-27T21:00:00</td><td style = \"text-align: left;\">Summer</td><td style = \"text-align: right;\">0</td><td style = \"text-align: right;\">0</td><td style = \"text-align: right;\">2024</td><td style = \"text-align: right;\">42.5</td><td style = \"text-align: right;\">0.0</td><td style = \"text-align: right;\">0.0</td><td style = \"text-align: right;\">0.0</td><td style = \"text-align: right;\">0.0</td><td style = \"text-align: right;\">0.0</td></tr><tr><td class = \"rowNumber\" style = \"font-weight: bold; text-align: right;\">1687</td><td style = \"text-align: left;\">2024-08-28T10:00:00</td><td style = \"text-align: left;\">Summer</td><td style = \"text-align: right;\">0</td><td style = \"text-align: right;\">0</td><td style = \"text-align: right;\">2024</td><td style = \"text-align: right;\">43.48</td><td style = \"text-align: right;\">0.0</td><td style = \"text-align: right;\">0.0</td><td style = \"text-align: right;\">79.9213</td><td style = \"text-align: right;\">79.9213</td><td style = \"text-align: right;\">0.0</td></tr><tr><td class = \"rowNumber\" style = \"font-weight: bold; text-align: right;\">1688</td><td style = \"text-align: left;\">2024-08-28T19:00:00</td><td style = \"text-align: left;\">Summer</td><td style = \"text-align: right;\">0</td><td style = \"text-align: right;\">0</td><td style = \"text-align: right;\">2024</td><td style = \"text-align: right;\">45.77</td><td style = \"text-align: right;\">0.0</td><td style = \"text-align: right;\">0.0</td><td style = \"text-align: right;\">0.0</td><td style = \"text-align: right;\">0.0</td><td style = \"text-align: right;\">0.0</td></tr><tr><td class = \"rowNumber\" style = \"font-weight: bold; text-align: right;\">1689</td><td style = \"text-align: left;\">2024-08-28T20:00:00</td><td style = \"text-align: left;\">Summer</td><td style = \"text-align: right;\">0</td><td style = \"text-align: right;\">0</td><td style = \"text-align: right;\">2024</td><td style = \"text-align: right;\">36.84</td><td style = \"text-align: right;\">0.0</td><td style = \"text-align: right;\">0.0</td><td style = \"text-align: right;\">0.0</td><td style = \"text-align: right;\">0.0</td><td style = \"text-align: right;\">0.0</td></tr><tr><td class = \"rowNumber\" style = \"font-weight: bold; text-align: right;\">1690</td><td style = \"text-align: left;\">2024-08-28T21:00:00</td><td style = \"text-align: left;\">Summer</td><td style = \"text-align: right;\">0</td><td style = \"text-align: right;\">0</td><td style = \"text-align: right;\">2024</td><td style = \"text-align: right;\">27.97</td><td style = \"text-align: right;\">0.0</td><td style = \"text-align: right;\">0.0</td><td style = \"text-align: right;\">0.0</td><td style = \"text-align: right;\">0.0</td><td style = \"text-align: right;\">0.0</td></tr><tr><td class = \"rowNumber\" style = \"font-weight: bold; text-align: right;\">1691</td><td style = \"text-align: left;\">2024-08-28T22:00:00</td><td style = \"text-align: left;\">Summer</td><td style = \"text-align: right;\">0</td><td style = \"text-align: right;\">0</td><td style = \"text-align: right;\">2024</td><td style = \"text-align: right;\">23.76</td><td style = \"text-align: right;\">0.0</td><td style = \"text-align: right;\">0.0</td><td style = \"text-align: right;\">0.0</td><td style = \"text-align: right;\">0.0</td><td style = \"text-align: right;\">0.0</td></tr><tr><td class = \"rowNumber\" style = \"font-weight: bold; text-align: right;\">1692</td><td style = \"text-align: left;\">2024-08-29T11:00:00</td><td style = \"text-align: left;\">Summer</td><td style = \"text-align: right;\">0</td><td style = \"text-align: right;\">0</td><td style = \"text-align: right;\">2024</td><td style = \"text-align: right;\">24.76</td><td style = \"text-align: right;\">0.07875</td><td style = \"text-align: right;\">0.0</td><td style = \"text-align: right;\">79.9213</td><td style = \"text-align: right;\">80.0</td><td style = \"text-align: right;\">-1.94985</td></tr><tr><td class = \"rowNumber\" style = \"font-weight: bold; text-align: right;\">1693</td><td style = \"text-align: left;\">2024-08-29T12:00:00</td><td style = \"text-align: left;\">Summer</td><td style = \"text-align: right;\">0</td><td style = \"text-align: right;\">0</td><td style = \"text-align: right;\">2024</td><td style = \"text-align: right;\">30.47</td><td style = \"text-align: right;\">0.0</td><td style = \"text-align: right;\">0.0</td><td style = \"text-align: right;\">79.9882</td><td style = \"text-align: right;\">79.9882</td><td style = \"text-align: right;\">0.0</td></tr><tr><td class = \"rowNumber\" style = \"font-weight: bold; text-align: right;\">1694</td><td style = \"text-align: left;\">2024-08-29T21:00:00</td><td style = \"text-align: left;\">Summer</td><td style = \"text-align: right;\">0</td><td style = \"text-align: right;\">0</td><td style = \"text-align: right;\">2024</td><td style = \"text-align: right;\">25.71</td><td style = \"text-align: right;\">0.0</td><td style = \"text-align: right;\">0.0</td><td style = \"text-align: right;\">0.0</td><td style = \"text-align: right;\">0.0</td><td style = \"text-align: right;\">0.0</td></tr></tbody></table></div>"
      ],
      "text/latex": [
       "\\begin{tabular}{r|ccccccc}\n",
       "\t& interval\\_start\\_est & season & ra\\_hour\\_north\\_central & ra\\_hour\\_south & year & minnHubLmp & \\\\\n",
       "\t\\hline\n",
       "\t& DateTime & String7 & Int64 & Int64 & Int64 & Float64? & \\\\\n",
       "\t\\hline\n",
       "\t1 & 2024-01-01T00:00:00 & Winter & 0 & 0 & 2024 & 24.82 & $\\dots$ \\\\\n",
       "\t2 & 2024-01-01T02:00:00 & Winter & 0 & 0 & 2024 & 24.82 & $\\dots$ \\\\\n",
       "\t3 & 2024-01-01T03:00:00 & Winter & 0 & 0 & 2024 & 24.78 & $\\dots$ \\\\\n",
       "\t4 & 2024-01-01T04:00:00 & Winter & 0 & 0 & 2024 & 25.01 & $\\dots$ \\\\\n",
       "\t5 & 2024-01-01T05:00:00 & Winter & 0 & 0 & 2024 & 24.63 & $\\dots$ \\\\\n",
       "\t6 & 2024-01-01T06:00:00 & Winter & 0 & 0 & 2024 & 26.09 & $\\dots$ \\\\\n",
       "\t7 & 2024-01-01T07:00:00 & Winter & 0 & 0 & 2024 & 28.01 & $\\dots$ \\\\\n",
       "\t8 & 2024-01-01T09:00:00 & Winter & 0 & 0 & 2024 & 25.53 & $\\dots$ \\\\\n",
       "\t9 & 2024-01-01T10:00:00 & Winter & 0 & 0 & 2024 & 25.26 & $\\dots$ \\\\\n",
       "\t10 & 2024-01-01T11:00:00 & Winter & 0 & 0 & 2024 & 23.94 & $\\dots$ \\\\\n",
       "\t11 & 2024-01-01T12:00:00 & Winter & 0 & 0 & 2024 & 22.88 & $\\dots$ \\\\\n",
       "\t12 & 2024-01-01T13:00:00 & Winter & 0 & 0 & 2024 & 22.25 & $\\dots$ \\\\\n",
       "\t13 & 2024-01-01T14:00:00 & Winter & 0 & 0 & 2024 & 21.47 & $\\dots$ \\\\\n",
       "\t14 & 2024-01-01T15:00:00 & Winter & 0 & 0 & 2024 & 20.43 & $\\dots$ \\\\\n",
       "\t15 & 2024-01-01T16:00:00 & Winter & 0 & 0 & 2024 & 20.24 & $\\dots$ \\\\\n",
       "\t16 & 2024-01-01T17:00:00 & Winter & 0 & 0 & 2024 & 20.85 & $\\dots$ \\\\\n",
       "\t17 & 2024-01-01T18:00:00 & Winter & 0 & 0 & 2024 & 18.84 & $\\dots$ \\\\\n",
       "\t18 & 2024-01-01T19:00:00 & Winter & 0 & 0 & 2024 & 17.05 & $\\dots$ \\\\\n",
       "\t19 & 2024-01-02T07:00:00 & Winter & 0 & 0 & 2024 & 25.46 & $\\dots$ \\\\\n",
       "\t20 & 2024-01-02T08:00:00 & Winter & 0 & 0 & 2024 & 26.49 & $\\dots$ \\\\\n",
       "\t21 & 2024-01-02T09:00:00 & Winter & 0 & 0 & 2024 & 24.37 & $\\dots$ \\\\\n",
       "\t22 & 2024-01-02T10:00:00 & Winter & 0 & 0 & 2024 & 24.14 & $\\dots$ \\\\\n",
       "\t23 & 2024-01-02T12:00:00 & Winter & 0 & 0 & 2024 & 24.44 & $\\dots$ \\\\\n",
       "\t24 & 2024-01-02T13:00:00 & Winter & 0 & 0 & 2024 & 24.04 & $\\dots$ \\\\\n",
       "\t$\\dots$ & $\\dots$ & $\\dots$ & $\\dots$ & $\\dots$ & $\\dots$ & $\\dots$ &  \\\\\n",
       "\\end{tabular}\n"
      ],
      "text/plain": [
       "\u001b[1m1694×11 DataFrame\u001b[0m\n",
       "\u001b[1m  Row \u001b[0m│\u001b[1m interval_start_est  \u001b[0m\u001b[1m season  \u001b[0m\u001b[1m ra_hour_north_central \u001b[0m\u001b[1m ra_hour_south \u001b[0m\u001b[1m ye\u001b[0m ⋯\n",
       "      │\u001b[90m DateTime            \u001b[0m\u001b[90m String7 \u001b[0m\u001b[90m Int64                 \u001b[0m\u001b[90m Int64         \u001b[0m\u001b[90m In\u001b[0m ⋯\n",
       "──────┼─────────────────────────────────────────────────────────────────────────\n",
       "    1 │ 2024-01-01T00:00:00  Winter                       0              0   2 ⋯\n",
       "    2 │ 2024-01-01T02:00:00  Winter                       0              0   2\n",
       "    3 │ 2024-01-01T03:00:00  Winter                       0              0   2\n",
       "    4 │ 2024-01-01T04:00:00  Winter                       0              0   2\n",
       "    5 │ 2024-01-01T05:00:00  Winter                       0              0   2 ⋯\n",
       "    6 │ 2024-01-01T06:00:00  Winter                       0              0   2\n",
       "    7 │ 2024-01-01T07:00:00  Winter                       0              0   2\n",
       "    8 │ 2024-01-01T09:00:00  Winter                       0              0   2\n",
       "  ⋮   │          ⋮              ⋮               ⋮                  ⋮           ⋱\n",
       " 1688 │ 2024-08-28T19:00:00  Summer                       0              0   2 ⋯\n",
       " 1689 │ 2024-08-28T20:00:00  Summer                       0              0   2\n",
       " 1690 │ 2024-08-28T21:00:00  Summer                       0              0   2\n",
       " 1691 │ 2024-08-28T22:00:00  Summer                       0              0   2\n",
       " 1692 │ 2024-08-29T11:00:00  Summer                       0              0   2 ⋯\n",
       " 1693 │ 2024-08-29T12:00:00  Summer                       0              0   2\n",
       " 1694 │ 2024-08-29T21:00:00  Summer                       0              0   2\n",
       "\u001b[36m                                                 7 columns and 1679 rows omitted\u001b[0m"
      ]
     },
     "metadata": {},
     "output_type": "display_data"
    }
   ],
   "source": [
    "@rsubset raHoursBehavior begin\n",
    "    :charging <= 0.09\n",
    "    :discharging <= 0.09\n",
    "end"
   ]
  },
  {
   "cell_type": "code",
   "execution_count": 8,
   "metadata": {},
   "outputs": [],
   "source": [
    "raHoursAll = rightjoin(raHours, dispatch, on=:interval_start_est);"
   ]
  },
  {
   "cell_type": "code",
   "execution_count": 9,
   "metadata": {},
   "outputs": [
    {
     "data": {
      "text/html": [
       "<div><div style = \"float: left;\"><span>433×11 DataFrame</span></div><div style = \"float: right;\"><span style = \"font-style: italic;\">408 rows omitted</span></div><div style = \"clear: both;\"></div></div><div class = \"data-frame\" style = \"overflow-x: scroll;\"><table class = \"data-frame\" style = \"margin-bottom: 6px;\"><thead><tr class = \"header\"><th class = \"rowNumber\" style = \"font-weight: bold; text-align: right;\">Row</th><th style = \"text-align: left;\">interval_start_est</th><th style = \"text-align: left;\">season</th><th style = \"text-align: left;\">ra_hour_north_central</th><th style = \"text-align: left;\">ra_hour_south</th><th style = \"text-align: left;\">year</th><th style = \"text-align: left;\">minnHubLmp</th><th style = \"text-align: left;\">charging</th><th style = \"text-align: left;\">discharging</th><th style = \"text-align: left;\">SOCstart</th><th style = \"text-align: left;\">SOCend</th><th style = \"text-align: left;\">cashFlow</th></tr><tr class = \"subheader headerLastRow\"><th class = \"rowNumber\" style = \"font-weight: bold; text-align: right;\"></th><th title = \"DateTime\" style = \"text-align: left;\">DateTime</th><th title = \"Union{Missing, String7}\" style = \"text-align: left;\">String7?</th><th title = \"Union{Missing, Int64}\" style = \"text-align: left;\">Int64?</th><th title = \"Union{Missing, Int64}\" style = \"text-align: left;\">Int64?</th><th title = \"Union{Missing, Int64}\" style = \"text-align: left;\">Int64?</th><th title = \"Float64\" style = \"text-align: left;\">Float64</th><th title = \"Float64\" style = \"text-align: left;\">Float64</th><th title = \"Float64\" style = \"text-align: left;\">Float64</th><th title = \"Float64\" style = \"text-align: left;\">Float64</th><th title = \"Float64\" style = \"text-align: left;\">Float64</th><th title = \"Float64\" style = \"text-align: left;\">Float64</th></tr></thead><tbody><tr><td class = \"rowNumber\" style = \"font-weight: bold; text-align: right;\">1</td><td style = \"text-align: left;\">2024-01-12T00:00:00</td><td style = \"text-align: left;\">Winter</td><td style = \"text-align: right;\">0</td><td style = \"text-align: right;\">0</td><td style = \"text-align: right;\">2024</td><td style = \"text-align: right;\">30.73</td><td style = \"text-align: right;\">8.82353</td><td style = \"text-align: right;\">0.0</td><td style = \"text-align: right;\">0.0</td><td style = \"text-align: right;\">8.82353</td><td style = \"text-align: right;\">-271.147</td></tr><tr><td class = \"rowNumber\" style = \"font-weight: bold; text-align: right;\">2</td><td style = \"text-align: left;\">2024-01-12T01:00:00</td><td style = \"text-align: left;\">Winter</td><td style = \"text-align: right;\">0</td><td style = \"text-align: right;\">0</td><td style = \"text-align: right;\">2024</td><td style = \"text-align: right;\">28.03</td><td style = \"text-align: right;\">10.0</td><td style = \"text-align: right;\">0.0</td><td style = \"text-align: right;\">7.5</td><td style = \"text-align: right;\">17.5</td><td style = \"text-align: right;\">-280.3</td></tr><tr><td class = \"rowNumber\" style = \"font-weight: bold; text-align: right;\">3</td><td style = \"text-align: left;\">2024-01-12T02:00:00</td><td style = \"text-align: left;\">Winter</td><td style = \"text-align: right;\">0</td><td style = \"text-align: right;\">0</td><td style = \"text-align: right;\">2024</td><td style = \"text-align: right;\">27.59</td><td style = \"text-align: right;\">10.0</td><td style = \"text-align: right;\">0.0</td><td style = \"text-align: right;\">16.0</td><td style = \"text-align: right;\">26.0</td><td style = \"text-align: right;\">-275.9</td></tr><tr><td class = \"rowNumber\" style = \"font-weight: bold; text-align: right;\">4</td><td style = \"text-align: left;\">2024-01-12T03:00:00</td><td style = \"text-align: left;\">Winter</td><td style = \"text-align: right;\">0</td><td style = \"text-align: right;\">0</td><td style = \"text-align: right;\">2024</td><td style = \"text-align: right;\">26.45</td><td style = \"text-align: right;\">10.0</td><td style = \"text-align: right;\">0.0</td><td style = \"text-align: right;\">24.5</td><td style = \"text-align: right;\">34.5</td><td style = \"text-align: right;\">-264.5</td></tr><tr><td class = \"rowNumber\" style = \"font-weight: bold; text-align: right;\">5</td><td style = \"text-align: left;\">2024-01-12T04:00:00</td><td style = \"text-align: left;\">Winter</td><td style = \"text-align: right;\">0</td><td style = \"text-align: right;\">0</td><td style = \"text-align: right;\">2024</td><td style = \"text-align: right;\">26.7</td><td style = \"text-align: right;\">10.0</td><td style = \"text-align: right;\">0.0</td><td style = \"text-align: right;\">33.0</td><td style = \"text-align: right;\">43.0</td><td style = \"text-align: right;\">-267.0</td></tr><tr><td class = \"rowNumber\" style = \"font-weight: bold; text-align: right;\">6</td><td style = \"text-align: left;\">2024-01-12T05:00:00</td><td style = \"text-align: left;\">Winter</td><td style = \"text-align: right;\">0</td><td style = \"text-align: right;\">0</td><td style = \"text-align: right;\">2024</td><td style = \"text-align: right;\">28.38</td><td style = \"text-align: right;\">10.0</td><td style = \"text-align: right;\">0.0</td><td style = \"text-align: right;\">41.5</td><td style = \"text-align: right;\">51.5</td><td style = \"text-align: right;\">-283.8</td></tr><tr><td class = \"rowNumber\" style = \"font-weight: bold; text-align: right;\">7</td><td style = \"text-align: left;\">2024-01-12T06:00:00</td><td style = \"text-align: left;\">Winter</td><td style = \"text-align: right;\">0</td><td style = \"text-align: right;\">0</td><td style = \"text-align: right;\">2024</td><td style = \"text-align: right;\">32.89</td><td style = \"text-align: right;\">0.0</td><td style = \"text-align: right;\">0.0</td><td style = \"text-align: right;\">50.0</td><td style = \"text-align: right;\">50.0</td><td style = \"text-align: right;\">0.0</td></tr><tr><td class = \"rowNumber\" style = \"font-weight: bold; text-align: right;\">8</td><td style = \"text-align: left;\">2024-01-12T07:00:00</td><td style = \"text-align: left;\">Winter</td><td style = \"text-align: right;\">0</td><td style = \"text-align: right;\">0</td><td style = \"text-align: right;\">2024</td><td style = \"text-align: right;\">41.56</td><td style = \"text-align: right;\">0.0</td><td style = \"text-align: right;\">10.0</td><td style = \"text-align: right;\">50.0</td><td style = \"text-align: right;\">40.0</td><td style = \"text-align: right;\">415.6</td></tr><tr><td class = \"rowNumber\" style = \"font-weight: bold; text-align: right;\">9</td><td style = \"text-align: left;\">2024-01-12T08:00:00</td><td style = \"text-align: left;\">Winter</td><td style = \"text-align: right;\">0</td><td style = \"text-align: right;\">0</td><td style = \"text-align: right;\">2024</td><td style = \"text-align: right;\">42.22</td><td style = \"text-align: right;\">0.0</td><td style = \"text-align: right;\">10.0</td><td style = \"text-align: right;\">40.0</td><td style = \"text-align: right;\">30.0</td><td style = \"text-align: right;\">422.2</td></tr><tr><td class = \"rowNumber\" style = \"font-weight: bold; text-align: right;\">10</td><td style = \"text-align: left;\">2024-01-12T09:00:00</td><td style = \"text-align: left;\">Winter</td><td style = \"text-align: right;\">0</td><td style = \"text-align: right;\">0</td><td style = \"text-align: right;\">2024</td><td style = \"text-align: right;\">38.83</td><td style = \"text-align: right;\">0.0</td><td style = \"text-align: right;\">10.0</td><td style = \"text-align: right;\">30.0</td><td style = \"text-align: right;\">20.0</td><td style = \"text-align: right;\">388.3</td></tr><tr><td class = \"rowNumber\" style = \"font-weight: bold; text-align: right;\">11</td><td style = \"text-align: left;\">2024-01-12T10:00:00</td><td style = \"text-align: left;\">Winter</td><td style = \"text-align: right;\">0</td><td style = \"text-align: right;\">0</td><td style = \"text-align: right;\">2024</td><td style = \"text-align: right;\">38.02</td><td style = \"text-align: right;\">0.0</td><td style = \"text-align: right;\">10.0</td><td style = \"text-align: right;\">20.0</td><td style = \"text-align: right;\">10.0</td><td style = \"text-align: right;\">380.2</td></tr><tr><td class = \"rowNumber\" style = \"font-weight: bold; text-align: right;\">12</td><td style = \"text-align: left;\">2024-01-12T11:00:00</td><td style = \"text-align: left;\">Winter</td><td style = \"text-align: right;\">0</td><td style = \"text-align: right;\">0</td><td style = \"text-align: right;\">2024</td><td style = \"text-align: right;\">37.78</td><td style = \"text-align: right;\">0.0</td><td style = \"text-align: right;\">10.0</td><td style = \"text-align: right;\">10.0</td><td style = \"text-align: right;\">0.0</td><td style = \"text-align: right;\">377.8</td></tr><tr><td class = \"rowNumber\" style = \"font-weight: bold; text-align: right;\">13</td><td style = \"text-align: left;\">2024-01-12T12:00:00</td><td style = \"text-align: left;\">Winter</td><td style = \"text-align: right;\">0</td><td style = \"text-align: right;\">0</td><td style = \"text-align: right;\">2024</td><td style = \"text-align: right;\">34.91</td><td style = \"text-align: right;\">0.0</td><td style = \"text-align: right;\">0.0</td><td style = \"text-align: right;\">0.0</td><td style = \"text-align: right;\">0.0</td><td style = \"text-align: right;\">0.0</td></tr><tr><td style = \"text-align: right;\">&vellip;</td><td style = \"text-align: right;\">&vellip;</td><td style = \"text-align: right;\">&vellip;</td><td style = \"text-align: right;\">&vellip;</td><td style = \"text-align: right;\">&vellip;</td><td style = \"text-align: right;\">&vellip;</td><td style = \"text-align: right;\">&vellip;</td><td style = \"text-align: right;\">&vellip;</td><td style = \"text-align: right;\">&vellip;</td><td style = \"text-align: right;\">&vellip;</td><td style = \"text-align: right;\">&vellip;</td><td style = \"text-align: right;\">&vellip;</td></tr><tr><td class = \"rowNumber\" style = \"font-weight: bold; text-align: right;\">422</td><td style = \"text-align: left;\">2024-01-29T13:00:00</td><td style = \"text-align: left;\">Winter</td><td style = \"text-align: right;\">0</td><td style = \"text-align: right;\">0</td><td style = \"text-align: right;\">2024</td><td style = \"text-align: right;\">22.14</td><td style = \"text-align: right;\">0.0</td><td style = \"text-align: right;\">0.0</td><td style = \"text-align: right;\">0.0</td><td style = \"text-align: right;\">0.0</td><td style = \"text-align: right;\">0.0</td></tr><tr><td class = \"rowNumber\" style = \"font-weight: bold; text-align: right;\">423</td><td style = \"text-align: left;\">2024-01-29T14:00:00</td><td style = \"text-align: left;\">Winter</td><td style = \"text-align: right;\">0</td><td style = \"text-align: right;\">0</td><td style = \"text-align: right;\">2024</td><td style = \"text-align: right;\">21.34</td><td style = \"text-align: right;\">0.0</td><td style = \"text-align: right;\">0.0</td><td style = \"text-align: right;\">0.0</td><td style = \"text-align: right;\">0.0</td><td style = \"text-align: right;\">0.0</td></tr><tr><td class = \"rowNumber\" style = \"font-weight: bold; text-align: right;\">424</td><td style = \"text-align: left;\">2024-01-29T15:00:00</td><td style = \"text-align: left;\">Winter</td><td style = \"text-align: right;\">0</td><td style = \"text-align: right;\">0</td><td style = \"text-align: right;\">2024</td><td style = \"text-align: right;\">19.74</td><td style = \"text-align: right;\">10.0</td><td style = \"text-align: right;\">0.0</td><td style = \"text-align: right;\">0.0</td><td style = \"text-align: right;\">10.0</td><td style = \"text-align: right;\">-197.4</td></tr><tr><td class = \"rowNumber\" style = \"font-weight: bold; text-align: right;\">425</td><td style = \"text-align: left;\">2024-01-29T16:00:00</td><td style = \"text-align: left;\">Winter</td><td style = \"text-align: right;\">0</td><td style = \"text-align: right;\">0</td><td style = \"text-align: right;\">2024</td><td style = \"text-align: right;\">20.17</td><td style = \"text-align: right;\">0.0</td><td style = \"text-align: right;\">0.0</td><td style = \"text-align: right;\">8.5</td><td style = \"text-align: right;\">8.5</td><td style = \"text-align: right;\">0.0</td></tr><tr><td class = \"rowNumber\" style = \"font-weight: bold; text-align: right;\">426</td><td style = \"text-align: left;\">2024-01-29T17:00:00</td><td style = \"text-align: left;\">Winter</td><td style = \"text-align: right;\">0</td><td style = \"text-align: right;\">0</td><td style = \"text-align: right;\">2024</td><td style = \"text-align: right;\">21.88</td><td style = \"text-align: right;\">0.0</td><td style = \"text-align: right;\">0.0</td><td style = \"text-align: right;\">8.5</td><td style = \"text-align: right;\">8.5</td><td style = \"text-align: right;\">0.0</td></tr><tr><td class = \"rowNumber\" style = \"font-weight: bold; text-align: right;\">427</td><td style = \"text-align: left;\">2024-01-29T18:00:00</td><td style = \"text-align: left;\">Winter</td><td style = \"text-align: right;\">0</td><td style = \"text-align: right;\">0</td><td style = \"text-align: right;\">2024</td><td style = \"text-align: right;\">23.31</td><td style = \"text-align: right;\">0.0</td><td style = \"text-align: right;\">8.5</td><td style = \"text-align: right;\">8.5</td><td style = \"text-align: right;\">0.0</td><td style = \"text-align: right;\">198.135</td></tr><tr><td class = \"rowNumber\" style = \"font-weight: bold; text-align: right;\">428</td><td style = \"text-align: left;\">2024-01-29T19:00:00</td><td style = \"text-align: left;\">Winter</td><td style = \"text-align: right;\">0</td><td style = \"text-align: right;\">0</td><td style = \"text-align: right;\">2024</td><td style = \"text-align: right;\">20.22</td><td style = \"text-align: right;\">0.0</td><td style = \"text-align: right;\">0.0</td><td style = \"text-align: right;\">0.0</td><td style = \"text-align: right;\">0.0</td><td style = \"text-align: right;\">0.0</td></tr><tr><td class = \"rowNumber\" style = \"font-weight: bold; text-align: right;\">429</td><td style = \"text-align: left;\">2024-01-29T20:00:00</td><td style = \"text-align: left;\">Winter</td><td style = \"text-align: right;\">0</td><td style = \"text-align: right;\">0</td><td style = \"text-align: right;\">2024</td><td style = \"text-align: right;\">17.83</td><td style = \"text-align: right;\">2.35294</td><td style = \"text-align: right;\">0.0</td><td style = \"text-align: right;\">0.0</td><td style = \"text-align: right;\">2.35294</td><td style = \"text-align: right;\">-41.9529</td></tr><tr><td class = \"rowNumber\" style = \"font-weight: bold; text-align: right;\">430</td><td style = \"text-align: left;\">2024-01-29T21:00:00</td><td style = \"text-align: left;\">Winter</td><td style = \"text-align: right;\">0</td><td style = \"text-align: right;\">0</td><td style = \"text-align: right;\">2024</td><td style = \"text-align: right;\">17.1</td><td style = \"text-align: right;\">10.0</td><td style = \"text-align: right;\">0.0</td><td style = \"text-align: right;\">2.0</td><td style = \"text-align: right;\">12.0</td><td style = \"text-align: right;\">-171.0</td></tr><tr><td class = \"rowNumber\" style = \"font-weight: bold; text-align: right;\">431</td><td style = \"text-align: left;\">2024-01-29T22:00:00</td><td style = \"text-align: left;\">Winter</td><td style = \"text-align: right;\">0</td><td style = \"text-align: right;\">0</td><td style = \"text-align: right;\">2024</td><td style = \"text-align: right;\">15.45</td><td style = \"text-align: right;\">10.0</td><td style = \"text-align: right;\">0.0</td><td style = \"text-align: right;\">10.5</td><td style = \"text-align: right;\">20.5</td><td style = \"text-align: right;\">-154.5</td></tr><tr><td class = \"rowNumber\" style = \"font-weight: bold; text-align: right;\">432</td><td style = \"text-align: left;\">2024-01-29T23:00:00</td><td style = \"text-align: left;\">Winter</td><td style = \"text-align: right;\">0</td><td style = \"text-align: right;\">0</td><td style = \"text-align: right;\">2024</td><td style = \"text-align: right;\">15.73</td><td style = \"text-align: right;\">10.0</td><td style = \"text-align: right;\">0.0</td><td style = \"text-align: right;\">19.0</td><td style = \"text-align: right;\">29.0</td><td style = \"text-align: right;\">-157.3</td></tr><tr><td class = \"rowNumber\" style = \"font-weight: bold; text-align: right;\">433</td><td style = \"text-align: left;\">2024-01-30T00:00:00</td><td style = \"text-align: left;\">Winter</td><td style = \"text-align: right;\">0</td><td style = \"text-align: right;\">0</td><td style = \"text-align: right;\">2024</td><td style = \"text-align: right;\">13.95</td><td style = \"text-align: right;\">10.0</td><td style = \"text-align: right;\">0.0</td><td style = \"text-align: right;\">19.0</td><td style = \"text-align: right;\">29.0</td><td style = \"text-align: right;\">-139.5</td></tr></tbody></table></div>"
      ],
      "text/latex": [
       "\\begin{tabular}{r|ccccccc}\n",
       "\t& interval\\_start\\_est & season & ra\\_hour\\_north\\_central & ra\\_hour\\_south & year & minnHubLmp & \\\\\n",
       "\t\\hline\n",
       "\t& DateTime & String7? & Int64? & Int64? & Int64? & Float64 & \\\\\n",
       "\t\\hline\n",
       "\t1 & 2024-01-12T00:00:00 & Winter & 0 & 0 & 2024 & 30.73 & $\\dots$ \\\\\n",
       "\t2 & 2024-01-12T01:00:00 & Winter & 0 & 0 & 2024 & 28.03 & $\\dots$ \\\\\n",
       "\t3 & 2024-01-12T02:00:00 & Winter & 0 & 0 & 2024 & 27.59 & $\\dots$ \\\\\n",
       "\t4 & 2024-01-12T03:00:00 & Winter & 0 & 0 & 2024 & 26.45 & $\\dots$ \\\\\n",
       "\t5 & 2024-01-12T04:00:00 & Winter & 0 & 0 & 2024 & 26.7 & $\\dots$ \\\\\n",
       "\t6 & 2024-01-12T05:00:00 & Winter & 0 & 0 & 2024 & 28.38 & $\\dots$ \\\\\n",
       "\t7 & 2024-01-12T06:00:00 & Winter & 0 & 0 & 2024 & 32.89 & $\\dots$ \\\\\n",
       "\t8 & 2024-01-12T07:00:00 & Winter & 0 & 0 & 2024 & 41.56 & $\\dots$ \\\\\n",
       "\t9 & 2024-01-12T08:00:00 & Winter & 0 & 0 & 2024 & 42.22 & $\\dots$ \\\\\n",
       "\t10 & 2024-01-12T09:00:00 & Winter & 0 & 0 & 2024 & 38.83 & $\\dots$ \\\\\n",
       "\t11 & 2024-01-12T10:00:00 & Winter & 0 & 0 & 2024 & 38.02 & $\\dots$ \\\\\n",
       "\t12 & 2024-01-12T11:00:00 & Winter & 0 & 0 & 2024 & 37.78 & $\\dots$ \\\\\n",
       "\t13 & 2024-01-12T12:00:00 & Winter & 0 & 0 & 2024 & 34.91 & $\\dots$ \\\\\n",
       "\t14 & 2024-01-12T13:00:00 & Winter & 0 & 0 & 2024 & 33.68 & $\\dots$ \\\\\n",
       "\t15 & 2024-01-12T14:00:00 & Winter & 0 & 0 & 2024 & 29.88 & $\\dots$ \\\\\n",
       "\t16 & 2024-01-12T15:00:00 & Winter & 0 & 0 & 2024 & 27.91 & $\\dots$ \\\\\n",
       "\t17 & 2024-01-12T16:00:00 & Winter & 0 & 0 & 2024 & 28.03 & $\\dots$ \\\\\n",
       "\t18 & 2024-01-12T17:00:00 & Winter & 0 & 0 & 2024 & 31.48 & $\\dots$ \\\\\n",
       "\t19 & 2024-01-12T18:00:00 & Winter & 0 & 0 & 2024 & 32.8 & $\\dots$ \\\\\n",
       "\t20 & 2024-01-12T19:00:00 & Winter & 0 & 0 & 2024 & 30.28 & $\\dots$ \\\\\n",
       "\t21 & 2024-01-12T20:00:00 & Winter & 0 & 0 & 2024 & 27.55 & $\\dots$ \\\\\n",
       "\t22 & 2024-01-12T21:00:00 & Winter & 0 & 0 & 2024 & 24.53 & $\\dots$ \\\\\n",
       "\t23 & 2024-01-12T22:00:00 & Winter & 0 & 0 & 2024 & 23.47 & $\\dots$ \\\\\n",
       "\t24 & 2024-01-12T23:00:00 & Winter & 0 & 0 & 2024 & 23.19 & $\\dots$ \\\\\n",
       "\t$\\dots$ & $\\dots$ & $\\dots$ & $\\dots$ & $\\dots$ & $\\dots$ & $\\dots$ &  \\\\\n",
       "\\end{tabular}\n"
      ],
      "text/plain": [
       "\u001b[1m433×11 DataFrame\u001b[0m\n",
       "\u001b[1m Row \u001b[0m│\u001b[1m interval_start_est  \u001b[0m\u001b[1m season   \u001b[0m\u001b[1m ra_hour_north_central \u001b[0m\u001b[1m ra_hour_south    \u001b[0m ⋯\n",
       "     │\u001b[90m DateTime            \u001b[0m\u001b[90m String7? \u001b[0m\u001b[90m Union{Missing, Int64} \u001b[0m\u001b[90m Union{Missing, In\u001b[0m ⋯\n",
       "─────┼──────────────────────────────────────────────────────────────────────────\n",
       "   1 │ 2024-01-12T00:00:00  Winter                        0                    ⋯\n",
       "   2 │ 2024-01-12T01:00:00  Winter                        0\n",
       "   3 │ 2024-01-12T02:00:00  Winter                        0\n",
       "   4 │ 2024-01-12T03:00:00  Winter                        0\n",
       "   5 │ 2024-01-12T04:00:00  Winter                        0                    ⋯\n",
       "   6 │ 2024-01-12T05:00:00  Winter                        0\n",
       "   7 │ 2024-01-12T06:00:00  Winter                        0\n",
       "   8 │ 2024-01-12T07:00:00  Winter                        0\n",
       "  ⋮  │          ⋮              ⋮                ⋮                      ⋮       ⋱\n",
       " 427 │ 2024-01-29T18:00:00  Winter                        0                    ⋯\n",
       " 428 │ 2024-01-29T19:00:00  Winter                        0\n",
       " 429 │ 2024-01-29T20:00:00  Winter                        0\n",
       " 430 │ 2024-01-29T21:00:00  Winter                        0\n",
       " 431 │ 2024-01-29T22:00:00  Winter                        0                    ⋯\n",
       " 432 │ 2024-01-29T23:00:00  Winter                        0\n",
       " 433 │ 2024-01-30T00:00:00  Winter                        0\n",
       "\u001b[36m                                                  8 columns and 418 rows omitted\u001b[0m"
      ]
     },
     "metadata": {},
     "output_type": "display_data"
    }
   ],
   "source": [
    "subsetPeriod = @chain raHoursAll begin\n",
    "    @rsubset  begin\n",
    "        :interval_start_est >= DateTime(\"2024-01-12T00:00:00\", dtFmt)\n",
    "        :interval_start_est <= DateTime(\"2024-01-30T00:00:00\", dtFmt)\n",
    "    end\n",
    "    @orderby :interval_start_est\n",
    "end"
   ]
  },
  {
   "cell_type": "code",
   "execution_count": 10,
   "metadata": {},
   "outputs": [
    {
     "data": {
      "text/plain": [
       "\"storage-ra-hours.csv\""
      ]
     },
     "metadata": {},
     "output_type": "display_data"
    }
   ],
   "source": [
    "CSV.write(\"storage-ra-hours.csv\", subsetPeriod)"
   ]
  },
  {
   "cell_type": "code",
   "execution_count": 11,
   "metadata": {},
   "outputs": [
    {
     "data": {
      "text/plain": [
       "280.7692307692308"
      ]
     },
     "metadata": {},
     "output_type": "display_data"
    }
   ],
   "source": [
    "(20 * 365 * 10) / (65*4)"
   ]
  },
  {
   "cell_type": "code",
   "execution_count": 12,
   "metadata": {},
   "outputs": [],
   "source": []
  }
 ],
 "metadata": {
  "kernelspec": {
   "display_name": "Julia 1.10.5",
   "language": "julia",
   "name": "julia-1.10"
  },
  "language_info": {
   "file_extension": ".jl",
   "mimetype": "application/julia",
   "name": "julia",
   "version": "1.10.5"
  }
 },
 "nbformat": 4,
 "nbformat_minor": 2
}
