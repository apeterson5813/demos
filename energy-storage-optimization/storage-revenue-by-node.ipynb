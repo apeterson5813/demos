{
 "cells": [
  {
   "cell_type": "code",
   "execution_count": null,
   "metadata": {},
   "outputs": [],
   "source": [
    "using CSV\n",
    "using Dates\n",
    "using DataFramesMeta\n",
    "\n",
    "using PlotlyJS\n",
    "\n",
    "basepath = \"../data\"\n",
    "include(\"storageOptimization.jl\");\n",
    "include(\"$basepath/datacatalog.jl\");"
   ]
  },
  {
   "cell_type": "code",
   "execution_count": 2,
   "metadata": {},
   "outputs": [],
   "source": [
    "prices = reduce(\n",
    "    vcat,\n",
    "    [\n",
    "        CSV.read(\"$basepath/MISO DA Energy Price by Select Nodes 2023.csv\", DataFrame; dateformat=misoDAPriceByHub.dateformat, types=misoDAPriceByHub.schema, validate=true),\n",
    "        CSV.read(\"$basepath/MISO DA Energy Price by Select Nodes 2024.csv\", DataFrame; dateformat=misoDAPriceByHub.dateformat, types=misoDAPriceByHub.schema, validate=true),\n",
    "    ]\n",
    ")\n",
    "\n",
    "gre = @rsubset prices :node == \"GRE.ALTW\";\n",
    "nobles = @rsubset prices :node == \"NSP.NOBLES.WND\";\n",
    "pvaley = @rsubset prices :node == \"NSP.PVALEY.WND\";\n",
    "minnhub = @rsubset prices :node == \"MINN.HUB\";\n",
    "\n",
    "pvaley.lmp = coalesce.(pvaley.lmp, 22.19);\n",
    "nobles.lmp = coalesce.(nobles.lmp, 16.945);\n",
    "disallowmissing!(gre, :lmp);\n",
    "disallowmissing!(nobles, :lmp);\n",
    "disallowmissing!(pvaley, :lmp);\n",
    "disallowmissing!(minnhub, :lmp);\t"
   ]
  },
  {
   "cell_type": "code",
   "execution_count": 3,
   "metadata": {},
   "outputs": [],
   "source": [
    "# prices = reduce(\n",
    "#     vcat,\n",
    "#     [\n",
    "#         CSV.read(\"$basepath/CAISO DA LMP NP15 2020-2024.csv\", DataFrame; dateformat=caisoDAEnergyPrice.dateformat, types=caisoDAEnergyPrice.schema, validate=true),\n",
    "#         CSV.read(\"$basepath/CAISO DA LMP SP15 2020-2024.csv\", DataFrame; dateformat=caisoDAEnergyPrice.dateformat, types=caisoDAEnergyPrice.schema, validate=true),\n",
    "#     ]\n",
    "# )\n",
    "\n",
    "# np15 = @chain prices begin\n",
    "#     @rsubset :location == \"TH_NP15_GEN-APND\"\n",
    "#     @rsubset :interval_start_local >= ZonedDateTime(\"2023-01-01T00:00:00-08:00\",\"yyyy-mm-ddTHH:MM:SSzzzz\")\n",
    "#     @rsubset :interval_start_local < ZonedDateTime(\"2025-01-01T00:00:00-08:00\",\"yyyy-mm-ddTHH:MM:SSzzzz\")\n",
    "# end;\n",
    "\n",
    "# sp15 = @chain prices begin\n",
    "#     @rsubset :location == \"TH_SP15_GEN-APND\"\n",
    "#     @rsubset :interval_start_local >= ZonedDateTime(\"2023-01-01T00:00:00-08:00\",\"yyyy-mm-ddTHH:MM:SSzzzz\")\n",
    "#     @rsubset :interval_start_local < ZonedDateTime(\"2025-01-01T00:00:00-08:00\",\"yyyy-mm-ddTHH:MM:SSzzzz\")\n",
    "# end;"
   ]
  },
  {
   "cell_type": "code",
   "execution_count": 4,
   "metadata": {},
   "outputs": [],
   "source": [
    "# prices = reduce(\n",
    "#     vcat,\n",
    "#     [\n",
    "#         CSV.read(\"$basepath/ERCOT DA SPP HB_HUBAVE 2020-2024.csv\", DataFrame; dateformat=ercotDAEnergyPrice.dateformat, types=ercotDAEnergyPrice.schema, validate=true),\n",
    "#     ]\n",
    "# )\n",
    "\n",
    "# hbhub = @chain prices begin\n",
    "#     @rsubset :interval_start_local >= ZonedDateTime(\"2023-01-01T00:00:00-05:00\",\"yyyy-mm-ddTHH:MM:SSzzzz\")\n",
    "#     @rsubset :interval_start_local < ZonedDateTime(\"2025-01-01T00:00:00-05:00\",\"yyyy-mm-ddTHH:MM:SSzzzz\")\n",
    "# end;"
   ]
  },
  {
   "cell_type": "code",
   "execution_count": 5,
   "metadata": {},
   "outputs": [],
   "source": [
    "configs = Dict(\n",
    "    # 4hr\n",
    "    \"config-4HR-CAES\" => StorageModelConfig(4, 1, roundTripEfficency=55),\n",
    "    \"config-4HR-Lead Acid\" => StorageModelConfig(4, 1, roundTripEfficency=77),\n",
    "    \"config-4HR-Lithium-ion LFP\" => StorageModelConfig(4, 1, roundTripEfficency=83),\n",
    "    \"config-4HR-Lithium-ion NMC\" => StorageModelConfig(4, 1, roundTripEfficency=83),\n",
    "    \"config-4HR-PSH\" => StorageModelConfig(4, 1, roundTripEfficency=80),\n",
    "    \"config-4HR-Thermal\" => StorageModelConfig(4, 1, roundTripEfficency=48),\n",
    "    \"config-4HR-Vanadium Redox Flow\" => StorageModelConfig(4, 1, roundTripEfficency=65),\n",
    "    \"config-4HR-Iron Air\" => StorageModelConfig(4, 1, roundTripEfficency=40),\n",
    "\n",
    "    # 10hr\n",
    "    \"config-10HR-CAES\" => StorageModelConfig(10, 1, roundTripEfficency=55),\n",
    "    \"config-10HR-Lead Acid\" => StorageModelConfig(10, 1, roundTripEfficency=77),\n",
    "    \"config-10HR-Lithium-ion LFP\" => StorageModelConfig(10, 1, roundTripEfficency=83),\n",
    "    \"config-10HR-Lithium-ion NMC\" => StorageModelConfig(10, 1, roundTripEfficency=83),\n",
    "    \"config-10HR-PSH\" => StorageModelConfig(10, 1, roundTripEfficency=80),\n",
    "    \"config-10HR-Thermal\" => StorageModelConfig(10, 1, roundTripEfficency=48),\n",
    "    \"config-10HR-Vanadium Redox Flow\" => StorageModelConfig(10, 1, roundTripEfficency=65),\n",
    "    \"config-10HR-Iron Air\" => StorageModelConfig(10, 1, roundTripEfficency=40),\n",
    "\n",
    "    # 24hr\n",
    "    \"config-24HR-CAES\" => StorageModelConfig(24, 1, roundTripEfficency=55),\n",
    "    \"config-24HR-Lead Acid\" => StorageModelConfig(24, 1, roundTripEfficency=77),\n",
    "    \"config-24HR-Lithium-ion LFP\" => StorageModelConfig(24, 1, roundTripEfficency=83),\n",
    "    \"config-24HR-Lithium-ion NMC\" => StorageModelConfig(24, 1, roundTripEfficency=83),\n",
    "    \"config-24HR-PSH\" => StorageModelConfig(24, 1, roundTripEfficency=80),\n",
    "    \"config-24HR-Thermal\" => StorageModelConfig(24, 1, roundTripEfficency=48),\n",
    "    \"config-24HR-Vanadium Redox Flow\" => StorageModelConfig(24, 1, roundTripEfficency=65),\n",
    "    \"config-24HR-Iron Air\" => StorageModelConfig(24, 1, roundTripEfficency=40),\n",
    "\n",
    "    # 100hr\n",
    "    \"config-100HR-CAES\" => StorageModelConfig(100, 1, roundTripEfficency=55),\n",
    "    \"config-100HR-Lead Acid\" => StorageModelConfig(100, 1, roundTripEfficency=77),\n",
    "    \"config-100HR-Lithium-ion LFP\" => StorageModelConfig(100, 1, roundTripEfficency=83),\n",
    "    \"config-100HR-Lithium-ion NMC\" => StorageModelConfig(100, 1, roundTripEfficency=83),\n",
    "    \"config-100HR-PSH\" => StorageModelConfig(100, 1, roundTripEfficency=80),\n",
    "    \"config-100HR-Thermal\" => StorageModelConfig(100, 1, roundTripEfficency=48),\n",
    "    \"config-100HR-Vanadium Redox Flow\" => StorageModelConfig(100, 1, roundTripEfficency=65),\n",
    "    \"config-100HR-Iron Air\" => StorageModelConfig(100, 1, roundTripEfficency=40),\n",
    ");"
   ]
  },
  {
   "cell_type": "code",
   "execution_count": 6,
   "metadata": {},
   "outputs": [],
   "source": [
    "technologies = [\"Vanadium Redox Flow\", \"Iron Air\"] #\"CAES\", \"Lead Acid\", \"Lithium-ion LFP\", \"Lithium-ion NMC\", \"PSH\", \"Thermal\",;\n",
    "locations = Dict(\"minnhub\" => minnhub.lmp, \"nobles\" => nobles.lmp) #, \"pvaley\" => pvaley.lmp, \"gre\" => gre.lmp)\n",
    "# locations = Dict(\"sp15\" => sp15.lmp, \"np15\" => np15.lmp);\n",
    "# locations = Dict(\"hbhub\" => hbhub.spp);\n",
    "durations = [4, 10, 24, 100]\n",
    "lookaheadPeriods = [24, 48, 72, 96, 168, 240];"
   ]
  },
  {
   "cell_type": "code",
   "execution_count": 7,
   "metadata": {},
   "outputs": [],
   "source": [
    "cases = Vector{}()\n",
    "for k in keys(locations)\n",
    "    for dur in durations\n",
    "        for tech in technologies\n",
    "            for lhp in lookaheadPeriods\n",
    "                push!(cases, Dict(\n",
    "                    \"technology\" => tech, \n",
    "                    \"duration\" => dur, \n",
    "                    \"location\" => k,\n",
    "                    \"lookahead\" => lhp,\n",
    "                    \"revenue\" => 0\n",
    "                ))\n",
    "            end\n",
    "        end\n",
    "    end\n",
    "end"
   ]
  },
  {
   "cell_type": "code",
   "execution_count": 8,
   "metadata": {},
   "outputs": [],
   "source": [
    "for c in cases\n",
    "    loc = locations[c[\"location\"]]\n",
    "    dur = c[\"duration\"]\n",
    "    tech = c[\"technology\"]\n",
    "    lhp = c[\"lookahead\"]\n",
    "    r = solveRollingStorageOptimization(loc, configs[\"config-$(dur)HR-$(tech)\"], 24, lhp).revenue / 2\n",
    "    c[\"revenue\"] = r\n",
    "end"
   ]
  },
  {
   "cell_type": "code",
   "execution_count": 9,
   "metadata": {},
   "outputs": [
    {
     "data": {
      "text/plain": [
       "\"storage-revenue-by-tech-duration-node-lookahead.csv\""
      ]
     },
     "metadata": {},
     "output_type": "display_data"
    }
   ],
   "source": [
    "DataFrame(cases)\n",
    "CSV.write(\"storage-revenue-by-tech-duration-node-lookahead.csv\", cases)"
   ]
  },
  {
   "cell_type": "code",
   "execution_count": 10,
   "metadata": {},
   "outputs": [],
   "source": []
  }
 ],
 "metadata": {
  "kernelspec": {
   "display_name": "Julia 1.10.5",
   "language": "julia",
   "name": "julia-1.10"
  },
  "language_info": {
   "file_extension": ".jl",
   "mimetype": "application/julia",
   "name": "julia",
   "version": "1.10.5"
  }
 },
 "nbformat": 4,
 "nbformat_minor": 2
}
