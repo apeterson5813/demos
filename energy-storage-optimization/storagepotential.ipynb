{
 "cells": [
  {
   "cell_type": "code",
   "execution_count": 1,
   "metadata": {},
   "outputs": [],
   "source": [
    "using CSV\n",
    "using Dates\n",
    "using TimeZones\n",
    "using DataFramesMeta\n",
    "using Statistics\n",
    "using StatsBase\n",
    "\n",
    "include(\"../data/datacatalog.jl\");"
   ]
  },
  {
   "cell_type": "code",
   "execution_count": 3,
   "metadata": {},
   "outputs": [],
   "source": [
    "ercotDAPrices = reduce(\n",
    "    vcat,\n",
    "    [\n",
    "        CSV.read(\"../Data/ERCOT DA Energy Price 2015.csv\", DataFrame; dateformat=ercotDAEnergyPrice.dateformat, types=ercotDAEnergyPrice.schema, validate=true),\n",
    "        CSV.read(\"../Data/ERCOT DA Energy Price 2016.csv\", DataFrame; dateformat=ercotDAEnergyPrice.dateformat, types=ercotDAEnergyPrice.schema, validate=true),\n",
    "        CSV.read(\"../Data/ERCOT DA Energy Price 2017.csv\", DataFrame; dateformat=ercotDAEnergyPrice.dateformat, types=ercotDAEnergyPrice.schema, validate=true),\n",
    "        CSV.read(\"../Data/ERCOT DA Energy Price 2018.csv\", DataFrame; dateformat=ercotDAEnergyPrice.dateformat, types=ercotDAEnergyPrice.schema, validate=true),\n",
    "        CSV.read(\"../Data/ERCOT DA Energy Price 2019.csv\", DataFrame; dateformat=ercotDAEnergyPrice.dateformat, types=ercotDAEnergyPrice.schema, validate=true),\n",
    "        CSV.read(\"../Data/ERCOT DA Energy Price 2020.csv\", DataFrame; dateformat=ercotDAEnergyPrice.dateformat, types=ercotDAEnergyPrice.schema, validate=true),\n",
    "        CSV.read(\"../Data/ERCOT DA Energy Price 2021.csv\", DataFrame; dateformat=ercotDAEnergyPrice.dateformat, types=ercotDAEnergyPrice.schema, validate=true),\n",
    "        CSV.read(\"../Data/ERCOT DA Energy Price 2022.csv\", DataFrame; dateformat=ercotDAEnergyPrice.dateformat, types=ercotDAEnergyPrice.schema, validate=true),\n",
    "        CSV.read(\"../Data/ERCOT DA Energy Price 2023.csv\", DataFrame; dateformat=ercotDAEnergyPrice.dateformat, types=ercotDAEnergyPrice.schema, validate=true),\n",
    "        CSV.read(\"../Data/ERCOT DA Energy Price 2024.csv\", DataFrame; dateformat=ercotDAEnergyPrice.dateformat, types=ercotDAEnergyPrice.schema, validate=true),\n",
    "    ]\n",
    ")\n",
    "ercotDAPrices = @select ercotDAPrices :interval_start_cst :spp\n",
    "misoDAPrices = reduce(\n",
    "    vcat,\n",
    "    [\n",
    "        CSV.read(\"../Data/MISO DA Energy Price by Hub 2015.csv\", DataFrame; dateformat=misoDAPriceByHub.dateformat, types=misoDAPriceByHub.schema, validate=true),\n",
    "        CSV.read(\"../Data/MISO DA Energy Price by Hub 2016.csv\", DataFrame; dateformat=misoDAPriceByHub.dateformat, types=misoDAPriceByHub.schema, validate=true),\n",
    "        CSV.read(\"../Data/MISO DA Energy Price by Hub 2017.csv\", DataFrame; dateformat=misoDAPriceByHub.dateformat, types=misoDAPriceByHub.schema, validate=true),\n",
    "        CSV.read(\"../Data/MISO DA Energy Price by Hub 2018.csv\", DataFrame; dateformat=misoDAPriceByHub.dateformat, types=misoDAPriceByHub.schema, validate=true),\n",
    "        CSV.read(\"../Data/MISO DA Energy Price by Hub 2019.csv\", DataFrame; dateformat=misoDAPriceByHub.dateformat, types=misoDAPriceByHub.schema, validate=true),\n",
    "        CSV.read(\"../Data/MISO DA Energy Price by Hub 2020.csv\", DataFrame; dateformat=misoDAPriceByHub.dateformat, types=misoDAPriceByHub.schema, validate=true),\n",
    "        CSV.read(\"../Data/MISO DA Energy Price by Hub 2021.csv\", DataFrame; dateformat=misoDAPriceByHub.dateformat, types=misoDAPriceByHub.schema, validate=true),\n",
    "        CSV.read(\"../Data/MISO DA Energy Price by Hub 2022.csv\", DataFrame; dateformat=misoDAPriceByHub.dateformat, types=misoDAPriceByHub.schema, validate=true),\n",
    "        CSV.read(\"../Data/MISO DA Energy Price by Hub 2023.csv\", DataFrame; dateformat=misoDAPriceByHub.dateformat, types=misoDAPriceByHub.schema, validate=true),\n",
    "    ]\n",
    ")\n",
    "misoDAPrices = @rsubset misoDAPrices :node == \"MINN.HUB\";"
   ]
  },
  {
   "cell_type": "code",
   "execution_count": 4,
   "metadata": {},
   "outputs": [
    {
     "name": "stdout",
     "output_type": "stream",
     "text": [
      "summarystats(ercotDAPrices.spp) = Summary Stats:\n",
      "Length:         86766\n",
      "Missing Count:  0\n",
      "Mean:           46.146536\n",
      "Minimum:        -2.850000\n",
      "1st Quartile:   17.560000\n",
      "Median:         22.540000\n",
      "3rd Quartile:   32.380000\n",
      "Maximum:        8995.260000\n",
      "\n"
     ]
    },
    {
     "data": {
      "text/plain": [
       "301.84383155337144"
      ]
     },
     "metadata": {},
     "output_type": "display_data"
    }
   ],
   "source": [
    "@show summarystats(ercotDAPrices.spp)\n",
    "std(ercotDAPrices.spp)"
   ]
  },
  {
   "cell_type": "code",
   "execution_count": 5,
   "metadata": {},
   "outputs": [
    {
     "name": "stdout",
     "output_type": "stream",
     "text": [
      "summarystats(misoDAPrices.lmp) = Summary Stats:\n",
      "Length:         78864\n",
      "Missing Count:  0\n",
      "Mean:           27.127952\n",
      "Minimum:        -6.490000\n",
      "1st Quartile:   18.240000\n",
      "Median:         22.910000\n",
      "3rd Quartile:   31.050000\n",
      "Maximum:        606.820000\n",
      "\n"
     ]
    },
    {
     "data": {
      "text/plain": [
       "18.169805691848886"
      ]
     },
     "metadata": {},
     "output_type": "display_data"
    }
   ],
   "source": [
    "@show summarystats(misoDAPrices.lmp)\n",
    "std(misoDAPrices.lmp)"
   ]
  },
  {
   "cell_type": "code",
   "execution_count": 6,
   "metadata": {},
   "outputs": [
    {
     "data": {
      "text/plain": [
       "topBottomSpread (generic function with 1 method)"
      ]
     },
     "metadata": {},
     "output_type": "display_data"
    }
   ],
   "source": [
    "function topBottomSpread(num::Int, prices::AbstractArray)\n",
    "    prices = sort(prices) # This should make a copy\n",
    "    maxTotal = sum(prices[24-num:end])\n",
    "    minTotal = sum(prices[1:num])\n",
    "\n",
    "    spread = (maxTotal - minTotal) / num\n",
    "    return spread\n",
    "end"
   ]
  },
  {
   "cell_type": "code",
   "execution_count": 7,
   "metadata": {},
   "outputs": [
    {
     "data": {
      "text/html": [
       "<div><div style = \"float: left;\"><span>10×5 DataFrame</span></div><div style = \"clear: both;\"></div></div><div class = \"data-frame\" style = \"overflow-x: scroll;\"><table class = \"data-frame\" style = \"margin-bottom: 6px;\"><thead><tr class = \"header\"><th class = \"rowNumber\" style = \"font-weight: bold; text-align: right;\">Row</th><th style = \"text-align: left;\">year</th><th style = \"text-align: left;\">mean_spread</th><th style = \"text-align: left;\">max_spread</th><th style = \"text-align: left;\">min_spread</th><th style = \"text-align: left;\">std_spread</th></tr><tr class = \"subheader headerLastRow\"><th class = \"rowNumber\" style = \"font-weight: bold; text-align: right;\"></th><th title = \"Int64\" style = \"text-align: left;\">Int64</th><th title = \"Float64\" style = \"text-align: left;\">Float64</th><th title = \"Float64\" style = \"text-align: left;\">Float64</th><th title = \"Float64\" style = \"text-align: left;\">Float64</th><th title = \"Float64\" style = \"text-align: left;\">Float64</th></tr></thead><tbody><tr><td class = \"rowNumber\" style = \"font-weight: bold; text-align: right;\">1</td><td style = \"text-align: right;\">2015</td><td style = \"text-align: right;\">39.8897</td><td style = \"text-align: right;\">1335.29</td><td style = \"text-align: right;\">10.35</td><td style = \"text-align: right;\">82.6142</td></tr><tr><td class = \"rowNumber\" style = \"font-weight: bold; text-align: right;\">2</td><td style = \"text-align: right;\">2016</td><td style = \"text-align: right;\">33.1284</td><td style = \"text-align: right;\">170.868</td><td style = \"text-align: right;\">9.99</td><td style = \"text-align: right;\">22.9822</td></tr><tr><td class = \"rowNumber\" style = \"font-weight: bold; text-align: right;\">3</td><td style = \"text-align: right;\">2017</td><td style = \"text-align: right;\">31.9966</td><td style = \"text-align: right;\">176.265</td><td style = \"text-align: right;\">10.385</td><td style = \"text-align: right;\">14.7826</td></tr><tr><td class = \"rowNumber\" style = \"font-weight: bold; text-align: right;\">4</td><td style = \"text-align: right;\">2018</td><td style = \"text-align: right;\">67.6872</td><td style = \"text-align: right;\">1482.17</td><td style = \"text-align: right;\">13.4725</td><td style = \"text-align: right;\">164.541</td></tr><tr><td class = \"rowNumber\" style = \"font-weight: bold; text-align: right;\">5</td><td style = \"text-align: right;\">2019</td><td style = \"text-align: right;\">115.82</td><td style = \"text-align: right;\">3695.05</td><td style = \"text-align: right;\">9.2525</td><td style = \"text-align: right;\">382.346</td></tr><tr><td class = \"rowNumber\" style = \"font-weight: bold; text-align: right;\">6</td><td style = \"text-align: right;\">2020</td><td style = \"text-align: right;\">40.114</td><td style = \"text-align: right;\">1247.53</td><td style = \"text-align: right;\">7.9575</td><td style = \"text-align: right;\">78.1145</td></tr><tr><td class = \"rowNumber\" style = \"font-weight: bold; text-align: right;\">7</td><td style = \"text-align: right;\">2021</td><td style = \"text-align: right;\">153.133</td><td style = \"text-align: right;\">9664.95</td><td style = \"text-align: right;\">12.2325</td><td style = \"text-align: right;\">762.912</td></tr><tr><td class = \"rowNumber\" style = \"font-weight: bold; text-align: right;\">8</td><td style = \"text-align: right;\">2022</td><td style = \"text-align: right;\">120.266</td><td style = \"text-align: right;\">2131.42</td><td style = \"text-align: right;\">13.8625</td><td style = \"text-align: right;\">193.09</td></tr><tr><td class = \"rowNumber\" style = \"font-weight: bold; text-align: right;\">9</td><td style = \"text-align: right;\">2023</td><td style = \"text-align: right;\">190.187</td><td style = \"text-align: right;\">4872.99</td><td style = \"text-align: right;\">14.105</td><td style = \"text-align: right;\">534.062</td></tr><tr><td class = \"rowNumber\" style = \"font-weight: bold; text-align: right;\">10</td><td style = \"text-align: right;\">2024</td><td style = \"text-align: right;\">68.0852</td><td style = \"text-align: right;\">1483.13</td><td style = \"text-align: right;\">14.2625</td><td style = \"text-align: right;\">131.72</td></tr></tbody></table></div>"
      ],
      "text/latex": [
       "\\begin{tabular}{r|ccccc}\n",
       "\t& year & mean\\_spread & max\\_spread & min\\_spread & std\\_spread\\\\\n",
       "\t\\hline\n",
       "\t& Int64 & Float64 & Float64 & Float64 & Float64\\\\\n",
       "\t\\hline\n",
       "\t1 & 2015 & 39.8897 & 1335.29 & 10.35 & 82.6142 \\\\\n",
       "\t2 & 2016 & 33.1284 & 170.868 & 9.99 & 22.9822 \\\\\n",
       "\t3 & 2017 & 31.9966 & 176.265 & 10.385 & 14.7826 \\\\\n",
       "\t4 & 2018 & 67.6872 & 1482.17 & 13.4725 & 164.541 \\\\\n",
       "\t5 & 2019 & 115.82 & 3695.05 & 9.2525 & 382.346 \\\\\n",
       "\t6 & 2020 & 40.114 & 1247.53 & 7.9575 & 78.1145 \\\\\n",
       "\t7 & 2021 & 153.133 & 9664.95 & 12.2325 & 762.912 \\\\\n",
       "\t8 & 2022 & 120.266 & 2131.42 & 13.8625 & 193.09 \\\\\n",
       "\t9 & 2023 & 190.187 & 4872.99 & 14.105 & 534.062 \\\\\n",
       "\t10 & 2024 & 68.0852 & 1483.13 & 14.2625 & 131.72 \\\\\n",
       "\\end{tabular}\n"
      ],
      "text/plain": [
       "\u001b[1m10×5 DataFrame\u001b[0m\n",
       "\u001b[1m Row \u001b[0m│\u001b[1m year  \u001b[0m\u001b[1m mean_spread \u001b[0m\u001b[1m max_spread \u001b[0m\u001b[1m min_spread \u001b[0m\u001b[1m std_spread \u001b[0m\n",
       "     │\u001b[90m Int64 \u001b[0m\u001b[90m Float64     \u001b[0m\u001b[90m Float64    \u001b[0m\u001b[90m Float64    \u001b[0m\u001b[90m Float64    \u001b[0m\n",
       "─────┼────────────────────────────────────────────────────────\n",
       "   1 │  2015      39.8897    1335.29      10.35       82.6142\n",
       "   2 │  2016      33.1284     170.868      9.99       22.9822\n",
       "   3 │  2017      31.9966     176.265     10.385      14.7826\n",
       "   4 │  2018      67.6872    1482.17      13.4725    164.541\n",
       "   5 │  2019     115.82      3695.05       9.2525    382.346\n",
       "   6 │  2020      40.114     1247.53       7.9575     78.1145\n",
       "   7 │  2021     153.133     9664.95      12.2325    762.912\n",
       "   8 │  2022     120.266     2131.42      13.8625    193.09\n",
       "   9 │  2023     190.187     4872.99      14.105     534.062\n",
       "  10 │  2024      68.0852    1483.13      14.2625    131.72"
      ]
     },
     "metadata": {},
     "output_type": "display_data"
    }
   ],
   "source": [
    "@chain ercotDAPrices begin\n",
    "    @rtransform :year = year(:interval_start_cst)\n",
    "    @rtransform :dayofyear = dayofyear(:interval_start_cst)\n",
    "    # @rsubset begin\n",
    "        # :year == 2016\n",
    "        # :dayofyear <= 13\n",
    "    # end\n",
    "    @groupby [:year, :dayofyear]\n",
    "    filter(:spp => spp -> length(spp) == 24, _)\n",
    "    @combine :spread = topBottomSpread(4, :spp)\n",
    "    @groupby :year\n",
    "    @combine begin\n",
    "        :mean_spread = mean(:spread)\n",
    "        :max_spread = maximum(:spread)\n",
    "        :min_spread = minimum(:spread)\n",
    "        :std_spread = std(:spread)\n",
    "    end\n",
    "end"
   ]
  },
  {
   "cell_type": "code",
   "execution_count": 8,
   "metadata": {},
   "outputs": [
    {
     "data": {
      "text/html": [
       "<div><div style = \"float: left;\"><span>9×5 DataFrame</span></div><div style = \"clear: both;\"></div></div><div class = \"data-frame\" style = \"overflow-x: scroll;\"><table class = \"data-frame\" style = \"margin-bottom: 6px;\"><thead><tr class = \"header\"><th class = \"rowNumber\" style = \"font-weight: bold; text-align: right;\">Row</th><th style = \"text-align: left;\">year</th><th style = \"text-align: left;\">mean_spread</th><th style = \"text-align: left;\">max_spread</th><th style = \"text-align: left;\">min_spread</th><th style = \"text-align: left;\">std_spread</th></tr><tr class = \"subheader headerLastRow\"><th class = \"rowNumber\" style = \"font-weight: bold; text-align: right;\"></th><th title = \"Int64\" style = \"text-align: left;\">Int64</th><th title = \"Float64\" style = \"text-align: left;\">Float64</th><th title = \"Float64\" style = \"text-align: left;\">Float64</th><th title = \"Float64\" style = \"text-align: left;\">Float64</th><th title = \"Float64\" style = \"text-align: left;\">Float64</th></tr></thead><tbody><tr><td class = \"rowNumber\" style = \"font-weight: bold; text-align: right;\">1</td><td style = \"text-align: right;\">2015</td><td style = \"text-align: right;\">24.3462</td><td style = \"text-align: right;\">98.6175</td><td style = \"text-align: right;\">10.3425</td><td style = \"text-align: right;\">9.56883</td></tr><tr><td class = \"rowNumber\" style = \"font-weight: bold; text-align: right;\">2</td><td style = \"text-align: right;\">2016</td><td style = \"text-align: right;\">23.0418</td><td style = \"text-align: right;\">84.3775</td><td style = \"text-align: right;\">7.7875</td><td style = \"text-align: right;\">10.197</td></tr><tr><td class = \"rowNumber\" style = \"font-weight: bold; text-align: right;\">3</td><td style = \"text-align: right;\">2017</td><td style = \"text-align: right;\">24.6419</td><td style = \"text-align: right;\">60.7775</td><td style = \"text-align: right;\">9.61</td><td style = \"text-align: right;\">8.46337</td></tr><tr><td class = \"rowNumber\" style = \"font-weight: bold; text-align: right;\">4</td><td style = \"text-align: right;\">2018</td><td style = \"text-align: right;\">26.4375</td><td style = \"text-align: right;\">144.108</td><td style = \"text-align: right;\">9.145</td><td style = \"text-align: right;\">13.5412</td></tr><tr><td class = \"rowNumber\" style = \"font-weight: bold; text-align: right;\">5</td><td style = \"text-align: right;\">2019</td><td style = \"text-align: right;\">19.7788</td><td style = \"text-align: right;\">103.905</td><td style = \"text-align: right;\">8.2925</td><td style = \"text-align: right;\">8.85033</td></tr><tr><td class = \"rowNumber\" style = \"font-weight: bold; text-align: right;\">6</td><td style = \"text-align: right;\">2020</td><td style = \"text-align: right;\">18.4222</td><td style = \"text-align: right;\">53.395</td><td style = \"text-align: right;\">6.095</td><td style = \"text-align: right;\">8.23945</td></tr><tr><td class = \"rowNumber\" style = \"font-weight: bold; text-align: right;\">7</td><td style = \"text-align: right;\">2021</td><td style = \"text-align: right;\">40.5169</td><td style = \"text-align: right;\">533.983</td><td style = \"text-align: right;\">8.8</td><td style = \"text-align: right;\">43.5971</td></tr><tr><td class = \"rowNumber\" style = \"font-weight: bold; text-align: right;\">8</td><td style = \"text-align: right;\">2022</td><td style = \"text-align: right;\">56.5464</td><td style = \"text-align: right;\">145.785</td><td style = \"text-align: right;\">13.7425</td><td style = \"text-align: right;\">25.411</td></tr><tr><td class = \"rowNumber\" style = \"font-weight: bold; text-align: right;\">9</td><td style = \"text-align: right;\">2023</td><td style = \"text-align: right;\">36.3451</td><td style = \"text-align: right;\">187.325</td><td style = \"text-align: right;\">10.78</td><td style = \"text-align: right;\">21.4474</td></tr></tbody></table></div>"
      ],
      "text/latex": [
       "\\begin{tabular}{r|ccccc}\n",
       "\t& year & mean\\_spread & max\\_spread & min\\_spread & std\\_spread\\\\\n",
       "\t\\hline\n",
       "\t& Int64 & Float64 & Float64 & Float64 & Float64\\\\\n",
       "\t\\hline\n",
       "\t1 & 2015 & 24.3462 & 98.6175 & 10.3425 & 9.56883 \\\\\n",
       "\t2 & 2016 & 23.0418 & 84.3775 & 7.7875 & 10.197 \\\\\n",
       "\t3 & 2017 & 24.6419 & 60.7775 & 9.61 & 8.46337 \\\\\n",
       "\t4 & 2018 & 26.4375 & 144.108 & 9.145 & 13.5412 \\\\\n",
       "\t5 & 2019 & 19.7788 & 103.905 & 8.2925 & 8.85033 \\\\\n",
       "\t6 & 2020 & 18.4222 & 53.395 & 6.095 & 8.23945 \\\\\n",
       "\t7 & 2021 & 40.5169 & 533.983 & 8.8 & 43.5971 \\\\\n",
       "\t8 & 2022 & 56.5464 & 145.785 & 13.7425 & 25.411 \\\\\n",
       "\t9 & 2023 & 36.3451 & 187.325 & 10.78 & 21.4474 \\\\\n",
       "\\end{tabular}\n"
      ],
      "text/plain": [
       "\u001b[1m9×5 DataFrame\u001b[0m\n",
       "\u001b[1m Row \u001b[0m│\u001b[1m year  \u001b[0m\u001b[1m mean_spread \u001b[0m\u001b[1m max_spread \u001b[0m\u001b[1m min_spread \u001b[0m\u001b[1m std_spread \u001b[0m\n",
       "     │\u001b[90m Int64 \u001b[0m\u001b[90m Float64     \u001b[0m\u001b[90m Float64    \u001b[0m\u001b[90m Float64    \u001b[0m\u001b[90m Float64    \u001b[0m\n",
       "─────┼────────────────────────────────────────────────────────\n",
       "   1 │  2015      24.3462     98.6175     10.3425     9.56883\n",
       "   2 │  2016      23.0418     84.3775      7.7875    10.197\n",
       "   3 │  2017      24.6419     60.7775      9.61       8.46337\n",
       "   4 │  2018      26.4375    144.108       9.145     13.5412\n",
       "   5 │  2019      19.7788    103.905       8.2925     8.85033\n",
       "   6 │  2020      18.4222     53.395       6.095      8.23945\n",
       "   7 │  2021      40.5169    533.983       8.8       43.5971\n",
       "   8 │  2022      56.5464    145.785      13.7425    25.411\n",
       "   9 │  2023      36.3451    187.325      10.78      21.4474"
      ]
     },
     "metadata": {},
     "output_type": "display_data"
    }
   ],
   "source": [
    "@chain misoDAPrices begin\n",
    "    @rtransform :year = year(:interval_start_est)\n",
    "    @rtransform :dayofyear = dayofyear(:interval_start_est)\n",
    "    # @rsubset begin\n",
    "        # :year == 2016\n",
    "        # :dayofyear <= 13\n",
    "    # end\n",
    "    @groupby [:year, :dayofyear]\n",
    "    filter(:lmp => lmp -> length(lmp) == 24, _)\n",
    "    @combine :spread = topBottomSpread(4, :lmp)\n",
    "    @groupby :year\n",
    "    @combine begin\n",
    "        :mean_spread = mean(:spread)\n",
    "        :max_spread = maximum(:spread)\n",
    "        :min_spread = minimum(:spread)\n",
    "        :std_spread = std(:spread)\n",
    "    end\n",
    "end"
   ]
  },
  {
   "cell_type": "code",
   "execution_count": null,
   "metadata": {},
   "outputs": [
    {
     "name": "stdout",
     "output_type": "stream",
     "text": [
      "[14.77, 14.92, 15.19, 16.26, 16.28, 16.56, 16.72, 16.76, 17.37, 17.74, 18.16, 18.68, 18.85, 19.3, 20.05, 20.54, 20.85, 21.03, 21.04, 21.21, 21.58, 21.87, 25.98, 32.51]\n"
     ]
    },
    {
     "data": {
      "text/plain": [
       "15.502500000000001"
      ]
     },
     "metadata": {},
     "output_type": "display_data"
    }
   ],
   "source": []
  },
  {
   "cell_type": "code",
   "execution_count": null,
   "metadata": {},
   "outputs": [],
   "source": []
  }
 ],
 "metadata": {
  "kernelspec": {
   "display_name": "Julia 1.10.5",
   "language": "julia",
   "name": "julia-1.10"
  },
  "language_info": {
   "file_extension": ".jl",
   "mimetype": "application/julia",
   "name": "julia",
   "version": "1.10.5"
  }
 },
 "nbformat": 4,
 "nbformat_minor": 2
}
