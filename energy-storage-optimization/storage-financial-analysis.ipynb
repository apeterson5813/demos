{
 "cells": [
  {
   "cell_type": "code",
   "execution_count": null,
   "metadata": {},
   "outputs": [],
   "source": [
    "using CSV\n",
    "using Dates\n",
    "using DataFramesMeta\n",
    "using Statistics\n",
    "using ActuaryUtilities\n",
    "\n",
    "using PlotlyJS\n",
    "\n",
    "basepath = \"../data\"\n",
    "include(\"$basepath/datacatalog.jl\");"
   ]
  },
  {
   "cell_type": "code",
   "execution_count": 2,
   "metadata": {},
   "outputs": [],
   "source": [
    "db = CSV.read(\"$basepath/ESGC Cost Performance Database 2024.csv\", DataFrame);\n",
    "# revenue = CSV.read(\"storage-revenue-by-tech-duration-node-caiso.csv\", DataFrame);\n",
    "# revenue = CSV.read(\"storage-revenue-by-tech-duration-node-ercot.csv\", DataFrame);\n",
    "# revenue = CSV.read(\"storage-revenue-by-tech-duration-node-miso.csv\", DataFrame);\n",
    "revenue = CSV.read(\"storage-revenue-by-tech-duration-node-lookahead.csv\", DataFrame);"
   ]
  },
  {
   "cell_type": "code",
   "execution_count": 3,
   "metadata": {},
   "outputs": [],
   "source": [
    "@rsubset! db begin\n",
    "    :year == 2023\n",
    "    :power_mw == 100\n",
    "    :estimate_type == \"Point\"\n",
    "    :duration in [4, 10, 24, 100]\n",
    "    :parameter in [\"Calendar Life (yrs)\", \"Total Installed Cost (\\$/kW)\", \"Total Installed Cost (\\$/kWh)\"]\n",
    "end;"
   ]
  },
  {
   "cell_type": "code",
   "execution_count": 4,
   "metadata": {},
   "outputs": [],
   "source": [
    "@select!(db, :technology, :duration, :parameter, :value);"
   ]
  },
  {
   "cell_type": "code",
   "execution_count": 5,
   "metadata": {},
   "outputs": [],
   "source": [
    "db = unstack(db, [:technology, :duration], :parameter, :value);"
   ]
  },
  {
   "cell_type": "code",
   "execution_count": 6,
   "metadata": {},
   "outputs": [],
   "source": [
    "@rename! db begin \n",
    "    :kW_cost = :\"Total Installed Cost (\\$/kW)\"\n",
    "    :kWh_cost = :\"Total Installed Cost (\\$/kWh)\"\n",
    "    :lifespan = :\"Calendar Life (yrs)\"\n",
    "end;"
   ]
  },
  {
   "cell_type": "code",
   "execution_count": 7,
   "metadata": {},
   "outputs": [],
   "source": [
    "leftjoin!(revenue, db, on = [:duration, :technology]);"
   ]
  },
  {
   "cell_type": "code",
   "execution_count": 8,
   "metadata": {},
   "outputs": [],
   "source": [
    "@rtransform!(revenue, :total_cost = :kWh_cost * :duration * 1000);"
   ]
  },
  {
   "cell_type": "code",
   "execution_count": 9,
   "metadata": {},
   "outputs": [],
   "source": [
    "# PRA revenue = $20/MW-day\n",
    "@rtransform!(revenue, :pra_revenue = 7300 * 1);\n",
    "@rtransform!(revenue, :simple_payback = :total_cost / (:revenue + :pra_revenue));\n",
    "@rtransform!(revenue, :simple_payback_itc = (:total_cost * 2/3) / (:revenue + :pra_revenue));"
   ]
  },
  {
   "cell_type": "code",
   "execution_count": 10,
   "metadata": {},
   "outputs": [],
   "source": [
    "# wacc = 0.07"
   ]
  },
  {
   "cell_type": "code",
   "execution_count": 11,
   "metadata": {},
   "outputs": [],
   "source": [
    "# @chain revenue begin\n",
    "#     # @rsubset occursin.(\"Li\", :technology)\n",
    "#     # @rsubset :duration_hr == 4\n",
    "#     @orderby :simple_payback\n",
    "#     # @rsubset :Row < 10\n",
    "# end"
   ]
  },
  {
   "cell_type": "code",
   "execution_count": 20,
   "metadata": {},
   "outputs": [
    {
     "data": {
      "text/html": [
       "<div><div style = \"float: left;\"><span>6×12 DataFrame</span></div><div style = \"clear: both;\"></div></div><div class = \"data-frame\" style = \"overflow-x: scroll;\"><table class = \"data-frame\" style = \"margin-bottom: 6px;\"><thead><tr class = \"header\"><th class = \"rowNumber\" style = \"font-weight: bold; text-align: right;\">Row</th><th style = \"text-align: left;\">duration</th><th style = \"text-align: left;\">location</th><th style = \"text-align: left;\">lookahead</th><th style = \"text-align: left;\">technology</th><th style = \"text-align: left;\">revenue</th><th style = \"text-align: left;\">lifespan</th><th style = \"text-align: left;\">kW_cost</th><th style = \"text-align: left;\">kWh_cost</th><th style = \"text-align: left;\">total_cost</th><th style = \"text-align: left;\">pra_revenue</th><th style = \"text-align: left;\">simple_payback</th><th style = \"text-align: left;\">simple_payback_itc</th></tr><tr class = \"subheader headerLastRow\"><th class = \"rowNumber\" style = \"font-weight: bold; text-align: right;\"></th><th title = \"Int64\" style = \"text-align: left;\">Int64</th><th title = \"String7\" style = \"text-align: left;\">String7</th><th title = \"Int64\" style = \"text-align: left;\">Int64</th><th title = \"String31\" style = \"text-align: left;\">String31</th><th title = \"Float64\" style = \"text-align: left;\">Float64</th><th title = \"Union{Missing, Float64}\" style = \"text-align: left;\">Float64?</th><th title = \"Union{Missing, Float64}\" style = \"text-align: left;\">Float64?</th><th title = \"Union{Missing, Float64}\" style = \"text-align: left;\">Float64?</th><th title = \"Union{Missing, Float64}\" style = \"text-align: left;\">Float64?</th><th title = \"Int64\" style = \"text-align: left;\">Int64</th><th title = \"Union{Missing, Float64}\" style = \"text-align: left;\">Float64?</th><th title = \"Union{Missing, Float64}\" style = \"text-align: left;\">Float64?</th></tr></thead><tbody><tr><td class = \"rowNumber\" style = \"font-weight: bold; text-align: right;\">1</td><td style = \"text-align: right;\">100</td><td style = \"text-align: left;\">nobles</td><td style = \"text-align: right;\">24</td><td style = \"text-align: left;\">Iron Air</td><td style = \"text-align: right;\">92193.9</td><td style = \"text-align: right;\">25.0</td><td style = \"font-style: italic; text-align: right;\">missing</td><td style = \"text-align: right;\">35.0</td><td style = \"text-align: right;\">3.5e6</td><td style = \"text-align: right;\">7300</td><td style = \"text-align: right;\">35.178</td><td style = \"text-align: right;\">23.452</td></tr><tr><td class = \"rowNumber\" style = \"font-weight: bold; text-align: right;\">2</td><td style = \"text-align: right;\">100</td><td style = \"text-align: left;\">nobles</td><td style = \"text-align: right;\">48</td><td style = \"text-align: left;\">Iron Air</td><td style = \"text-align: right;\">92987.0</td><td style = \"text-align: right;\">25.0</td><td style = \"font-style: italic; text-align: right;\">missing</td><td style = \"text-align: right;\">35.0</td><td style = \"text-align: right;\">3.5e6</td><td style = \"text-align: right;\">7300</td><td style = \"text-align: right;\">34.8999</td><td style = \"text-align: right;\">23.2666</td></tr><tr><td class = \"rowNumber\" style = \"font-weight: bold; text-align: right;\">3</td><td style = \"text-align: right;\">100</td><td style = \"text-align: left;\">nobles</td><td style = \"text-align: right;\">72</td><td style = \"text-align: left;\">Iron Air</td><td style = \"text-align: right;\">93207.0</td><td style = \"text-align: right;\">25.0</td><td style = \"font-style: italic; text-align: right;\">missing</td><td style = \"text-align: right;\">35.0</td><td style = \"text-align: right;\">3.5e6</td><td style = \"text-align: right;\">7300</td><td style = \"text-align: right;\">34.8234</td><td style = \"text-align: right;\">23.2156</td></tr><tr><td class = \"rowNumber\" style = \"font-weight: bold; text-align: right;\">4</td><td style = \"text-align: right;\">100</td><td style = \"text-align: left;\">nobles</td><td style = \"text-align: right;\">96</td><td style = \"text-align: left;\">Iron Air</td><td style = \"text-align: right;\">93470.9</td><td style = \"text-align: right;\">25.0</td><td style = \"font-style: italic; text-align: right;\">missing</td><td style = \"text-align: right;\">35.0</td><td style = \"text-align: right;\">3.5e6</td><td style = \"text-align: right;\">7300</td><td style = \"text-align: right;\">34.7323</td><td style = \"text-align: right;\">23.1548</td></tr><tr><td class = \"rowNumber\" style = \"font-weight: bold; text-align: right;\">5</td><td style = \"text-align: right;\">100</td><td style = \"text-align: left;\">nobles</td><td style = \"text-align: right;\">168</td><td style = \"text-align: left;\">Iron Air</td><td style = \"text-align: right;\">93721.1</td><td style = \"text-align: right;\">25.0</td><td style = \"font-style: italic; text-align: right;\">missing</td><td style = \"text-align: right;\">35.0</td><td style = \"text-align: right;\">3.5e6</td><td style = \"text-align: right;\">7300</td><td style = \"text-align: right;\">34.6462</td><td style = \"text-align: right;\">23.0975</td></tr><tr><td class = \"rowNumber\" style = \"font-weight: bold; text-align: right;\">6</td><td style = \"text-align: right;\">100</td><td style = \"text-align: left;\">nobles</td><td style = \"text-align: right;\">240</td><td style = \"text-align: left;\">Iron Air</td><td style = \"text-align: right;\">94115.8</td><td style = \"text-align: right;\">25.0</td><td style = \"font-style: italic; text-align: right;\">missing</td><td style = \"text-align: right;\">35.0</td><td style = \"text-align: right;\">3.5e6</td><td style = \"text-align: right;\">7300</td><td style = \"text-align: right;\">34.5114</td><td style = \"text-align: right;\">23.0076</td></tr></tbody></table></div>"
      ],
      "text/latex": [
       "\\begin{tabular}{r|ccccccccc}\n",
       "\t& duration & location & lookahead & technology & revenue & lifespan & kW\\_cost & kWh\\_cost & \\\\\n",
       "\t\\hline\n",
       "\t& Int64 & String7 & Int64 & String31 & Float64 & Float64? & Float64? & Float64? & \\\\\n",
       "\t\\hline\n",
       "\t1 & 100 & nobles & 24 & Iron Air & 92193.9 & 25.0 & \\emph{missing} & 35.0 & $\\dots$ \\\\\n",
       "\t2 & 100 & nobles & 48 & Iron Air & 92987.0 & 25.0 & \\emph{missing} & 35.0 & $\\dots$ \\\\\n",
       "\t3 & 100 & nobles & 72 & Iron Air & 93207.0 & 25.0 & \\emph{missing} & 35.0 & $\\dots$ \\\\\n",
       "\t4 & 100 & nobles & 96 & Iron Air & 93470.9 & 25.0 & \\emph{missing} & 35.0 & $\\dots$ \\\\\n",
       "\t5 & 100 & nobles & 168 & Iron Air & 93721.1 & 25.0 & \\emph{missing} & 35.0 & $\\dots$ \\\\\n",
       "\t6 & 100 & nobles & 240 & Iron Air & 94115.8 & 25.0 & \\emph{missing} & 35.0 & $\\dots$ \\\\\n",
       "\\end{tabular}\n"
      ],
      "text/plain": [
       "\u001b[1m6×12 DataFrame\u001b[0m\n",
       "\u001b[1m Row \u001b[0m│\u001b[1m duration \u001b[0m\u001b[1m location \u001b[0m\u001b[1m lookahead \u001b[0m\u001b[1m technology \u001b[0m\u001b[1m revenue \u001b[0m\u001b[1m lifespan \u001b[0m\u001b[1m kW_cost  \u001b[0m\u001b[1m\u001b[0m ⋯\n",
       "     │\u001b[90m Int64    \u001b[0m\u001b[90m String7  \u001b[0m\u001b[90m Int64     \u001b[0m\u001b[90m String31   \u001b[0m\u001b[90m Float64 \u001b[0m\u001b[90m Float64? \u001b[0m\u001b[90m Float64? \u001b[0m\u001b[90m\u001b[0m ⋯\n",
       "─────┼──────────────────────────────────────────────────────────────────────────\n",
       "   1 │      100  nobles           24  Iron Air    92193.9      25.0 \u001b[90m  missing \u001b[0m ⋯\n",
       "   2 │      100  nobles           48  Iron Air    92987.0      25.0 \u001b[90m  missing \u001b[0m\n",
       "   3 │      100  nobles           72  Iron Air    93207.0      25.0 \u001b[90m  missing \u001b[0m\n",
       "   4 │      100  nobles           96  Iron Air    93470.9      25.0 \u001b[90m  missing \u001b[0m\n",
       "   5 │      100  nobles          168  Iron Air    93721.1      25.0 \u001b[90m  missing \u001b[0m ⋯\n",
       "   6 │      100  nobles          240  Iron Air    94115.8      25.0 \u001b[90m  missing \u001b[0m\n",
       "\u001b[36m                                                               5 columns omitted\u001b[0m"
      ]
     },
     "metadata": {},
     "output_type": "display_data"
    }
   ],
   "source": [
    "@chain revenue begin\n",
    "    @rsubset :technology in [\"Iron Air\"]\n",
    "    @rsubset :duration == 100 # || :duration == 4\n",
    "    @rsubset :location == \"nobles\"\n",
    "    @orderby :technology\n",
    "end"
   ]
  },
  {
   "cell_type": "code",
   "execution_count": 13,
   "metadata": {},
   "outputs": [],
   "source": []
  }
 ],
 "metadata": {
  "kernelspec": {
   "display_name": "Julia 1.10.5",
   "language": "julia",
   "name": "julia-1.10"
  },
  "language_info": {
   "file_extension": ".jl",
   "mimetype": "application/julia",
   "name": "julia",
   "version": "1.10.5"
  }
 },
 "nbformat": 4,
 "nbformat_minor": 2
}
