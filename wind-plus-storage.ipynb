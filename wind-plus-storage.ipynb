{
 "cells": [
  {
   "cell_type": "code",
   "execution_count": 1,
   "id": "e9a6452f-ca74-46b0-89de-892add9e58b7",
   "metadata": {
    "editable": true,
    "slideshow": {
     "slide_type": ""
    },
    "tags": []
   },
   "outputs": [
    {
     "data": {
      "application/vnd.webio.node+json": {
       "children": [],
       "instanceArgs": {
        "namespace": "html",
        "tag": "div"
       },
       "nodeType": "DOM",
       "props": {},
       "type": "node"
      },
      "text/html": [
       "<div style=\"padding: 1em; background-color: #f8d6da; border: 1px solid #f5c6cb; font-weight: bold;\">\n",
       "<p>The WebIO Jupyter extension was not detected. See the\n",
       "<a href=\"https://juliagizmos.github.io/WebIO.jl/latest/providers/ijulia/\" target=\"_blank\">\n",
       "    WebIO Jupyter integration documentation\n",
       "</a>\n",
       "for more information.\n",
       "</div>\n"
      ],
      "text/plain": [
       "WebIO._IJuliaInit()"
      ]
     },
     "metadata": {},
     "output_type": "display_data"
    }
   ],
   "source": [
    "using PowerSystems\n",
    "using PowerSimulations\n",
    "using PowerSystemCaseBuilder\n",
    "using StorageSystemsSimulations\n",
    "using HiGHS\n",
    "# using Gurobi\n",
    "using Dates\n",
    "using DataFrames\n",
    "using PlotlyJS"
   ]
  },
  {
   "cell_type": "markdown",
   "id": "22b25410-3dbb-449d-88d4-e8b25dda070f",
   "metadata": {
    "jp-MarkdownHeadingCollapsed": true
   },
   "source": [
    "## System Diagrams\n",
    "\n",
    "\n",
    "**Copper Plate**\n",
    "\n",
    "```mermaid\n",
    "---\n",
    "\n",
    "config:\n",
    "  look: handDrawn\n",
    "  theme: neutral\n",
    "  flowchart:\n",
    "      curve: linear\n",
    "---\n",
    "graph LR;\n",
    "    wind-1((wind-1)) --- bus-1;\n",
    "    storage-1((storage-1)) --- bus-1;\n",
    "    bus-1 --- load-1((load-1));\n",
    "    bus-1 --- gas-1((gas-1));\n",
    "```\n",
    "\n",
    "---\n",
    "\n",
    "**Storage near Wind**\n",
    "\n",
    "```mermaid\n",
    "---\n",
    "config:\n",
    "  look: handDrawn\n",
    "  theme: neutral\n",
    "  flowchart:\n",
    "      curve: linear\n",
    "---\n",
    "graph LR;\n",
    "    bus-1[bus-1] ---- tr-1[[transmission constraint]]\n",
    "    tr-1 ---- bus-2[bus-2];\n",
    "    wind-1((wind-1)) --- bus-1;\n",
    "    storage-1((storage-1)) --- bus-1;\n",
    "    bus-2 --- load-1((load-1));\n",
    "    bus-2 --- gas-1((gas-1));\n",
    "```\n",
    "\n",
    "---\n",
    "\n",
    "**Storage near Load**\n",
    "\n",
    "```mermaid\n",
    "---\n",
    "config:\n",
    "  look: handDrawn\n",
    "  theme: neutral\n",
    "  flowchart:\n",
    "      curve: linear\n",
    "---\n",
    "graph LR;\n",
    "    bus-1[bus-1] ---- tr-1[[transmission constraint]]\n",
    "    tr-1 ---- bus-2[bus-2];\n",
    "    wind-1((wind-1)) --- bus-1;\n",
    "    bus-2 --- storage-1((storage-1));\n",
    "    bus-2 --- load-1((load-1));\n",
    "    bus-2 --- gas-1((gas-1));\n",
    "```"
   ]
  },
  {
   "cell_type": "markdown",
   "id": "3a970e5c-290c-4271-957b-6ab297a6c6c3",
   "metadata": {
    "editable": true,
    "slideshow": {
     "slide_type": ""
    },
    "tags": []
   },
   "source": [
    "## Build System"
   ]
  },
  {
   "cell_type": "markdown",
   "id": "5ec2258c-a7ac-43fc-bae4-d8c260058e0a",
   "metadata": {},
   "source": [
    "### Components"
   ]
  },
  {
   "cell_type": "code",
   "execution_count": 2,
   "id": "a1d3e6d8-062e-4aa5-84a3-44f6c49336b0",
   "metadata": {
    "editable": true,
    "slideshow": {
     "slide_type": ""
    },
    "tags": []
   },
   "outputs": [
    {
     "data": {
      "text/plain": [
       "make_system (generic function with 1 method)"
      ]
     },
     "execution_count": 2,
     "metadata": {},
     "output_type": "execute_result"
    }
   ],
   "source": [
    "## Topology\n",
    "function make_system(;storage::Bool=false) \n",
    "    area1 = Area(\n",
    "        name = \"area-1\",\n",
    "        peak_active_power = 30,\n",
    "    )\n",
    "    area2 = Area(\n",
    "        name = \"area-2\",\n",
    "        peak_active_power = 30,\n",
    "    )\n",
    "    bus1 = ACBus(\n",
    "        number = 1,\n",
    "        name = \"bus-1\",\n",
    "        bustype = ACBusTypes.REF,\n",
    "        angle = 0.0,\n",
    "        magnitude = 1.0,\n",
    "        voltage_limits = (min = 0.9, max = 1.05),\n",
    "        base_voltage = 230.0,\n",
    "        area = area1\n",
    "    )\n",
    "    bus2 = ACBus(\n",
    "        number = 2,\n",
    "        name = \"bus-2\",\n",
    "        bustype = ACBusTypes.REF,\n",
    "        angle = 0.0,\n",
    "        magnitude = 1.0,\n",
    "        voltage_limits = (min = 0.9, max = 1.05),\n",
    "        base_voltage = 230.0,\n",
    "        area = area2\n",
    "    )\n",
    "    line1 = Line(\n",
    "        name = \"line-1\",\n",
    "        available = true,\n",
    "        active_power_flow = 0.0,\n",
    "        reactive_power_flow = 0.0,\n",
    "        arc = Arc(; from = bus1, to = bus2),\n",
    "        r = 0.00281, # Per-unit\n",
    "        x = 0.0281, # Per-unit\n",
    "        b = (from = 0.00356, to = 0.00356), # Per-unit\n",
    "        rating = 0.3,\n",
    "        angle_limits = (min = -0.7, max = 0.7),\n",
    "    )\n",
    "    \n",
    "    # Generation\n",
    "    wind1 = RenewableDispatch(\n",
    "        name = \"wind-1\",\n",
    "        available = true,\n",
    "        bus = bus1,\n",
    "        active_power = 0.0,\n",
    "        reactive_power = 0.0,\n",
    "        rating = 40.0,\n",
    "        prime_mover_type = PrimeMovers.WT,\n",
    "        reactive_power_limits = nothing,\n",
    "        power_factor = 1.0,\n",
    "        operation_cost = RenewableGenerationCost(; variable = CostCurve(; value_curve = LinearCurve(1.0))),\n",
    "        base_power = 1.0\n",
    "    )\n",
    "\n",
    "    storage1 = EnergyReservoirStorage(\n",
    "        name = \"storage-1\",\n",
    "        available = true,\n",
    "        bus = bus1,\n",
    "        prime_mover_type = PrimeMovers.BA,\n",
    "        storage_technology_type = StorageTech.LIB,\n",
    "        storage_capacity = 4.0,\n",
    "        storage_level_limits = (0.0, 1.0),\n",
    "        initial_storage_capacity_level = 0.0,\n",
    "        rating = 1.0,\n",
    "        active_power = 0.0,\n",
    "        reactive_power = 0.0,\n",
    "        reactive_power_limits = nothing,\n",
    "        input_active_power_limits = (0.0, 2.0),\n",
    "        output_active_power_limits = (0.0, 2.0),\n",
    "        efficiency = (in=1.0, out=1.0),\n",
    "        base_power = 1.0,\n",
    "        operation_cost = StorageCost(; energy_shortage_cost = 50.0, energy_surplus_cost = 40.0),\n",
    "    )\n",
    "    \n",
    "    gas1 = ThermalStandard(\n",
    "        name = \"gas-1\",\n",
    "        available = true,\n",
    "        status = true,\n",
    "        bus = bus2,\n",
    "        active_power = 0.0,\n",
    "        reactive_power = 0.0,\n",
    "        rating = 30.0,\n",
    "        active_power_limits = (min = 0.0, max = 30.0),\n",
    "        reactive_power_limits = nothing,\n",
    "        ramp_limits = nothing,\n",
    "        operation_cost = ThermalGenerationCost(variable = CostCurve(; value_curve = LinearCurve(10.0)), fixed = 0.0, start_up = 0.0, shut_down = 0.0),\n",
    "        base_power = 1.0, # MVA\n",
    "        time_limits = (up = 0.0, down = 0.0),\n",
    "        prime_mover_type = PrimeMovers.CC,\n",
    "        fuel = ThermalFuels.NATURAL_GAS,\n",
    "    )\n",
    "    \n",
    "    #Load\n",
    "    load1 = PowerLoad(\n",
    "        name = \"load-1\",\n",
    "        available = true,\n",
    "        bus = bus2,\n",
    "        active_power = 0.0,\n",
    "        reactive_power = 0.0,\n",
    "        base_power = 1.0,\n",
    "        max_active_power = 30.0,\n",
    "        max_reactive_power = 0.0,\n",
    "    )\n",
    "    \n",
    "    system = System(100.0);\n",
    "    # clear_components!(system)\n",
    "    add_components!(system, [area1, area2, bus1, bus2, line1])\n",
    "    add_components!(system, [wind1, gas1])\n",
    "    if storage \n",
    "        add_components!(system, [storage1])\n",
    "    end\n",
    "    add_components!(system, [load1])\n",
    "\n",
    "    clear_time_series!(system)\n",
    "    add_time_series!(system, \"./timeseries-pointers-rt.json\")\n",
    "    transform_single_time_series!(system, Dates.Day(7), Dates.Day(7))\n",
    "\n",
    "    return(system)\n",
    "end"
   ]
  },
  {
   "cell_type": "code",
   "execution_count": 3,
   "id": "1f9f6dc6",
   "metadata": {},
   "outputs": [
    {
     "name": "stderr",
     "output_type": "stream",
     "text": [
      "\u001b[36m\u001b[1m[ \u001b[22m\u001b[39m\u001b[36m\u001b[1mInfo: \u001b[22m\u001b[39mCleared all time series.\n",
      "\u001b[33m\u001b[1m┌ \u001b[22m\u001b[39m\u001b[33m\u001b[1mWarning: \u001b[22m\u001b[39mThere is only one forecast window. Setting interval = empty period\n",
      "\u001b[33m\u001b[1m└ \u001b[22m\u001b[39m\u001b[90m@ InfrastructureSystems C:\\Users\\UEU112259C\\.julia\\packages\\InfrastructureSystems\\LEg3t\\src\\system_data.jl:696\u001b[39m\n",
      "\u001b[33m\u001b[1m┌ \u001b[22m\u001b[39m\u001b[33m\u001b[1mWarning: \u001b[22m\u001b[39mThere is only one forecast window. Setting interval = empty period\n",
      "\u001b[33m\u001b[1m└ \u001b[22m\u001b[39m\u001b[90m@ InfrastructureSystems C:\\Users\\UEU112259C\\.julia\\packages\\InfrastructureSystems\\LEg3t\\src\\system_data.jl:696\u001b[39m\n"
     ]
    },
    {
     "data": {
      "text/html": [
       "<table>\n",
       "  <caption style = \"text-align: left;\">System</caption>\n",
       "  <thead>\n",
       "    <tr class = \"header headerLastRow\">\n",
       "      <th style = \"text-align: left;\">Property</th>\n",
       "      <th style = \"text-align: left;\">Value</th>\n",
       "    </tr>\n",
       "  </thead>\n",
       "  <tbody>\n",
       "    <tr>\n",
       "      <td style = \"text-align: left;\">Name</td>\n",
       "      <td style = \"text-align: left;\"></td>\n",
       "    </tr>\n",
       "    <tr>\n",
       "      <td style = \"text-align: left;\">Description</td>\n",
       "      <td style = \"text-align: left;\"></td>\n",
       "    </tr>\n",
       "    <tr>\n",
       "      <td style = \"text-align: left;\">System Units Base</td>\n",
       "      <td style = \"text-align: left;\">SYSTEM_BASE</td>\n",
       "    </tr>\n",
       "    <tr>\n",
       "      <td style = \"text-align: left;\">Base Power</td>\n",
       "      <td style = \"text-align: left;\">100.0</td>\n",
       "    </tr>\n",
       "    <tr>\n",
       "      <td style = \"text-align: left;\">Base Frequency</td>\n",
       "      <td style = \"text-align: left;\">60.0</td>\n",
       "    </tr>\n",
       "    <tr>\n",
       "      <td style = \"text-align: left;\">Num Components</td>\n",
       "      <td style = \"text-align: left;\">10</td>\n",
       "    </tr>\n",
       "  </tbody>\n",
       "</table>\n",
       "\n",
       "<table>\n",
       "  <caption style = \"text-align: left;\">Static Components</caption>\n",
       "  <thead>\n",
       "    <tr class = \"header headerLastRow\">\n",
       "      <th style = \"text-align: left;\">Type</th>\n",
       "      <th style = \"text-align: left;\">Count</th>\n",
       "    </tr>\n",
       "  </thead>\n",
       "  <tbody>\n",
       "    <tr>\n",
       "      <td style = \"text-align: left;\">ACBus</td>\n",
       "      <td style = \"text-align: left;\">2</td>\n",
       "    </tr>\n",
       "    <tr>\n",
       "      <td style = \"text-align: left;\">Arc</td>\n",
       "      <td style = \"text-align: left;\">1</td>\n",
       "    </tr>\n",
       "    <tr>\n",
       "      <td style = \"text-align: left;\">Area</td>\n",
       "      <td style = \"text-align: left;\">2</td>\n",
       "    </tr>\n",
       "    <tr>\n",
       "      <td style = \"text-align: left;\">EnergyReservoirStorage</td>\n",
       "      <td style = \"text-align: left;\">1</td>\n",
       "    </tr>\n",
       "    <tr>\n",
       "      <td style = \"text-align: left;\">Line</td>\n",
       "      <td style = \"text-align: left;\">1</td>\n",
       "    </tr>\n",
       "    <tr>\n",
       "      <td style = \"text-align: left;\">PowerLoad</td>\n",
       "      <td style = \"text-align: left;\">1</td>\n",
       "    </tr>\n",
       "    <tr>\n",
       "      <td style = \"text-align: left;\">RenewableDispatch</td>\n",
       "      <td style = \"text-align: left;\">1</td>\n",
       "    </tr>\n",
       "    <tr>\n",
       "      <td style = \"text-align: left;\">ThermalStandard</td>\n",
       "      <td style = \"text-align: left;\">1</td>\n",
       "    </tr>\n",
       "  </tbody>\n",
       "</table>\n",
       "\n",
       "<table>\n",
       "  <caption style = \"text-align: left;\">StaticTimeSeries Summary</caption>\n",
       "  <thead>\n",
       "    <tr class = \"header\">\n",
       "      <th style = \"text-align: left;\">owner_type</th>\n",
       "      <th style = \"text-align: left;\">owner_category</th>\n",
       "      <th style = \"text-align: left;\">time_series_type</th>\n",
       "      <th style = \"text-align: left;\">initial_timestamp</th>\n",
       "      <th style = \"text-align: left;\">resolution</th>\n",
       "      <th style = \"text-align: left;\">count</th>\n",
       "      <th style = \"text-align: left;\">time_step_count</th>\n",
       "    </tr>\n",
       "    <tr class = \"subheader headerLastRow\">\n",
       "      <th style = \"text-align: left;\">String</th>\n",
       "      <th style = \"text-align: left;\">String</th>\n",
       "      <th style = \"text-align: left;\">String</th>\n",
       "      <th style = \"text-align: left;\">String</th>\n",
       "      <th style = \"text-align: left;\">Dates.CompoundPeriod</th>\n",
       "      <th style = \"text-align: left;\">Int64</th>\n",
       "      <th style = \"text-align: left;\">Int64</th>\n",
       "    </tr>\n",
       "  </thead>\n",
       "  <tbody>\n",
       "    <tr>\n",
       "      <td style = \"text-align: left;\">PowerLoad</td>\n",
       "      <td style = \"text-align: left;\">Component</td>\n",
       "      <td style = \"text-align: left;\">SingleTimeSeries</td>\n",
       "      <td style = \"text-align: left;\">2020-01-01T00:00:00</td>\n",
       "      <td style = \"text-align: left;\">1 hour</td>\n",
       "      <td style = \"text-align: left;\">1</td>\n",
       "      <td style = \"text-align: left;\">168</td>\n",
       "    </tr>\n",
       "    <tr>\n",
       "      <td style = \"text-align: left;\">RenewableDispatch</td>\n",
       "      <td style = \"text-align: left;\">Component</td>\n",
       "      <td style = \"text-align: left;\">SingleTimeSeries</td>\n",
       "      <td style = \"text-align: left;\">2020-01-01T00:00:00</td>\n",
       "      <td style = \"text-align: left;\">1 hour</td>\n",
       "      <td style = \"text-align: left;\">1</td>\n",
       "      <td style = \"text-align: left;\">168</td>\n",
       "    </tr>\n",
       "  </tbody>\n",
       "</table>\n",
       "<table>\n",
       "  <caption style = \"text-align: left;\">Forecast Summary</caption>\n",
       "  <thead>\n",
       "    <tr class = \"header\">\n",
       "      <th style = \"text-align: left;\">owner_type</th>\n",
       "      <th style = \"text-align: left;\">owner_category</th>\n",
       "      <th style = \"text-align: left;\">time_series_type</th>\n",
       "      <th style = \"text-align: left;\">initial_timestamp</th>\n",
       "      <th style = \"text-align: left;\">resolution</th>\n",
       "      <th style = \"text-align: left;\">count</th>\n",
       "      <th style = \"text-align: left;\">horizon</th>\n",
       "      <th style = \"text-align: left;\">interval</th>\n",
       "      <th style = \"text-align: left;\">window_count</th>\n",
       "    </tr>\n",
       "    <tr class = \"subheader headerLastRow\">\n",
       "      <th style = \"text-align: left;\">String</th>\n",
       "      <th style = \"text-align: left;\">String</th>\n",
       "      <th style = \"text-align: left;\">String</th>\n",
       "      <th style = \"text-align: left;\">String</th>\n",
       "      <th style = \"text-align: left;\">Dates.CompoundPeriod</th>\n",
       "      <th style = \"text-align: left;\">Int64</th>\n",
       "      <th style = \"text-align: left;\">Dates.CompoundPeriod</th>\n",
       "      <th style = \"text-align: left;\">Dates.CompoundPeriod</th>\n",
       "      <th style = \"text-align: left;\">Int64</th>\n",
       "    </tr>\n",
       "  </thead>\n",
       "  <tbody>\n",
       "    <tr>\n",
       "      <td style = \"text-align: left;\">PowerLoad</td>\n",
       "      <td style = \"text-align: left;\">Component</td>\n",
       "      <td style = \"text-align: left;\">DeterministicSingleTimeSeries</td>\n",
       "      <td style = \"text-align: left;\">2020-01-01T00:00:00</td>\n",
       "      <td style = \"text-align: left;\">1 hour</td>\n",
       "      <td style = \"text-align: left;\">1</td>\n",
       "      <td style = \"text-align: left;\">1 week</td>\n",
       "      <td style = \"text-align: left;\">empty period</td>\n",
       "      <td style = \"text-align: left;\">1</td>\n",
       "    </tr>\n",
       "    <tr>\n",
       "      <td style = \"text-align: left;\">RenewableDispatch</td>\n",
       "      <td style = \"text-align: left;\">Component</td>\n",
       "      <td style = \"text-align: left;\">DeterministicSingleTimeSeries</td>\n",
       "      <td style = \"text-align: left;\">2020-01-01T00:00:00</td>\n",
       "      <td style = \"text-align: left;\">1 hour</td>\n",
       "      <td style = \"text-align: left;\">1</td>\n",
       "      <td style = \"text-align: left;\">1 week</td>\n",
       "      <td style = \"text-align: left;\">empty period</td>\n",
       "      <td style = \"text-align: left;\">1</td>\n",
       "    </tr>\n",
       "  </tbody>\n",
       "</table>\n"
      ],
      "text/plain": [
       "\u001b[1mSystem\u001b[0m\n",
       "┌───────────────────┬─────────────┐\n",
       "│\u001b[1m Property          \u001b[0m│\u001b[1m Value       \u001b[0m│\n",
       "├───────────────────┼─────────────┤\n",
       "│ Name              │             │\n",
       "│ Description       │             │\n",
       "│ System Units Base │ SYSTEM_BASE │\n",
       "│ Base Power        │ 100.0       │\n",
       "│ Base Frequency    │ 60.0        │\n",
       "│ Num Components    │ 10          │\n",
       "└───────────────────┴─────────────┘\n",
       "\n",
       "\u001b[1mStatic Components\u001b[0m\n",
       "┌────────────────────────┬───────┐\n",
       "│\u001b[1m Type                   \u001b[0m│\u001b[1m Count \u001b[0m│\n",
       "├────────────────────────┼───────┤\n",
       "│ ACBus                  │ 2     │\n",
       "│ Arc                    │ 1     │\n",
       "│ Area                   │ 2     │\n",
       "│ EnergyReservoirStorage │ 1     │\n",
       "│ Line                   │ 1     │\n",
       "│ PowerLoad              │ 1     │\n",
       "│ RenewableDispatch      │ 1     │\n",
       "│ ThermalStandard        │ 1     │\n",
       "└────────────────────────┴───────┘\n",
       "\n",
       "\u001b[1mStaticTimeSeries Summary\u001b[0m\n",
       "┌───────────────────┬────────────────┬──────────────────┬───────────────────────\n",
       "│\u001b[1m owner_type        \u001b[0m│\u001b[1m owner_category \u001b[0m│\u001b[1m time_series_type \u001b[0m│\u001b[1m initial_timestamp   \u001b[0m ⋯\n",
       "│\u001b[90m String            \u001b[0m│\u001b[90m String         \u001b[0m│\u001b[90m String           \u001b[0m│\u001b[90m String              \u001b[0m ⋯\n",
       "├───────────────────┼────────────────┼──────────────────┼───────────────────────\n",
       "│ PowerLoad         │ Component      │ SingleTimeSeries │ 2020-01-01T00:00:00  ⋯\n",
       "│ RenewableDispatch │ Component      │ SingleTimeSeries │ 2020-01-01T00:00:00  ⋯\n",
       "└───────────────────┴────────────────┴──────────────────┴───────────────────────\n",
       "\u001b[36m                                                               3 columns omitted\u001b[0m\n",
       "\u001b[1mForecast Summary\u001b[0m\n",
       "┌───────────────────┬────────────────┬───────────────────────────────┬──────────\n",
       "│\u001b[1m owner_type        \u001b[0m│\u001b[1m owner_category \u001b[0m│\u001b[1m time_series_type              \u001b[0m│\u001b[1m initial\u001b[0m ⋯\n",
       "│\u001b[90m String            \u001b[0m│\u001b[90m String         \u001b[0m│\u001b[90m String                        \u001b[0m│\u001b[90m String \u001b[0m ⋯\n",
       "├───────────────────┼────────────────┼───────────────────────────────┼──────────\n",
       "│ PowerLoad         │ Component      │ DeterministicSingleTimeSeries │ 2020-01 ⋯\n",
       "│ RenewableDispatch │ Component      │ DeterministicSingleTimeSeries │ 2020-01 ⋯\n",
       "└───────────────────┴────────────────┴───────────────────────────────┴──────────\n",
       "\u001b[36m                                                               6 columns omitted\u001b[0m\n"
      ]
     },
     "execution_count": 3,
     "metadata": {},
     "output_type": "execute_result"
    }
   ],
   "source": [
    "system = make_system(storage=true)"
   ]
  },
  {
   "cell_type": "markdown",
   "id": "99c57e0d-4f2e-446a-96ec-216de46c101a",
   "metadata": {},
   "source": [
    "## Problem Formation and Solution"
   ]
  },
  {
   "cell_type": "markdown",
   "id": "9fbf1181-69d6-4cc7-9d51-4b83e1e1117f",
   "metadata": {},
   "source": [
    "### Define Problem"
   ]
  },
  {
   "cell_type": "code",
   "execution_count": 4,
   "id": "ffd5cd9a-95d9-4cbc-8236-cdd1d032288b",
   "metadata": {},
   "outputs": [
    {
     "data": {
      "text/html": [
       "<table>\n",
       "  <caption style = \"text-align: left;\">Network Model</caption>\n",
       "  <tbody>\n",
       "    <tr>\n",
       "      <td style = \"text-align: left;\">Network Model</td>\n",
       "      <td style = \"text-align: left;\">CopperPlatePowerModel</td>\n",
       "    </tr>\n",
       "    <tr>\n",
       "      <td style = \"text-align: left;\">Slacks</td>\n",
       "      <td style = \"text-align: left;\">true</td>\n",
       "    </tr>\n",
       "    <tr>\n",
       "      <td style = \"text-align: left;\">PTDF</td>\n",
       "      <td style = \"text-align: left;\">false</td>\n",
       "    </tr>\n",
       "    <tr>\n",
       "      <td style = \"text-align: left;\">Duals</td>\n",
       "      <td style = \"text-align: left;\">None</td>\n",
       "    </tr>\n",
       "  </tbody>\n",
       "</table>\n",
       "\n",
       "<table>\n",
       "  <caption style = \"text-align: left;\">Device Models</caption>\n",
       "  <thead>\n",
       "    <tr class = \"header headerLastRow\">\n",
       "      <th style = \"text-align: left;\">Device Type</th>\n",
       "      <th style = \"text-align: left;\">Formulation</th>\n",
       "      <th style = \"text-align: left;\">Slacks</th>\n",
       "    </tr>\n",
       "  </thead>\n",
       "  <tbody>\n",
       "    <tr>\n",
       "      <td style = \"text-align: left;\">RenewableNonDispatch</td>\n",
       "      <td style = \"text-align: left;\">FixedOutput</td>\n",
       "      <td style = \"text-align: left;\">false</td>\n",
       "    </tr>\n",
       "    <tr>\n",
       "      <td style = \"text-align: left;\">ThermalStandard</td>\n",
       "      <td style = \"text-align: left;\">ThermalBasicDispatch</td>\n",
       "      <td style = \"text-align: left;\">false</td>\n",
       "    </tr>\n",
       "    <tr>\n",
       "      <td style = \"text-align: left;\">PowerLoad</td>\n",
       "      <td style = \"text-align: left;\">StaticPowerLoad</td>\n",
       "      <td style = \"text-align: left;\">false</td>\n",
       "    </tr>\n",
       "    <tr>\n",
       "      <td style = \"text-align: left;\">InterruptiblePowerLoad</td>\n",
       "      <td style = \"text-align: left;\">PowerLoadInterruption</td>\n",
       "      <td style = \"text-align: left;\">false</td>\n",
       "    </tr>\n",
       "    <tr>\n",
       "      <td style = \"text-align: left;\">RenewableDispatch</td>\n",
       "      <td style = \"text-align: left;\">RenewableFullDispatch</td>\n",
       "      <td style = \"text-align: left;\">false</td>\n",
       "    </tr>\n",
       "    <tr>\n",
       "      <td style = \"text-align: left;\">EnergyReservoirStorage</td>\n",
       "      <td style = \"text-align: left;\">StorageDispatchWithReserves</td>\n",
       "      <td style = \"text-align: left;\">false</td>\n",
       "    </tr>\n",
       "  </tbody>\n",
       "</table>\n",
       "\n",
       "<table>\n",
       "  <caption style = \"text-align: left;\">Branch Models</caption>\n",
       "  <thead>\n",
       "    <tr class = \"header headerLastRow\">\n",
       "      <th style = \"text-align: left;\">Branch Type</th>\n",
       "      <th style = \"text-align: left;\">Formulation</th>\n",
       "      <th style = \"text-align: left;\">Slacks</th>\n",
       "    </tr>\n",
       "  </thead>\n",
       "  <tbody>\n",
       "    <tr>\n",
       "      <td style = \"text-align: left;\">Line</td>\n",
       "      <td style = \"text-align: left;\">StaticBranch</td>\n",
       "      <td style = \"text-align: left;\">false</td>\n",
       "    </tr>\n",
       "    <tr>\n",
       "      <td style = \"text-align: left;\">TapTransformer</td>\n",
       "      <td style = \"text-align: left;\">StaticBranch</td>\n",
       "      <td style = \"text-align: left;\">false</td>\n",
       "    </tr>\n",
       "    <tr>\n",
       "      <td style = \"text-align: left;\">Transformer2W</td>\n",
       "      <td style = \"text-align: left;\">StaticBranch</td>\n",
       "      <td style = \"text-align: left;\">false</td>\n",
       "    </tr>\n",
       "    <tr>\n",
       "      <td style = \"text-align: left;\">TwoTerminalHVDCLine</td>\n",
       "      <td style = \"text-align: left;\">HVDCTwoTerminalDispatch</td>\n",
       "      <td style = \"text-align: left;\">false</td>\n",
       "    </tr>\n",
       "  </tbody>\n",
       "</table>\n",
       "\n",
       "<table>\n",
       "  <caption style = \"text-align: left;\">Service Models</caption>\n",
       "  <thead>\n",
       "    <tr class = \"header headerLastRow\">\n",
       "      <th style = \"text-align: left;\">Service Type</th>\n",
       "      <th style = \"text-align: left;\">Formulation</th>\n",
       "      <th style = \"text-align: left;\">Slacks</th>\n",
       "      <th style = \"text-align: left;\">Aggregated Model</th>\n",
       "    </tr>\n",
       "  </thead>\n",
       "  <tbody>\n",
       "    <tr>\n",
       "      <td style = \"text-align: left;\">VariableReserve{ReserveUp}</td>\n",
       "      <td style = \"text-align: left;\">RangeReserve</td>\n",
       "      <td style = \"text-align: left;\">false</td>\n",
       "      <td style = \"text-align: left;\">true</td>\n",
       "    </tr>\n",
       "    <tr>\n",
       "      <td style = \"text-align: left;\">VariableReserve{ReserveDown}</td>\n",
       "      <td style = \"text-align: left;\">RangeReserve</td>\n",
       "      <td style = \"text-align: left;\">false</td>\n",
       "      <td style = \"text-align: left;\">true</td>\n",
       "    </tr>\n",
       "  </tbody>\n",
       "</table>\n"
      ],
      "text/plain": [
       "\u001b[1mNetwork Model\u001b[0m\n",
       "┌───────────────┬───────────────────────┐\n",
       "│ Network Model │ CopperPlatePowerModel │\n",
       "│ Slacks        │ true                  │\n",
       "│ PTDF          │ false                 │\n",
       "│ Duals         │ None                  │\n",
       "└───────────────┴───────────────────────┘\n",
       "\n",
       "\u001b[1mDevice Models\u001b[0m\n",
       "┌────────────────────────┬─────────────────────────────┬────────┐\n",
       "│\u001b[1m Device Type            \u001b[0m│\u001b[1m Formulation                 \u001b[0m│\u001b[1m Slacks \u001b[0m│\n",
       "├────────────────────────┼─────────────────────────────┼────────┤\n",
       "│ RenewableNonDispatch   │ FixedOutput                 │ false  │\n",
       "│ ThermalStandard        │ ThermalBasicDispatch        │ false  │\n",
       "│ PowerLoad              │ StaticPowerLoad             │ false  │\n",
       "│ InterruptiblePowerLoad │ PowerLoadInterruption       │ false  │\n",
       "│ RenewableDispatch      │ RenewableFullDispatch       │ false  │\n",
       "│ EnergyReservoirStorage │ StorageDispatchWithReserves │ false  │\n",
       "└────────────────────────┴─────────────────────────────┴────────┘\n",
       "\n",
       "\u001b[1mBranch Models\u001b[0m\n",
       "┌─────────────────────┬─────────────────────────┬────────┐\n",
       "│\u001b[1m Branch Type         \u001b[0m│\u001b[1m Formulation             \u001b[0m│\u001b[1m Slacks \u001b[0m│\n",
       "├─────────────────────┼─────────────────────────┼────────┤\n",
       "│ Line                │ StaticBranch            │ false  │\n",
       "│ TapTransformer      │ StaticBranch            │ false  │\n",
       "│ Transformer2W       │ StaticBranch            │ false  │\n",
       "│ TwoTerminalHVDCLine │ HVDCTwoTerminalDispatch │ false  │\n",
       "└─────────────────────┴─────────────────────────┴────────┘\n",
       "\n",
       "\u001b[1mService Models\u001b[0m\n",
       "┌──────────────────────────────┬──────────────┬────────┬──────────────────┐\n",
       "│\u001b[1m Service Type                 \u001b[0m│\u001b[1m Formulation  \u001b[0m│\u001b[1m Slacks \u001b[0m│\u001b[1m Aggregated Model \u001b[0m│\n",
       "├──────────────────────────────┼──────────────┼────────┼──────────────────┤\n",
       "│ VariableReserve{ReserveUp}   │ RangeReserve │ false  │ true             │\n",
       "│ VariableReserve{ReserveDown} │ RangeReserve │ false  │ true             │\n",
       "└──────────────────────────────┴──────────────┴────────┴──────────────────┘\n"
      ]
     },
     "execution_count": 4,
     "metadata": {},
     "output_type": "execute_result"
    }
   ],
   "source": [
    "template = template_economic_dispatch();\n",
    "\n",
    "set_network_model!(\n",
    "    template,\n",
    "    NetworkModel(CopperPlatePowerModel, use_slacks = true)\n",
    ")\n",
    "storage_model = DeviceModel(\n",
    "    EnergyReservoirStorage,\n",
    "    StorageDispatchWithReserves;\n",
    "    attributes=Dict(\n",
    "        \"reservation\" => false,\n",
    "        \"energy_target\" => false,\n",
    "        \"cycling_limits\" => false,\n",
    "        \"regularization\" => false,\n",
    "    ),\n",
    ")\n",
    "set_device_model!(template, storage_model)\n",
    "template"
   ]
  },
  {
   "cell_type": "code",
   "execution_count": 5,
   "id": "9c01db3a-5a51-4635-a389-29be699a3a63",
   "metadata": {
    "editable": true,
    "slideshow": {
     "slide_type": ""
    },
    "tags": []
   },
   "outputs": [
    {
     "data": {
      "text/plain": [
       "InfrastructureSystems.Optimization.ModelBuildStatusModule.ModelBuildStatus.BUILT = 0"
      ]
     },
     "execution_count": 5,
     "metadata": {},
     "output_type": "execute_result"
    }
   ],
   "source": [
    "# solver = optimizer_with_attributes(Gurobi.Optimizer, \"MIPGap\" => 0.5) \n",
    "solver = optimizer_with_attributes(HiGHS.Optimizer, \"mip_rel_gap\" => 0.5)\n",
    "problem = DecisionModel(\n",
    "    template,\n",
    "    system;\n",
    "    optimizer = solver,\n",
    "    horizon = Day(7),\n",
    "    optimizer_solve_log_print = true,\n",
    "    calculate_conflict = true,\n",
    "    store_variable_names = true,\n",
    ")\n",
    "build!(problem; output_dir = mktempdir())"
   ]
  },
  {
   "cell_type": "markdown",
   "id": "1ea908e4-af89-4727-a7aa-800a030e1792",
   "metadata": {},
   "source": [
    "### Solve Problem"
   ]
  },
  {
   "cell_type": "code",
   "execution_count": 6,
   "id": "a4ff04c9-2a1f-4747-bdb6-aeffdee9994e",
   "metadata": {
    "editable": true,
    "slideshow": {
     "slide_type": ""
    },
    "tags": []
   },
   "outputs": [
    {
     "name": "stdout",
     "output_type": "stream",
     "text": [
      "Running HiGHS 1.11.0 (git hash: 364c83a51e): Copyright (c) 2025 HiGHS under MIT licence terms\n",
      "LP   has 1848 rows; 1176 cols; 3191 nonzeros\n",
      "Coefficient ranges:\n",
      "  Matrix [1e+00, 1e+00]\n",
      "  Cost   [1e+02, 1e+06]\n",
      "  Bound  [2e-02, 4e-01]\n",
      "  RHS    [2e-02, 4e-01]\n",
      "Solving LP without presolve, or with basis, or unconstrained\n",
      "Using EKK dual simplex solver - serial\n",
      "  Iteration        Objective     Infeasibilities num(sum)\n",
      "          0     0.0000000000e+00 Ph1: 0(0) 0s\n",
      "        559     9.5945444455e+03 Pr: 0(0) 0s\n",
      "Model status        : Optimal\n",
      "Simplex   iterations: 559\n",
      "Objective value     :  9.5945444455e+03\n",
      "P-D objective error :  6.6351572924e-16\n",
      "HiGHS run time      :          0.01\n"
     ]
    },
    {
     "data": {
      "text/plain": [
       "InfrastructureSystems.Simulation.RunStatusModule.RunStatus.SUCCESSFULLY_FINALIZED = 0"
      ]
     },
     "execution_count": 6,
     "metadata": {},
     "output_type": "execute_result"
    }
   ],
   "source": [
    "solve!(problem)"
   ]
  },
  {
   "cell_type": "markdown",
   "id": "f68e2355-5587-430d-ae33-c26b70bbc338",
   "metadata": {},
   "source": [
    "### Results"
   ]
  },
  {
   "cell_type": "code",
   "execution_count": 7,
   "id": "7236e8b9-6906-4239-9f59-103090b104d2",
   "metadata": {
    "editable": true,
    "slideshow": {
     "slide_type": ""
    },
    "tags": []
   },
   "outputs": [
    {
     "data": {
      "text/html": [
       "<p> Start: 2020-01-01T00:00:00</p>\n",
       "<p> End: 2020-01-07T23:00:00</p>\n",
       "<p> Resolution: 60 minutes</p>\n",
       "\n",
       "<table>\n",
       "  <caption style = \"text-align: left;\">PowerSimulations Problem Auxiliary variables Results</caption>\n",
       "  <tbody>\n",
       "    <tr>\n",
       "      <td style = \"text-align: left;\">StorageEnergyOutput__EnergyReservoirStorage</td>\n",
       "    </tr>\n",
       "  </tbody>\n",
       "</table>\n",
       "\n",
       "<table>\n",
       "  <caption style = \"text-align: left;\">PowerSimulations Problem Expressions Results</caption>\n",
       "  <tbody>\n",
       "    <tr>\n",
       "      <td style = \"text-align: left;\">ActivePowerBalance__System</td>\n",
       "    </tr>\n",
       "    <tr>\n",
       "      <td style = \"text-align: left;\">ProductionCostExpression__ThermalStandard</td>\n",
       "    </tr>\n",
       "    <tr>\n",
       "      <td style = \"text-align: left;\">ProductionCostExpression__RenewableDispatch</td>\n",
       "    </tr>\n",
       "  </tbody>\n",
       "</table>\n",
       "\n",
       "<table>\n",
       "  <caption style = \"text-align: left;\">PowerSimulations Problem Parameters Results</caption>\n",
       "  <tbody>\n",
       "    <tr>\n",
       "      <td style = \"text-align: left;\">ActivePowerTimeSeriesParameter__PowerLoad</td>\n",
       "    </tr>\n",
       "    <tr>\n",
       "      <td style = \"text-align: left;\">ActivePowerTimeSeriesParameter__RenewableDispatch</td>\n",
       "    </tr>\n",
       "  </tbody>\n",
       "</table>\n",
       "\n",
       "<table>\n",
       "  <caption style = \"text-align: left;\">PowerSimulations Problem Variables Results</caption>\n",
       "  <tbody>\n",
       "    <tr>\n",
       "      <td style = \"text-align: left;\">ActivePowerOutVariable__EnergyReservoirStorage</td>\n",
       "    </tr>\n",
       "    <tr>\n",
       "      <td style = \"text-align: left;\">SystemBalanceSlackUp__System</td>\n",
       "    </tr>\n",
       "    <tr>\n",
       "      <td style = \"text-align: left;\">ActivePowerInVariable__EnergyReservoirStorage</td>\n",
       "    </tr>\n",
       "    <tr>\n",
       "      <td style = \"text-align: left;\">ActivePowerVariable__RenewableDispatch</td>\n",
       "    </tr>\n",
       "    <tr>\n",
       "      <td style = \"text-align: left;\">SystemBalanceSlackDown__System</td>\n",
       "    </tr>\n",
       "    <tr>\n",
       "      <td style = \"text-align: left;\">ActivePowerVariable__ThermalStandard</td>\n",
       "    </tr>\n",
       "    <tr>\n",
       "      <td style = \"text-align: left;\">EnergyVariable__EnergyReservoirStorage</td>\n",
       "    </tr>\n",
       "  </tbody>\n",
       "</table>\n"
      ],
      "text/plain": [
       "Start: 2020-01-01T00:00:00\n",
       "End: 2020-01-07T23:00:00\n",
       "Resolution: 60 minutes\n",
       "\n",
       "\u001b[1mPowerSimulations Problem Auxiliary variables Results\u001b[0m\n",
       "┌─────────────────────────────────────────────┐\n",
       "│ StorageEnergyOutput__EnergyReservoirStorage │\n",
       "└─────────────────────────────────────────────┘\n",
       "\n",
       "\u001b[1mPowerSimulations Problem Expressions Results\u001b[0m\n",
       "┌─────────────────────────────────────────────┐\n",
       "│ ActivePowerBalance__System                  │\n",
       "│ ProductionCostExpression__ThermalStandard   │\n",
       "│ ProductionCostExpression__RenewableDispatch │\n",
       "└─────────────────────────────────────────────┘\n",
       "\n",
       "\u001b[1mPowerSimulations Problem Parameters Results\u001b[0m\n",
       "┌───────────────────────────────────────────────────┐\n",
       "│ ActivePowerTimeSeriesParameter__PowerLoad         │\n",
       "│ ActivePowerTimeSeriesParameter__RenewableDispatch │\n",
       "└───────────────────────────────────────────────────┘\n",
       "\n",
       "\u001b[1mPowerSimulations Problem Variables Results\u001b[0m\n",
       "┌────────────────────────────────────────────────┐\n",
       "│ ActivePowerOutVariable__EnergyReservoirStorage │\n",
       "│ SystemBalanceSlackUp__System                   │\n",
       "│ ActivePowerInVariable__EnergyReservoirStorage  │\n",
       "│ ActivePowerVariable__RenewableDispatch         │\n",
       "│ SystemBalanceSlackDown__System                 │\n",
       "│ ActivePowerVariable__ThermalStandard           │\n",
       "│ EnergyVariable__EnergyReservoirStorage         │\n",
       "└────────────────────────────────────────────────┘\n"
      ]
     },
     "execution_count": 7,
     "metadata": {},
     "output_type": "execute_result"
    }
   ],
   "source": [
    "res = OptimizationProblemResults(problem)"
   ]
  },
  {
   "cell_type": "code",
   "execution_count": 8,
   "id": "d478bdbe-cf42-42bf-a708-ea39b7290377",
   "metadata": {
    "editable": true,
    "slideshow": {
     "slide_type": ""
    },
    "tags": []
   },
   "outputs": [
    {
     "data": {
      "text/html": [
       "<div><div style = \"float: left;\"><span>168×5 DataFrame</span></div><div style = \"float: right;\"><span style = \"font-style: italic;\">143 rows omitted</span></div><div style = \"clear: both;\"></div></div><div class = \"data-frame\" style = \"overflow-x: scroll;\"><table class = \"data-frame\" style = \"margin-bottom: 6px;\"><thead><tr class = \"header\"><th class = \"rowNumber\" style = \"font-weight: bold; text-align: right;\">Row</th><th style = \"text-align: left;\">DateTime</th><th style = \"text-align: left;\">load-1</th><th style = \"text-align: left;\">wind-1</th><th style = \"text-align: left;\">gas-1</th><th style = \"text-align: left;\">storage-1</th></tr><tr class = \"subheader headerLastRow\"><th class = \"rowNumber\" style = \"font-weight: bold; text-align: right;\"></th><th title = \"DateTime\" style = \"text-align: left;\">DateTime</th><th title = \"Float64\" style = \"text-align: left;\">Float64</th><th title = \"Union{Missing, Float64}\" style = \"text-align: left;\">Float64?</th><th title = \"Union{Missing, Float64}\" style = \"text-align: left;\">Float64?</th><th title = \"Union{Missing, Float64}\" style = \"text-align: left;\">Float64?</th></tr></thead><tbody><tr><td class = \"rowNumber\" style = \"font-weight: bold; text-align: right;\">1</td><td style = \"text-align: left;\">2020-01-01T00:00:00</td><td style = \"text-align: right;\">-22.0531</td><td style = \"text-align: right;\">23.2336</td><td style = \"text-align: right;\">0.0</td><td style = \"text-align: right;\">1.18051</td></tr><tr><td class = \"rowNumber\" style = \"font-weight: bold; text-align: right;\">2</td><td style = \"text-align: left;\">2020-01-01T01:00:00</td><td style = \"text-align: right;\">-22.0729</td><td style = \"text-align: right;\">24.0729</td><td style = \"text-align: right;\">0.0</td><td style = \"text-align: right;\">3.18051</td></tr><tr><td class = \"rowNumber\" style = \"font-weight: bold; text-align: right;\">3</td><td style = \"text-align: left;\">2020-01-01T02:00:00</td><td style = \"text-align: right;\">-22.4083</td><td style = \"text-align: right;\">20.4083</td><td style = \"text-align: right;\">0.0</td><td style = \"text-align: right;\">1.18051</td></tr><tr><td class = \"rowNumber\" style = \"font-weight: bold; text-align: right;\">4</td><td style = \"text-align: left;\">2020-01-01T03:00:00</td><td style = \"text-align: right;\">-23.2921</td><td style = \"text-align: right;\">25.2921</td><td style = \"text-align: right;\">0.0</td><td style = \"text-align: right;\">3.18051</td></tr><tr><td class = \"rowNumber\" style = \"font-weight: bold; text-align: right;\">5</td><td style = \"text-align: left;\">2020-01-01T04:00:00</td><td style = \"text-align: right;\">-25.5965</td><td style = \"text-align: right;\">26.416</td><td style = \"text-align: right;\">0.0</td><td style = \"text-align: right;\">4.0</td></tr><tr><td class = \"rowNumber\" style = \"font-weight: bold; text-align: right;\">6</td><td style = \"text-align: left;\">2020-01-01T05:00:00</td><td style = \"text-align: right;\">-28.686</td><td style = \"text-align: right;\">22.5482</td><td style = \"text-align: right;\">6.13783</td><td style = \"text-align: right;\">4.0</td></tr><tr><td class = \"rowNumber\" style = \"font-weight: bold; text-align: right;\">7</td><td style = \"text-align: left;\">2020-01-01T06:00:00</td><td style = \"text-align: right;\">-30.0</td><td style = \"text-align: right;\">20.4327</td><td style = \"text-align: right;\">7.56731</td><td style = \"text-align: right;\">2.0</td></tr><tr><td class = \"rowNumber\" style = \"font-weight: bold; text-align: right;\">8</td><td style = \"text-align: left;\">2020-01-01T07:00:00</td><td style = \"text-align: right;\">-29.1477</td><td style = \"text-align: right;\">20.4299</td><td style = \"text-align: right;\">6.71775</td><td style = \"text-align: right;\">-0.0</td></tr><tr><td class = \"rowNumber\" style = \"font-weight: bold; text-align: right;\">9</td><td style = \"text-align: left;\">2020-01-01T08:00:00</td><td style = \"text-align: right;\">-27.5891</td><td style = \"text-align: right;\">21.5447</td><td style = \"text-align: right;\">6.04436</td><td style = \"text-align: right;\">0.0</td></tr><tr><td class = \"rowNumber\" style = \"font-weight: bold; text-align: right;\">10</td><td style = \"text-align: left;\">2020-01-01T09:00:00</td><td style = \"text-align: right;\">-26.5632</td><td style = \"text-align: right;\">18.7074</td><td style = \"text-align: right;\">9.8558</td><td style = \"text-align: right;\">2.0</td></tr><tr><td class = \"rowNumber\" style = \"font-weight: bold; text-align: right;\">11</td><td style = \"text-align: left;\">2020-01-01T10:00:00</td><td style = \"text-align: right;\">-25.8016</td><td style = \"text-align: right;\">13.7583</td><td style = \"text-align: right;\">10.0433</td><td style = \"text-align: right;\">0.0</td></tr><tr><td class = \"rowNumber\" style = \"font-weight: bold; text-align: right;\">12</td><td style = \"text-align: left;\">2020-01-01T11:00:00</td><td style = \"text-align: right;\">-25.2177</td><td style = \"text-align: right;\">11.2881</td><td style = \"text-align: right;\">13.9295</td><td style = \"text-align: right;\">-0.0</td></tr><tr><td class = \"rowNumber\" style = \"font-weight: bold; text-align: right;\">13</td><td style = \"text-align: left;\">2020-01-01T12:00:00</td><td style = \"text-align: right;\">-24.7797</td><td style = \"text-align: right;\">12.5458</td><td style = \"text-align: right;\">14.2339</td><td style = \"text-align: right;\">2.0</td></tr><tr><td style = \"text-align: right;\">&vellip;</td><td style = \"text-align: right;\">&vellip;</td><td style = \"text-align: right;\">&vellip;</td><td style = \"text-align: right;\">&vellip;</td><td style = \"text-align: right;\">&vellip;</td><td style = \"text-align: right;\">&vellip;</td></tr><tr><td class = \"rowNumber\" style = \"font-weight: bold; text-align: right;\">157</td><td style = \"text-align: left;\">2020-01-07T12:00:00</td><td style = \"text-align: right;\">-24.7797</td><td style = \"text-align: right;\">12.5458</td><td style = \"text-align: right;\">12.2339</td><td style = \"text-align: right;\">4.0</td></tr><tr><td class = \"rowNumber\" style = \"font-weight: bold; text-align: right;\">158</td><td style = \"text-align: left;\">2020-01-07T13:00:00</td><td style = \"text-align: right;\">-24.5114</td><td style = \"text-align: right;\">13.5098</td><td style = \"text-align: right;\">9.00159</td><td style = \"text-align: right;\">2.0</td></tr><tr><td class = \"rowNumber\" style = \"font-weight: bold; text-align: right;\">159</td><td style = \"text-align: left;\">2020-01-07T14:00:00</td><td style = \"text-align: right;\">-24.3259</td><td style = \"text-align: right;\">16.8152</td><td style = \"text-align: right;\">5.51069</td><td style = \"text-align: right;\">0.0</td></tr><tr><td class = \"rowNumber\" style = \"font-weight: bold; text-align: right;\">160</td><td style = \"text-align: left;\">2020-01-07T15:00:00</td><td style = \"text-align: right;\">-24.5785</td><td style = \"text-align: right;\">16.8214</td><td style = \"text-align: right;\">9.75705</td><td style = \"text-align: right;\">2.0</td></tr><tr><td class = \"rowNumber\" style = \"font-weight: bold; text-align: right;\">161</td><td style = \"text-align: left;\">2020-01-07T16:00:00</td><td style = \"text-align: right;\">-26.2199</td><td style = \"text-align: right;\">16.2447</td><td style = \"text-align: right;\">11.9752</td><td style = \"text-align: right;\">4.0</td></tr><tr><td class = \"rowNumber\" style = \"font-weight: bold; text-align: right;\">162</td><td style = \"text-align: left;\">2020-01-07T17:00:00</td><td style = \"text-align: right;\">-28.6071</td><td style = \"text-align: right;\">16.6424</td><td style = \"text-align: right;\">9.96469</td><td style = \"text-align: right;\">2.0</td></tr><tr><td class = \"rowNumber\" style = \"font-weight: bold; text-align: right;\">163</td><td style = \"text-align: left;\">2020-01-07T18:00:00</td><td style = \"text-align: right;\">-28.4888</td><td style = \"text-align: right;\">17.6839</td><td style = \"text-align: right;\">8.80486</td><td style = \"text-align: right;\">0.0</td></tr><tr><td class = \"rowNumber\" style = \"font-weight: bold; text-align: right;\">164</td><td style = \"text-align: left;\">2020-01-07T19:00:00</td><td style = \"text-align: right;\">-27.8219</td><td style = \"text-align: right;\">16.4524</td><td style = \"text-align: right;\">13.3695</td><td style = \"text-align: right;\">2.0</td></tr><tr><td class = \"rowNumber\" style = \"font-weight: bold; text-align: right;\">165</td><td style = \"text-align: left;\">2020-01-07T20:00:00</td><td style = \"text-align: right;\">-26.8473</td><td style = \"text-align: right;\">14.1627</td><td style = \"text-align: right;\">10.6846</td><td style = \"text-align: right;\">-0.0</td></tr><tr><td class = \"rowNumber\" style = \"font-weight: bold; text-align: right;\">166</td><td style = \"text-align: left;\">2020-01-07T21:00:00</td><td style = \"text-align: right;\">-24.9099</td><td style = \"text-align: right;\">15.7765</td><td style = \"text-align: right;\">9.1334</td><td style = \"text-align: right;\">0.0</td></tr><tr><td class = \"rowNumber\" style = \"font-weight: bold; text-align: right;\">167</td><td style = \"text-align: left;\">2020-01-07T22:00:00</td><td style = \"text-align: right;\">-23.1737</td><td style = \"text-align: right;\">14.6686</td><td style = \"text-align: right;\">10.5052</td><td style = \"text-align: right;\">2.0</td></tr><tr><td class = \"rowNumber\" style = \"font-weight: bold; text-align: right;\">168</td><td style = \"text-align: left;\">2020-01-07T23:00:00</td><td style = \"text-align: right;\">-22.211</td><td style = \"text-align: right;\">14.9428</td><td style = \"text-align: right;\">5.26819</td><td style = \"text-align: right;\">0.0</td></tr></tbody></table></div>"
      ],
      "text/latex": [
       "\\begin{tabular}{r|ccccc}\n",
       "\t& DateTime & load-1 & wind-1 & gas-1 & storage-1\\\\\n",
       "\t\\hline\n",
       "\t& DateTime & Float64 & Float64? & Float64? & Float64?\\\\\n",
       "\t\\hline\n",
       "\t1 & 2020-01-01T00:00:00 & -22.0531 & 23.2336 & 0.0 & 1.18051 \\\\\n",
       "\t2 & 2020-01-01T01:00:00 & -22.0729 & 24.0729 & 0.0 & 3.18051 \\\\\n",
       "\t3 & 2020-01-01T02:00:00 & -22.4083 & 20.4083 & 0.0 & 1.18051 \\\\\n",
       "\t4 & 2020-01-01T03:00:00 & -23.2921 & 25.2921 & 0.0 & 3.18051 \\\\\n",
       "\t5 & 2020-01-01T04:00:00 & -25.5965 & 26.416 & 0.0 & 4.0 \\\\\n",
       "\t6 & 2020-01-01T05:00:00 & -28.686 & 22.5482 & 6.13783 & 4.0 \\\\\n",
       "\t7 & 2020-01-01T06:00:00 & -30.0 & 20.4327 & 7.56731 & 2.0 \\\\\n",
       "\t8 & 2020-01-01T07:00:00 & -29.1477 & 20.4299 & 6.71775 & -0.0 \\\\\n",
       "\t9 & 2020-01-01T08:00:00 & -27.5891 & 21.5447 & 6.04436 & 0.0 \\\\\n",
       "\t10 & 2020-01-01T09:00:00 & -26.5632 & 18.7074 & 9.8558 & 2.0 \\\\\n",
       "\t11 & 2020-01-01T10:00:00 & -25.8016 & 13.7583 & 10.0433 & 0.0 \\\\\n",
       "\t12 & 2020-01-01T11:00:00 & -25.2177 & 11.2881 & 13.9295 & -0.0 \\\\\n",
       "\t13 & 2020-01-01T12:00:00 & -24.7797 & 12.5458 & 14.2339 & 2.0 \\\\\n",
       "\t14 & 2020-01-01T13:00:00 & -24.5114 & 13.5098 & 13.0016 & 4.0 \\\\\n",
       "\t15 & 2020-01-01T14:00:00 & -24.3259 & 16.8152 & 5.51069 & 2.0 \\\\\n",
       "\t16 & 2020-01-01T15:00:00 & -24.5785 & 16.8214 & 7.75705 & 2.0 \\\\\n",
       "\t17 & 2020-01-01T16:00:00 & -26.2199 & 16.2447 & 11.9752 & 4.0 \\\\\n",
       "\t18 & 2020-01-01T17:00:00 & -28.6071 & 16.6424 & 11.9647 & 4.0 \\\\\n",
       "\t19 & 2020-01-01T18:00:00 & -28.4888 & 17.6839 & 8.80486 & 2.0 \\\\\n",
       "\t20 & 2020-01-01T19:00:00 & -27.8219 & 16.4524 & 13.3695 & 4.0 \\\\\n",
       "\t21 & 2020-01-01T20:00:00 & -26.8473 & 14.1627 & 10.6846 & 2.0 \\\\\n",
       "\t22 & 2020-01-01T21:00:00 & -24.9099 & 15.7765 & 7.1334 & 0.0 \\\\\n",
       "\t23 & 2020-01-01T22:00:00 & -23.1737 & 14.6686 & 10.5052 & 2.0 \\\\\n",
       "\t24 & 2020-01-01T23:00:00 & -22.211 & 14.9428 & 5.26819 & 0.0 \\\\\n",
       "\t25 & 2020-01-02T00:00:00 & -22.0531 & 22.0531 & 0.0 & 0.0 \\\\\n",
       "\t26 & 2020-01-02T01:00:00 & -22.0729 & 24.0729 & 0.0 & 2.0 \\\\\n",
       "\t27 & 2020-01-02T02:00:00 & -22.4083 & 21.5888 & 0.0 & 1.18051 \\\\\n",
       "\t28 & 2020-01-02T03:00:00 & -23.2921 & 25.2921 & 0.0 & 3.18051 \\\\\n",
       "\t29 & 2020-01-02T04:00:00 & -25.5965 & 26.416 & 0.0 & 4.0 \\\\\n",
       "\t30 & 2020-01-02T05:00:00 & -28.686 & 22.5482 & 4.13783 & 2.0 \\\\\n",
       "\t$\\dots$ & $\\dots$ & $\\dots$ & $\\dots$ & $\\dots$ & $\\dots$ \\\\\n",
       "\\end{tabular}\n"
      ],
      "text/plain": [
       "\u001b[1m168×5 DataFrame\u001b[0m\n",
       "\u001b[1m Row \u001b[0m│\u001b[1m DateTime            \u001b[0m\u001b[1m load-1   \u001b[0m\u001b[1m wind-1   \u001b[0m\u001b[1m gas-1    \u001b[0m\u001b[1m storage-1 \u001b[0m\n",
       "     │\u001b[90m DateTime            \u001b[0m\u001b[90m Float64  \u001b[0m\u001b[90m Float64? \u001b[0m\u001b[90m Float64? \u001b[0m\u001b[90m Float64?  \u001b[0m\n",
       "─────┼──────────────────────────────────────────────────────────────\n",
       "   1 │ 2020-01-01T00:00:00  -22.0531   23.2336   0.0        1.18051\n",
       "   2 │ 2020-01-01T01:00:00  -22.0729   24.0729   0.0        3.18051\n",
       "   3 │ 2020-01-01T02:00:00  -22.4083   20.4083   0.0        1.18051\n",
       "   4 │ 2020-01-01T03:00:00  -23.2921   25.2921   0.0        3.18051\n",
       "   5 │ 2020-01-01T04:00:00  -25.5965   26.416    0.0        4.0\n",
       "   6 │ 2020-01-01T05:00:00  -28.686    22.5482   6.13783    4.0\n",
       "   7 │ 2020-01-01T06:00:00  -30.0      20.4327   7.56731    2.0\n",
       "   8 │ 2020-01-01T07:00:00  -29.1477   20.4299   6.71775   -0.0\n",
       "   9 │ 2020-01-01T08:00:00  -27.5891   21.5447   6.04436    0.0\n",
       "  10 │ 2020-01-01T09:00:00  -26.5632   18.7074   9.8558     2.0\n",
       "  11 │ 2020-01-01T10:00:00  -25.8016   13.7583  10.0433     0.0\n",
       "  ⋮  │          ⋮              ⋮         ⋮         ⋮          ⋮\n",
       " 159 │ 2020-01-07T14:00:00  -24.3259   16.8152   5.51069    0.0\n",
       " 160 │ 2020-01-07T15:00:00  -24.5785   16.8214   9.75705    2.0\n",
       " 161 │ 2020-01-07T16:00:00  -26.2199   16.2447  11.9752     4.0\n",
       " 162 │ 2020-01-07T17:00:00  -28.6071   16.6424   9.96469    2.0\n",
       " 163 │ 2020-01-07T18:00:00  -28.4888   17.6839   8.80486    0.0\n",
       " 164 │ 2020-01-07T19:00:00  -27.8219   16.4524  13.3695     2.0\n",
       " 165 │ 2020-01-07T20:00:00  -26.8473   14.1627  10.6846    -0.0\n",
       " 166 │ 2020-01-07T21:00:00  -24.9099   15.7765   9.1334     0.0\n",
       " 167 │ 2020-01-07T22:00:00  -23.1737   14.6686  10.5052     2.0\n",
       " 168 │ 2020-01-07T23:00:00  -22.211    14.9428   5.26819    0.0\n",
       "\u001b[36m                                                    147 rows omitted\u001b[0m"
      ]
     },
     "execution_count": 8,
     "metadata": {},
     "output_type": "execute_result"
    }
   ],
   "source": [
    "series = leftjoin(leftjoin(leftjoin(\n",
    "    read_parameter(res, \"ActivePowerTimeSeriesParameter__PowerLoad\"),\n",
    "    read_variable(res, \"ActivePowerVariable__RenewableDispatch\"),\n",
    "    on = :DateTime\n",
    "    ),\n",
    "    read_variable(res, \"ActivePowerVariable__ThermalStandard\"),\n",
    "    on = :DateTime\n",
    "    ),\n",
    "    read_variable(res, \"EnergyVariable__EnergyReservoirStorage\"),\n",
    "    on = :DateTime\n",
    ")"
   ]
  },
  {
   "cell_type": "code",
   "execution_count": 9,
   "id": "b3bc2713",
   "metadata": {},
   "outputs": [
    {
     "data": {
      "application/vnd.plotly.v1+json": {
       "config": {
        "editable": false,
        "responsive": true,
        "scrollZoom": true,
        "showLink": false,
        "staticPlot": false
       },
       "data": [
        {
         "mode": "lines",
         "name": "load",
         "type": "scatter",
         "x": [
          "2020-01-01T00:00:00",
          "2020-01-01T01:00:00",
          "2020-01-01T02:00:00",
          "2020-01-01T03:00:00",
          "2020-01-01T04:00:00",
          "2020-01-01T05:00:00",
          "2020-01-01T06:00:00",
          "2020-01-01T07:00:00",
          "2020-01-01T08:00:00",
          "2020-01-01T09:00:00",
          "2020-01-01T10:00:00",
          "2020-01-01T11:00:00",
          "2020-01-01T12:00:00",
          "2020-01-01T13:00:00",
          "2020-01-01T14:00:00",
          "2020-01-01T15:00:00",
          "2020-01-01T16:00:00",
          "2020-01-01T17:00:00",
          "2020-01-01T18:00:00",
          "2020-01-01T19:00:00",
          "2020-01-01T20:00:00",
          "2020-01-01T21:00:00",
          "2020-01-01T22:00:00",
          "2020-01-01T23:00:00",
          "2020-01-02T00:00:00",
          "2020-01-02T01:00:00",
          "2020-01-02T02:00:00",
          "2020-01-02T03:00:00",
          "2020-01-02T04:00:00",
          "2020-01-02T05:00:00",
          "2020-01-02T06:00:00",
          "2020-01-02T07:00:00",
          "2020-01-02T08:00:00",
          "2020-01-02T09:00:00",
          "2020-01-02T10:00:00",
          "2020-01-02T11:00:00",
          "2020-01-02T12:00:00",
          "2020-01-02T13:00:00",
          "2020-01-02T14:00:00",
          "2020-01-02T15:00:00",
          "2020-01-02T16:00:00",
          "2020-01-02T17:00:00",
          "2020-01-02T18:00:00",
          "2020-01-02T19:00:00",
          "2020-01-02T20:00:00",
          "2020-01-02T21:00:00",
          "2020-01-02T22:00:00",
          "2020-01-02T23:00:00",
          "2020-01-03T00:00:00",
          "2020-01-03T01:00:00",
          "2020-01-03T02:00:00",
          "2020-01-03T03:00:00",
          "2020-01-03T04:00:00",
          "2020-01-03T05:00:00",
          "2020-01-03T06:00:00",
          "2020-01-03T07:00:00",
          "2020-01-03T08:00:00",
          "2020-01-03T09:00:00",
          "2020-01-03T10:00:00",
          "2020-01-03T11:00:00",
          "2020-01-03T12:00:00",
          "2020-01-03T13:00:00",
          "2020-01-03T14:00:00",
          "2020-01-03T15:00:00",
          "2020-01-03T16:00:00",
          "2020-01-03T17:00:00",
          "2020-01-03T18:00:00",
          "2020-01-03T19:00:00",
          "2020-01-03T20:00:00",
          "2020-01-03T21:00:00",
          "2020-01-03T22:00:00",
          "2020-01-03T23:00:00",
          "2020-01-04T00:00:00",
          "2020-01-04T01:00:00",
          "2020-01-04T02:00:00",
          "2020-01-04T03:00:00",
          "2020-01-04T04:00:00",
          "2020-01-04T05:00:00",
          "2020-01-04T06:00:00",
          "2020-01-04T07:00:00",
          "2020-01-04T08:00:00",
          "2020-01-04T09:00:00",
          "2020-01-04T10:00:00",
          "2020-01-04T11:00:00",
          "2020-01-04T12:00:00",
          "2020-01-04T13:00:00",
          "2020-01-04T14:00:00",
          "2020-01-04T15:00:00",
          "2020-01-04T16:00:00",
          "2020-01-04T17:00:00",
          "2020-01-04T18:00:00",
          "2020-01-04T19:00:00",
          "2020-01-04T20:00:00",
          "2020-01-04T21:00:00",
          "2020-01-04T22:00:00",
          "2020-01-04T23:00:00",
          "2020-01-05T00:00:00",
          "2020-01-05T01:00:00",
          "2020-01-05T02:00:00",
          "2020-01-05T03:00:00",
          "2020-01-05T04:00:00",
          "2020-01-05T05:00:00",
          "2020-01-05T06:00:00",
          "2020-01-05T07:00:00",
          "2020-01-05T08:00:00",
          "2020-01-05T09:00:00",
          "2020-01-05T10:00:00",
          "2020-01-05T11:00:00",
          "2020-01-05T12:00:00",
          "2020-01-05T13:00:00",
          "2020-01-05T14:00:00",
          "2020-01-05T15:00:00",
          "2020-01-05T16:00:00",
          "2020-01-05T17:00:00",
          "2020-01-05T18:00:00",
          "2020-01-05T19:00:00",
          "2020-01-05T20:00:00",
          "2020-01-05T21:00:00",
          "2020-01-05T22:00:00",
          "2020-01-05T23:00:00",
          "2020-01-06T00:00:00",
          "2020-01-06T01:00:00",
          "2020-01-06T02:00:00",
          "2020-01-06T03:00:00",
          "2020-01-06T04:00:00",
          "2020-01-06T05:00:00",
          "2020-01-06T06:00:00",
          "2020-01-06T07:00:00",
          "2020-01-06T08:00:00",
          "2020-01-06T09:00:00",
          "2020-01-06T10:00:00",
          "2020-01-06T11:00:00",
          "2020-01-06T12:00:00",
          "2020-01-06T13:00:00",
          "2020-01-06T14:00:00",
          "2020-01-06T15:00:00",
          "2020-01-06T16:00:00",
          "2020-01-06T17:00:00",
          "2020-01-06T18:00:00",
          "2020-01-06T19:00:00",
          "2020-01-06T20:00:00",
          "2020-01-06T21:00:00",
          "2020-01-06T22:00:00",
          "2020-01-06T23:00:00",
          "2020-01-07T00:00:00",
          "2020-01-07T01:00:00",
          "2020-01-07T02:00:00",
          "2020-01-07T03:00:00",
          "2020-01-07T04:00:00",
          "2020-01-07T05:00:00",
          "2020-01-07T06:00:00",
          "2020-01-07T07:00:00",
          "2020-01-07T08:00:00",
          "2020-01-07T09:00:00",
          "2020-01-07T10:00:00",
          "2020-01-07T11:00:00",
          "2020-01-07T12:00:00",
          "2020-01-07T13:00:00",
          "2020-01-07T14:00:00",
          "2020-01-07T15:00:00",
          "2020-01-07T16:00:00",
          "2020-01-07T17:00:00",
          "2020-01-07T18:00:00",
          "2020-01-07T19:00:00",
          "2020-01-07T20:00:00",
          "2020-01-07T21:00:00",
          "2020-01-07T22:00:00",
          "2020-01-07T23:00:00"
         ],
         "xaxis": "x",
         "y": [
          22.05313691600778,
          22.072865969559242,
          22.408259893319578,
          23.29212152601045,
          25.59647506673169,
          28.686029999999995,
          30,
          29.1477,
          27.58911,
          26.563198727259206,
          25.80165,
          25.21767,
          24.7797,
          24.51138,
          24.325923969586437,
          24.578459999999996,
          26.219913189622652,
          28.607129999999998,
          28.488750000000003,
          27.82191240176487,
          26.847299999999997,
          24.909903976856608,
          23.173747201051082,
          22.210969350503788,
          22.05313691600778,
          22.072865969559242,
          22.408259893319578,
          23.29212152601045,
          25.59647506673169,
          28.686029999999995,
          30,
          29.1477,
          27.58911,
          26.563198727259206,
          25.80165,
          25.21767,
          24.7797,
          24.51138,
          24.325923969586437,
          24.578459999999996,
          26.219913189622652,
          28.607129999999998,
          28.488750000000003,
          27.82191240176487,
          26.847299999999997,
          24.909903976856608,
          23.173747201051082,
          22.210969350503788,
          22.05313691600778,
          22.072865969559242,
          22.408259893319578,
          23.29212152601045,
          25.59647506673169,
          28.686029999999995,
          30,
          29.1477,
          27.58911,
          26.563198727259206,
          25.80165,
          25.21767,
          24.7797,
          24.51138,
          24.325923969586437,
          24.578459999999996,
          26.219913189622652,
          28.607129999999998,
          28.488750000000003,
          27.82191240176487,
          26.847299999999997,
          24.909903976856608,
          23.173747201051082,
          22.210969350503788,
          22.05313691600778,
          22.072865969559242,
          22.408259893319578,
          23.29212152601045,
          25.59647506673169,
          28.686029999999995,
          30,
          29.1477,
          27.58911,
          26.563198727259206,
          25.80165,
          25.21767,
          24.7797,
          24.51138,
          24.325923969586437,
          24.578459999999996,
          26.219913189622652,
          28.607129999999998,
          28.488750000000003,
          27.82191240176487,
          26.847299999999997,
          24.909903976856608,
          23.173747201051082,
          22.210969350503788,
          22.05313691600778,
          22.072865969559242,
          22.408259893319578,
          23.29212152601045,
          25.59647506673169,
          28.686029999999995,
          30,
          29.1477,
          27.58911,
          26.563198727259206,
          25.80165,
          25.21767,
          24.7797,
          24.51138,
          24.325923969586437,
          24.578459999999996,
          26.219913189622652,
          28.607129999999998,
          28.488750000000003,
          27.82191240176487,
          26.847299999999997,
          24.909903976856608,
          23.173747201051082,
          22.210969350503788,
          22.05313691600778,
          22.072865969559242,
          22.408259893319578,
          23.29212152601045,
          25.59647506673169,
          28.686029999999995,
          30,
          29.1477,
          27.58911,
          26.563198727259206,
          25.80165,
          25.21767,
          24.7797,
          24.51138,
          24.325923969586437,
          24.578459999999996,
          26.219913189622652,
          28.607129999999998,
          28.488750000000003,
          27.82191240176487,
          26.847299999999997,
          24.909903976856608,
          23.173747201051082,
          22.210969350503788,
          22.05313691600778,
          22.072865969559242,
          22.408259893319578,
          23.29212152601045,
          25.59647506673169,
          28.686029999999995,
          30,
          29.1477,
          27.58911,
          26.563198727259206,
          25.80165,
          25.21767,
          24.7797,
          24.51138,
          24.325923969586437,
          24.578459999999996,
          26.219913189622652,
          28.607129999999998,
          28.488750000000003,
          27.82191240176487,
          26.847299999999997,
          24.909903976856608,
          23.173747201051082,
          22.210969350503788
         ],
         "yaxis": "y"
        },
        {
         "mode": "lines",
         "name": "wind",
         "type": "scatter",
         "x": [
          "2020-01-01T00:00:00",
          "2020-01-01T01:00:00",
          "2020-01-01T02:00:00",
          "2020-01-01T03:00:00",
          "2020-01-01T04:00:00",
          "2020-01-01T05:00:00",
          "2020-01-01T06:00:00",
          "2020-01-01T07:00:00",
          "2020-01-01T08:00:00",
          "2020-01-01T09:00:00",
          "2020-01-01T10:00:00",
          "2020-01-01T11:00:00",
          "2020-01-01T12:00:00",
          "2020-01-01T13:00:00",
          "2020-01-01T14:00:00",
          "2020-01-01T15:00:00",
          "2020-01-01T16:00:00",
          "2020-01-01T17:00:00",
          "2020-01-01T18:00:00",
          "2020-01-01T19:00:00",
          "2020-01-01T20:00:00",
          "2020-01-01T21:00:00",
          "2020-01-01T22:00:00",
          "2020-01-01T23:00:00",
          "2020-01-02T00:00:00",
          "2020-01-02T01:00:00",
          "2020-01-02T02:00:00",
          "2020-01-02T03:00:00",
          "2020-01-02T04:00:00",
          "2020-01-02T05:00:00",
          "2020-01-02T06:00:00",
          "2020-01-02T07:00:00",
          "2020-01-02T08:00:00",
          "2020-01-02T09:00:00",
          "2020-01-02T10:00:00",
          "2020-01-02T11:00:00",
          "2020-01-02T12:00:00",
          "2020-01-02T13:00:00",
          "2020-01-02T14:00:00",
          "2020-01-02T15:00:00",
          "2020-01-02T16:00:00",
          "2020-01-02T17:00:00",
          "2020-01-02T18:00:00",
          "2020-01-02T19:00:00",
          "2020-01-02T20:00:00",
          "2020-01-02T21:00:00",
          "2020-01-02T22:00:00",
          "2020-01-02T23:00:00",
          "2020-01-03T00:00:00",
          "2020-01-03T01:00:00",
          "2020-01-03T02:00:00",
          "2020-01-03T03:00:00",
          "2020-01-03T04:00:00",
          "2020-01-03T05:00:00",
          "2020-01-03T06:00:00",
          "2020-01-03T07:00:00",
          "2020-01-03T08:00:00",
          "2020-01-03T09:00:00",
          "2020-01-03T10:00:00",
          "2020-01-03T11:00:00",
          "2020-01-03T12:00:00",
          "2020-01-03T13:00:00",
          "2020-01-03T14:00:00",
          "2020-01-03T15:00:00",
          "2020-01-03T16:00:00",
          "2020-01-03T17:00:00",
          "2020-01-03T18:00:00",
          "2020-01-03T19:00:00",
          "2020-01-03T20:00:00",
          "2020-01-03T21:00:00",
          "2020-01-03T22:00:00",
          "2020-01-03T23:00:00",
          "2020-01-04T00:00:00",
          "2020-01-04T01:00:00",
          "2020-01-04T02:00:00",
          "2020-01-04T03:00:00",
          "2020-01-04T04:00:00",
          "2020-01-04T05:00:00",
          "2020-01-04T06:00:00",
          "2020-01-04T07:00:00",
          "2020-01-04T08:00:00",
          "2020-01-04T09:00:00",
          "2020-01-04T10:00:00",
          "2020-01-04T11:00:00",
          "2020-01-04T12:00:00",
          "2020-01-04T13:00:00",
          "2020-01-04T14:00:00",
          "2020-01-04T15:00:00",
          "2020-01-04T16:00:00",
          "2020-01-04T17:00:00",
          "2020-01-04T18:00:00",
          "2020-01-04T19:00:00",
          "2020-01-04T20:00:00",
          "2020-01-04T21:00:00",
          "2020-01-04T22:00:00",
          "2020-01-04T23:00:00",
          "2020-01-05T00:00:00",
          "2020-01-05T01:00:00",
          "2020-01-05T02:00:00",
          "2020-01-05T03:00:00",
          "2020-01-05T04:00:00",
          "2020-01-05T05:00:00",
          "2020-01-05T06:00:00",
          "2020-01-05T07:00:00",
          "2020-01-05T08:00:00",
          "2020-01-05T09:00:00",
          "2020-01-05T10:00:00",
          "2020-01-05T11:00:00",
          "2020-01-05T12:00:00",
          "2020-01-05T13:00:00",
          "2020-01-05T14:00:00",
          "2020-01-05T15:00:00",
          "2020-01-05T16:00:00",
          "2020-01-05T17:00:00",
          "2020-01-05T18:00:00",
          "2020-01-05T19:00:00",
          "2020-01-05T20:00:00",
          "2020-01-05T21:00:00",
          "2020-01-05T22:00:00",
          "2020-01-05T23:00:00",
          "2020-01-06T00:00:00",
          "2020-01-06T01:00:00",
          "2020-01-06T02:00:00",
          "2020-01-06T03:00:00",
          "2020-01-06T04:00:00",
          "2020-01-06T05:00:00",
          "2020-01-06T06:00:00",
          "2020-01-06T07:00:00",
          "2020-01-06T08:00:00",
          "2020-01-06T09:00:00",
          "2020-01-06T10:00:00",
          "2020-01-06T11:00:00",
          "2020-01-06T12:00:00",
          "2020-01-06T13:00:00",
          "2020-01-06T14:00:00",
          "2020-01-06T15:00:00",
          "2020-01-06T16:00:00",
          "2020-01-06T17:00:00",
          "2020-01-06T18:00:00",
          "2020-01-06T19:00:00",
          "2020-01-06T20:00:00",
          "2020-01-06T21:00:00",
          "2020-01-06T22:00:00",
          "2020-01-06T23:00:00",
          "2020-01-07T00:00:00",
          "2020-01-07T01:00:00",
          "2020-01-07T02:00:00",
          "2020-01-07T03:00:00",
          "2020-01-07T04:00:00",
          "2020-01-07T05:00:00",
          "2020-01-07T06:00:00",
          "2020-01-07T07:00:00",
          "2020-01-07T08:00:00",
          "2020-01-07T09:00:00",
          "2020-01-07T10:00:00",
          "2020-01-07T11:00:00",
          "2020-01-07T12:00:00",
          "2020-01-07T13:00:00",
          "2020-01-07T14:00:00",
          "2020-01-07T15:00:00",
          "2020-01-07T16:00:00",
          "2020-01-07T17:00:00",
          "2020-01-07T18:00:00",
          "2020-01-07T19:00:00",
          "2020-01-07T20:00:00",
          "2020-01-07T21:00:00",
          "2020-01-07T22:00:00",
          "2020-01-07T23:00:00"
         ],
         "xaxis": "x",
         "y": [
          23.233649297461145,
          24.07286596955924,
          20.40825989331958,
          25.29212152601045,
          26.41596268527832,
          22.548200381149602,
          20.43269161798248,
          20.429948408104003,
          21.54474557679,
          18.7074031157096,
          13.75831679530248,
          11.288120443583601,
          12.545841842888402,
          13.5097931958908,
          16.815238957221602,
          16.821405225968398,
          16.244695857551484,
          16.6424359396444,
          17.683890077483042,
          16.45236398953596,
          14.162735529505479,
          15.776501910769403,
          14.668562382684042,
          14.9427835057188,
          22.05313691600778,
          24.07286596955924,
          21.588772274772946,
          25.29212152601045,
          26.41596268527832,
          22.548200381149602,
          20.43269161798248,
          20.429948408104003,
          21.54474557679,
          18.7074031157096,
          13.75831679530248,
          11.288120443583601,
          12.545841842888402,
          13.5097931958908,
          16.815238957221602,
          16.821405225968398,
          16.244695857551484,
          16.6424359396444,
          17.683890077483042,
          16.45236398953596,
          14.162735529505479,
          15.776501910769403,
          14.668562382684042,
          14.9427835057188,
          24.053136916007777,
          20.072865969559242,
          24.408259893319578,
          24.472633907463816,
          26.41596268527832,
          22.548200381149602,
          20.43269161798248,
          20.429948408104003,
          21.54474557679,
          18.7074031157096,
          13.75831679530248,
          11.288120443583601,
          12.545841842888402,
          13.5097931958908,
          16.815238957221602,
          16.821405225968398,
          16.244695857551484,
          16.6424359396444,
          17.683890077483042,
          16.45236398953596,
          14.162735529505479,
          15.776501910769403,
          14.668562382684042,
          14.9427835057188,
          24.053136916007777,
          23.253378351012607,
          20.40825989331958,
          25.29212152601045,
          26.41596268527832,
          22.548200381149602,
          20.43269161798248,
          20.429948408104003,
          21.54474557679,
          18.7074031157096,
          13.75831679530248,
          11.288120443583601,
          12.545841842888402,
          13.5097931958908,
          16.815238957221602,
          16.821405225968398,
          16.244695857551484,
          16.6424359396444,
          17.683890077483042,
          16.45236398953596,
          14.162735529505479,
          15.776501910769403,
          14.668562382684042,
          14.9427835057188,
          22.05313691600778,
          24.07286596955924,
          24.408259893319578,
          22.47263390746382,
          26.41596268527832,
          22.548200381149602,
          20.43269161798248,
          20.429948408104003,
          21.54474557679,
          18.7074031157096,
          13.75831679530248,
          11.288120443583601,
          12.545841842888402,
          13.5097931958908,
          16.815238957221602,
          16.821405225968398,
          16.244695857551484,
          16.6424359396444,
          17.683890077483042,
          16.45236398953596,
          14.162735529505479,
          15.776501910769403,
          14.668562382684042,
          14.9427835057188,
          22.05313691600778,
          24.07286596955924,
          24.408259893319578,
          22.47263390746382,
          26.41596268527832,
          22.548200381149602,
          20.43269161798248,
          20.429948408104003,
          21.54474557679,
          18.7074031157096,
          13.75831679530248,
          11.288120443583601,
          12.545841842888402,
          13.5097931958908,
          16.815238957221602,
          16.821405225968398,
          16.244695857551484,
          16.6424359396444,
          17.683890077483042,
          16.45236398953596,
          14.162735529505479,
          15.776501910769403,
          14.668562382684042,
          14.9427835057188,
          24.053136916007777,
          24.07286596955924,
          22.408259893319578,
          22.47263390746382,
          26.41596268527832,
          22.548200381149602,
          20.43269161798248,
          20.429948408104003,
          21.54474557679,
          18.7074031157096,
          13.75831679530248,
          11.288120443583601,
          12.545841842888402,
          13.5097931958908,
          16.815238957221602,
          16.821405225968398,
          16.244695857551484,
          16.6424359396444,
          17.683890077483042,
          16.45236398953596,
          14.162735529505479,
          15.776501910769403,
          14.668562382684042,
          14.9427835057188
         ],
         "yaxis": "y"
        },
        {
         "mode": "lines",
         "name": "storage",
         "type": "scatter",
         "x": [
          "2020-01-01T00:00:00",
          "2020-01-01T01:00:00",
          "2020-01-01T02:00:00",
          "2020-01-01T03:00:00",
          "2020-01-01T04:00:00",
          "2020-01-01T05:00:00",
          "2020-01-01T06:00:00",
          "2020-01-01T07:00:00",
          "2020-01-01T08:00:00",
          "2020-01-01T09:00:00",
          "2020-01-01T10:00:00",
          "2020-01-01T11:00:00",
          "2020-01-01T12:00:00",
          "2020-01-01T13:00:00",
          "2020-01-01T14:00:00",
          "2020-01-01T15:00:00",
          "2020-01-01T16:00:00",
          "2020-01-01T17:00:00",
          "2020-01-01T18:00:00",
          "2020-01-01T19:00:00",
          "2020-01-01T20:00:00",
          "2020-01-01T21:00:00",
          "2020-01-01T22:00:00",
          "2020-01-01T23:00:00",
          "2020-01-02T00:00:00",
          "2020-01-02T01:00:00",
          "2020-01-02T02:00:00",
          "2020-01-02T03:00:00",
          "2020-01-02T04:00:00",
          "2020-01-02T05:00:00",
          "2020-01-02T06:00:00",
          "2020-01-02T07:00:00",
          "2020-01-02T08:00:00",
          "2020-01-02T09:00:00",
          "2020-01-02T10:00:00",
          "2020-01-02T11:00:00",
          "2020-01-02T12:00:00",
          "2020-01-02T13:00:00",
          "2020-01-02T14:00:00",
          "2020-01-02T15:00:00",
          "2020-01-02T16:00:00",
          "2020-01-02T17:00:00",
          "2020-01-02T18:00:00",
          "2020-01-02T19:00:00",
          "2020-01-02T20:00:00",
          "2020-01-02T21:00:00",
          "2020-01-02T22:00:00",
          "2020-01-02T23:00:00",
          "2020-01-03T00:00:00",
          "2020-01-03T01:00:00",
          "2020-01-03T02:00:00",
          "2020-01-03T03:00:00",
          "2020-01-03T04:00:00",
          "2020-01-03T05:00:00",
          "2020-01-03T06:00:00",
          "2020-01-03T07:00:00",
          "2020-01-03T08:00:00",
          "2020-01-03T09:00:00",
          "2020-01-03T10:00:00",
          "2020-01-03T11:00:00",
          "2020-01-03T12:00:00",
          "2020-01-03T13:00:00",
          "2020-01-03T14:00:00",
          "2020-01-03T15:00:00",
          "2020-01-03T16:00:00",
          "2020-01-03T17:00:00",
          "2020-01-03T18:00:00",
          "2020-01-03T19:00:00",
          "2020-01-03T20:00:00",
          "2020-01-03T21:00:00",
          "2020-01-03T22:00:00",
          "2020-01-03T23:00:00",
          "2020-01-04T00:00:00",
          "2020-01-04T01:00:00",
          "2020-01-04T02:00:00",
          "2020-01-04T03:00:00",
          "2020-01-04T04:00:00",
          "2020-01-04T05:00:00",
          "2020-01-04T06:00:00",
          "2020-01-04T07:00:00",
          "2020-01-04T08:00:00",
          "2020-01-04T09:00:00",
          "2020-01-04T10:00:00",
          "2020-01-04T11:00:00",
          "2020-01-04T12:00:00",
          "2020-01-04T13:00:00",
          "2020-01-04T14:00:00",
          "2020-01-04T15:00:00",
          "2020-01-04T16:00:00",
          "2020-01-04T17:00:00",
          "2020-01-04T18:00:00",
          "2020-01-04T19:00:00",
          "2020-01-04T20:00:00",
          "2020-01-04T21:00:00",
          "2020-01-04T22:00:00",
          "2020-01-04T23:00:00",
          "2020-01-05T00:00:00",
          "2020-01-05T01:00:00",
          "2020-01-05T02:00:00",
          "2020-01-05T03:00:00",
          "2020-01-05T04:00:00",
          "2020-01-05T05:00:00",
          "2020-01-05T06:00:00",
          "2020-01-05T07:00:00",
          "2020-01-05T08:00:00",
          "2020-01-05T09:00:00",
          "2020-01-05T10:00:00",
          "2020-01-05T11:00:00",
          "2020-01-05T12:00:00",
          "2020-01-05T13:00:00",
          "2020-01-05T14:00:00",
          "2020-01-05T15:00:00",
          "2020-01-05T16:00:00",
          "2020-01-05T17:00:00",
          "2020-01-05T18:00:00",
          "2020-01-05T19:00:00",
          "2020-01-05T20:00:00",
          "2020-01-05T21:00:00",
          "2020-01-05T22:00:00",
          "2020-01-05T23:00:00",
          "2020-01-06T00:00:00",
          "2020-01-06T01:00:00",
          "2020-01-06T02:00:00",
          "2020-01-06T03:00:00",
          "2020-01-06T04:00:00",
          "2020-01-06T05:00:00",
          "2020-01-06T06:00:00",
          "2020-01-06T07:00:00",
          "2020-01-06T08:00:00",
          "2020-01-06T09:00:00",
          "2020-01-06T10:00:00",
          "2020-01-06T11:00:00",
          "2020-01-06T12:00:00",
          "2020-01-06T13:00:00",
          "2020-01-06T14:00:00",
          "2020-01-06T15:00:00",
          "2020-01-06T16:00:00",
          "2020-01-06T17:00:00",
          "2020-01-06T18:00:00",
          "2020-01-06T19:00:00",
          "2020-01-06T20:00:00",
          "2020-01-06T21:00:00",
          "2020-01-06T22:00:00",
          "2020-01-06T23:00:00",
          "2020-01-07T00:00:00",
          "2020-01-07T01:00:00",
          "2020-01-07T02:00:00",
          "2020-01-07T03:00:00",
          "2020-01-07T04:00:00",
          "2020-01-07T05:00:00",
          "2020-01-07T06:00:00",
          "2020-01-07T07:00:00",
          "2020-01-07T08:00:00",
          "2020-01-07T09:00:00",
          "2020-01-07T10:00:00",
          "2020-01-07T11:00:00",
          "2020-01-07T12:00:00",
          "2020-01-07T13:00:00",
          "2020-01-07T14:00:00",
          "2020-01-07T15:00:00",
          "2020-01-07T16:00:00",
          "2020-01-07T17:00:00",
          "2020-01-07T18:00:00",
          "2020-01-07T19:00:00",
          "2020-01-07T20:00:00",
          "2020-01-07T21:00:00",
          "2020-01-07T22:00:00",
          "2020-01-07T23:00:00"
         ],
         "xaxis": "x",
         "y": [
          1.1805123814533673,
          3.1805123814533673,
          1.1805123814533673,
          3.1805123814533673,
          4,
          4,
          2,
          0,
          0,
          2,
          0,
          0,
          2,
          4,
          2,
          2,
          4,
          4,
          2,
          4,
          2,
          0,
          2,
          0,
          0,
          2,
          1.1805123814533673,
          3.1805123814533673,
          4,
          2,
          2,
          0,
          2,
          0,
          2,
          0,
          2,
          0,
          2,
          0,
          2,
          4,
          2,
          4,
          2,
          0,
          0,
          0,
          2,
          0,
          2,
          3.1805123814533673,
          4,
          2,
          0,
          0,
          0,
          2,
          4,
          2,
          0,
          2,
          0,
          2,
          4,
          2,
          2,
          0,
          2,
          0,
          2,
          0,
          2,
          3.1805123814533673,
          1.1805123814533673,
          3.1805123814533673,
          4,
          2,
          2,
          0,
          1.9999999999999993,
          4,
          2,
          0,
          0,
          0,
          2,
          2,
          0,
          1.9999999999999998,
          4,
          4,
          4,
          4,
          2,
          0,
          0,
          2,
          4,
          3.1805123814533673,
          4,
          2,
          4,
          2,
          0,
          2,
          0,
          2,
          4,
          2,
          0,
          2,
          0,
          0,
          2,
          0,
          2,
          4,
          2,
          0,
          0,
          2,
          4,
          3.1805123814533673,
          4,
          4,
          2,
          4,
          2,
          2,
          0,
          2,
          0,
          2,
          4,
          2,
          2,
          0,
          2,
          2,
          0,
          2,
          2,
          0,
          2,
          4,
          4,
          3.1805123814533673,
          4,
          2,
          4,
          4,
          2,
          0,
          2,
          4,
          3.9999999999999996,
          2,
          0,
          2,
          4,
          2,
          0,
          2,
          0,
          0,
          2,
          0
         ],
         "yaxis": "y"
        },
        {
         "mode": "lines",
         "name": "gas",
         "type": "scatter",
         "x": [
          "2020-01-01T00:00:00",
          "2020-01-01T01:00:00",
          "2020-01-01T02:00:00",
          "2020-01-01T03:00:00",
          "2020-01-01T04:00:00",
          "2020-01-01T05:00:00",
          "2020-01-01T06:00:00",
          "2020-01-01T07:00:00",
          "2020-01-01T08:00:00",
          "2020-01-01T09:00:00",
          "2020-01-01T10:00:00",
          "2020-01-01T11:00:00",
          "2020-01-01T12:00:00",
          "2020-01-01T13:00:00",
          "2020-01-01T14:00:00",
          "2020-01-01T15:00:00",
          "2020-01-01T16:00:00",
          "2020-01-01T17:00:00",
          "2020-01-01T18:00:00",
          "2020-01-01T19:00:00",
          "2020-01-01T20:00:00",
          "2020-01-01T21:00:00",
          "2020-01-01T22:00:00",
          "2020-01-01T23:00:00",
          "2020-01-02T00:00:00",
          "2020-01-02T01:00:00",
          "2020-01-02T02:00:00",
          "2020-01-02T03:00:00",
          "2020-01-02T04:00:00",
          "2020-01-02T05:00:00",
          "2020-01-02T06:00:00",
          "2020-01-02T07:00:00",
          "2020-01-02T08:00:00",
          "2020-01-02T09:00:00",
          "2020-01-02T10:00:00",
          "2020-01-02T11:00:00",
          "2020-01-02T12:00:00",
          "2020-01-02T13:00:00",
          "2020-01-02T14:00:00",
          "2020-01-02T15:00:00",
          "2020-01-02T16:00:00",
          "2020-01-02T17:00:00",
          "2020-01-02T18:00:00",
          "2020-01-02T19:00:00",
          "2020-01-02T20:00:00",
          "2020-01-02T21:00:00",
          "2020-01-02T22:00:00",
          "2020-01-02T23:00:00",
          "2020-01-03T00:00:00",
          "2020-01-03T01:00:00",
          "2020-01-03T02:00:00",
          "2020-01-03T03:00:00",
          "2020-01-03T04:00:00",
          "2020-01-03T05:00:00",
          "2020-01-03T06:00:00",
          "2020-01-03T07:00:00",
          "2020-01-03T08:00:00",
          "2020-01-03T09:00:00",
          "2020-01-03T10:00:00",
          "2020-01-03T11:00:00",
          "2020-01-03T12:00:00",
          "2020-01-03T13:00:00",
          "2020-01-03T14:00:00",
          "2020-01-03T15:00:00",
          "2020-01-03T16:00:00",
          "2020-01-03T17:00:00",
          "2020-01-03T18:00:00",
          "2020-01-03T19:00:00",
          "2020-01-03T20:00:00",
          "2020-01-03T21:00:00",
          "2020-01-03T22:00:00",
          "2020-01-03T23:00:00",
          "2020-01-04T00:00:00",
          "2020-01-04T01:00:00",
          "2020-01-04T02:00:00",
          "2020-01-04T03:00:00",
          "2020-01-04T04:00:00",
          "2020-01-04T05:00:00",
          "2020-01-04T06:00:00",
          "2020-01-04T07:00:00",
          "2020-01-04T08:00:00",
          "2020-01-04T09:00:00",
          "2020-01-04T10:00:00",
          "2020-01-04T11:00:00",
          "2020-01-04T12:00:00",
          "2020-01-04T13:00:00",
          "2020-01-04T14:00:00",
          "2020-01-04T15:00:00",
          "2020-01-04T16:00:00",
          "2020-01-04T17:00:00",
          "2020-01-04T18:00:00",
          "2020-01-04T19:00:00",
          "2020-01-04T20:00:00",
          "2020-01-04T21:00:00",
          "2020-01-04T22:00:00",
          "2020-01-04T23:00:00",
          "2020-01-05T00:00:00",
          "2020-01-05T01:00:00",
          "2020-01-05T02:00:00",
          "2020-01-05T03:00:00",
          "2020-01-05T04:00:00",
          "2020-01-05T05:00:00",
          "2020-01-05T06:00:00",
          "2020-01-05T07:00:00",
          "2020-01-05T08:00:00",
          "2020-01-05T09:00:00",
          "2020-01-05T10:00:00",
          "2020-01-05T11:00:00",
          "2020-01-05T12:00:00",
          "2020-01-05T13:00:00",
          "2020-01-05T14:00:00",
          "2020-01-05T15:00:00",
          "2020-01-05T16:00:00",
          "2020-01-05T17:00:00",
          "2020-01-05T18:00:00",
          "2020-01-05T19:00:00",
          "2020-01-05T20:00:00",
          "2020-01-05T21:00:00",
          "2020-01-05T22:00:00",
          "2020-01-05T23:00:00",
          "2020-01-06T00:00:00",
          "2020-01-06T01:00:00",
          "2020-01-06T02:00:00",
          "2020-01-06T03:00:00",
          "2020-01-06T04:00:00",
          "2020-01-06T05:00:00",
          "2020-01-06T06:00:00",
          "2020-01-06T07:00:00",
          "2020-01-06T08:00:00",
          "2020-01-06T09:00:00",
          "2020-01-06T10:00:00",
          "2020-01-06T11:00:00",
          "2020-01-06T12:00:00",
          "2020-01-06T13:00:00",
          "2020-01-06T14:00:00",
          "2020-01-06T15:00:00",
          "2020-01-06T16:00:00",
          "2020-01-06T17:00:00",
          "2020-01-06T18:00:00",
          "2020-01-06T19:00:00",
          "2020-01-06T20:00:00",
          "2020-01-06T21:00:00",
          "2020-01-06T22:00:00",
          "2020-01-06T23:00:00",
          "2020-01-07T00:00:00",
          "2020-01-07T01:00:00",
          "2020-01-07T02:00:00",
          "2020-01-07T03:00:00",
          "2020-01-07T04:00:00",
          "2020-01-07T05:00:00",
          "2020-01-07T06:00:00",
          "2020-01-07T07:00:00",
          "2020-01-07T08:00:00",
          "2020-01-07T09:00:00",
          "2020-01-07T10:00:00",
          "2020-01-07T11:00:00",
          "2020-01-07T12:00:00",
          "2020-01-07T13:00:00",
          "2020-01-07T14:00:00",
          "2020-01-07T15:00:00",
          "2020-01-07T16:00:00",
          "2020-01-07T17:00:00",
          "2020-01-07T18:00:00",
          "2020-01-07T19:00:00",
          "2020-01-07T20:00:00",
          "2020-01-07T21:00:00",
          "2020-01-07T22:00:00",
          "2020-01-07T23:00:00"
         ],
         "xaxis": "x",
         "y": [
          0,
          0,
          0,
          0,
          0,
          6.137829618850393,
          7.567308382017515,
          6.717751591895993,
          6.044364423209999,
          9.855795611549608,
          10.043333204697518,
          13.929549556416399,
          14.233858157111598,
          13.0015868041092,
          5.5106850123648385,
          7.757054774031596,
          11.97521733207117,
          11.964694060355596,
          8.804859922516957,
          13.36954841222891,
          10.684564470494518,
          7.133402066087208,
          10.505184818367042,
          5.268185844784989,
          0,
          0,
          0,
          0,
          0,
          4.137829618850391,
          9.567308382017517,
          6.717751591895993,
          8.044364423210002,
          5.855795611549608,
          14.04333320469752,
          11.929549556416399,
          14.233858157111598,
          9.001586804109198,
          9.510685012364839,
          5.757054774031597,
          11.97521733207117,
          13.964694060355598,
          8.804859922516957,
          13.36954841222891,
          10.684564470494518,
          7.133402066087208,
          8.50518481836704,
          7.2681858447849885,
          0,
          0,
          0,
          0,
          0,
          4.137829618850391,
          7.567308382017515,
          8.717751591895995,
          6.044364423209999,
          9.855795611549608,
          14.04333320469752,
          11.929549556416399,
          10.233858157111598,
          13.0015868041092,
          5.5106850123648385,
          9.757054774031598,
          11.97521733207117,
          9.964694060355594,
          10.80485992251696,
          9.369548412228907,
          14.684564470494518,
          7.133402066087208,
          10.505184818367042,
          5.268185844784989,
          0,
          0,
          0,
          0,
          0,
          4.137829618850391,
          9.567308382017517,
          6.717751591895993,
          8.044364423210002,
          9.855795611549608,
          10.043333204697518,
          11.929549556416399,
          12.233858157111596,
          11.001586804109198,
          9.510685012364839,
          7.757054774031596,
          7.975217332071169,
          13.964694060355598,
          12.804859922516961,
          11.369548412228909,
          12.684564470494516,
          9.133402066087207,
          6.505184818367041,
          5.268185844784989,
          0,
          0,
          0,
          0,
          0,
          4.137829618850391,
          11.567308382017519,
          6.717751591895993,
          4.044364423209998,
          9.855795611549608,
          10.043333204697518,
          15.9295495564164,
          14.233858157111598,
          9.001586804109198,
          5.5106850123648385,
          9.757054774031598,
          7.975217332071169,
          11.964694060355596,
          12.804859922516961,
          9.369548412228907,
          14.684564470494518,
          11.133402066087205,
          6.505184818367041,
          5.268185844784989,
          0,
          0,
          0,
          0,
          0,
          6.137829618850393,
          7.567308382017515,
          10.717751591895997,
          4.044364423209998,
          7.855795611549607,
          10.043333204697518,
          15.9295495564164,
          10.233858157111598,
          13.0015868041092,
          9.510685012364839,
          5.757054774031597,
          9.975217332071168,
          9.964694060355594,
          12.804859922516961,
          11.369548412228909,
          10.684564470494518,
          11.133402066087205,
          8.50518481836704,
          5.268185844784989,
          0,
          0,
          0,
          0,
          0,
          4.137829618850391,
          11.567308382017519,
          8.717751591895995,
          4.044364423209998,
          5.855795611549608,
          14.04333320469752,
          15.9295495564164,
          12.233858157111596,
          9.001586804109198,
          5.5106850123648385,
          9.757054774031598,
          11.97521733207117,
          9.964694060355594,
          8.804859922516957,
          13.36954841222891,
          10.684564470494518,
          9.133402066087207,
          10.505184818367042,
          5.268185844784989
         ],
         "yaxis": "y"
        }
       ],
       "frames": [],
       "layout": {
        "annotations": [],
        "margin": {
         "b": 50,
         "l": 50,
         "r": 50,
         "t": 60
        },
        "template": {
         "data": {
          "bar": [
           {
            "error_x": {
             "color": "#2a3f5f"
            },
            "error_y": {
             "color": "#2a3f5f"
            },
            "marker": {
             "line": {
              "color": "#E5ECF6",
              "width": 0.5
             }
            },
            "type": "bar"
           }
          ],
          "barpolar": [
           {
            "marker": {
             "line": {
              "color": "#E5ECF6",
              "width": 0.5
             }
            },
            "type": "barpolar"
           }
          ],
          "carpet": [
           {
            "aaxis": {
             "endlinecolor": "#2a3f5f",
             "gridcolor": "white",
             "linecolor": "white",
             "minorgridcolor": "white",
             "startlinecolor": "#2a3f5f"
            },
            "baxis": {
             "endlinecolor": "#2a3f5f",
             "gridcolor": "white",
             "linecolor": "white",
             "minorgridcolor": "white",
             "startlinecolor": "#2a3f5f"
            },
            "type": "carpet"
           }
          ],
          "choropleth": [
           {
            "colorbar": {
             "outlinewidth": 0,
             "ticks": ""
            },
            "type": "choropleth"
           }
          ],
          "contour": [
           {
            "colorbar": {
             "outlinewidth": 0,
             "ticks": ""
            },
            "colorscale": [
             [
              0,
              "#0d0887"
             ],
             [
              0.1111111111111111,
              "#46039f"
             ],
             [
              0.2222222222222222,
              "#7201a8"
             ],
             [
              0.3333333333333333,
              "#9c179e"
             ],
             [
              0.4444444444444444,
              "#bd3786"
             ],
             [
              0.5555555555555556,
              "#d8576b"
             ],
             [
              0.6666666666666666,
              "#ed7953"
             ],
             [
              0.7777777777777778,
              "#fb9f3a"
             ],
             [
              0.8888888888888888,
              "#fdca26"
             ],
             [
              1,
              "#f0f921"
             ]
            ],
            "type": "contour"
           }
          ],
          "contourcarpet": [
           {
            "colorbar": {
             "outlinewidth": 0,
             "ticks": ""
            },
            "type": "contourcarpet"
           }
          ],
          "heatmap": [
           {
            "colorbar": {
             "outlinewidth": 0,
             "ticks": ""
            },
            "colorscale": [
             [
              0,
              "#0d0887"
             ],
             [
              0.1111111111111111,
              "#46039f"
             ],
             [
              0.2222222222222222,
              "#7201a8"
             ],
             [
              0.3333333333333333,
              "#9c179e"
             ],
             [
              0.4444444444444444,
              "#bd3786"
             ],
             [
              0.5555555555555556,
              "#d8576b"
             ],
             [
              0.6666666666666666,
              "#ed7953"
             ],
             [
              0.7777777777777778,
              "#fb9f3a"
             ],
             [
              0.8888888888888888,
              "#fdca26"
             ],
             [
              1,
              "#f0f921"
             ]
            ],
            "type": "heatmap"
           }
          ],
          "heatmapgl": [
           {
            "colorbar": {
             "outlinewidth": 0,
             "ticks": ""
            },
            "colorscale": [
             [
              0,
              "#0d0887"
             ],
             [
              0.1111111111111111,
              "#46039f"
             ],
             [
              0.2222222222222222,
              "#7201a8"
             ],
             [
              0.3333333333333333,
              "#9c179e"
             ],
             [
              0.4444444444444444,
              "#bd3786"
             ],
             [
              0.5555555555555556,
              "#d8576b"
             ],
             [
              0.6666666666666666,
              "#ed7953"
             ],
             [
              0.7777777777777778,
              "#fb9f3a"
             ],
             [
              0.8888888888888888,
              "#fdca26"
             ],
             [
              1,
              "#f0f921"
             ]
            ],
            "type": "heatmapgl"
           }
          ],
          "histogram": [
           {
            "marker": {
             "colorbar": {
              "outlinewidth": 0,
              "ticks": ""
             }
            },
            "type": "histogram"
           }
          ],
          "histogram2d": [
           {
            "colorbar": {
             "outlinewidth": 0,
             "ticks": ""
            },
            "colorscale": [
             [
              0,
              "#0d0887"
             ],
             [
              0.1111111111111111,
              "#46039f"
             ],
             [
              0.2222222222222222,
              "#7201a8"
             ],
             [
              0.3333333333333333,
              "#9c179e"
             ],
             [
              0.4444444444444444,
              "#bd3786"
             ],
             [
              0.5555555555555556,
              "#d8576b"
             ],
             [
              0.6666666666666666,
              "#ed7953"
             ],
             [
              0.7777777777777778,
              "#fb9f3a"
             ],
             [
              0.8888888888888888,
              "#fdca26"
             ],
             [
              1,
              "#f0f921"
             ]
            ],
            "type": "histogram2d"
           }
          ],
          "histogram2dcontour": [
           {
            "colorbar": {
             "outlinewidth": 0,
             "ticks": ""
            },
            "colorscale": [
             [
              0,
              "#0d0887"
             ],
             [
              0.1111111111111111,
              "#46039f"
             ],
             [
              0.2222222222222222,
              "#7201a8"
             ],
             [
              0.3333333333333333,
              "#9c179e"
             ],
             [
              0.4444444444444444,
              "#bd3786"
             ],
             [
              0.5555555555555556,
              "#d8576b"
             ],
             [
              0.6666666666666666,
              "#ed7953"
             ],
             [
              0.7777777777777778,
              "#fb9f3a"
             ],
             [
              0.8888888888888888,
              "#fdca26"
             ],
             [
              1,
              "#f0f921"
             ]
            ],
            "type": "histogram2dcontour"
           }
          ],
          "mesh3d": [
           {
            "colorbar": {
             "outlinewidth": 0,
             "ticks": ""
            },
            "type": "mesh3d"
           }
          ],
          "parcoords": [
           {
            "line": {
             "colorbar": {
              "outlinewidth": 0,
              "ticks": ""
             }
            },
            "type": "parcoords"
           }
          ],
          "pie": [
           {
            "automargin": true,
            "type": "pie"
           }
          ],
          "scatter": [
           {
            "marker": {
             "colorbar": {
              "outlinewidth": 0,
              "ticks": ""
             }
            },
            "type": "scatter"
           }
          ],
          "scatter3d": [
           {
            "line": {
             "colorbar": {
              "outlinewidth": 0,
              "ticks": ""
             }
            },
            "marker": {
             "colorbar": {
              "outlinewidth": 0,
              "ticks": ""
             }
            },
            "type": "scatter3d"
           }
          ],
          "scattercarpet": [
           {
            "marker": {
             "colorbar": {
              "outlinewidth": 0,
              "ticks": ""
             }
            },
            "type": "scattercarpet"
           }
          ],
          "scattergeo": [
           {
            "marker": {
             "colorbar": {
              "outlinewidth": 0,
              "ticks": ""
             }
            },
            "type": "scattergeo"
           }
          ],
          "scattergl": [
           {
            "marker": {
             "colorbar": {
              "outlinewidth": 0,
              "ticks": ""
             }
            },
            "type": "scattergl"
           }
          ],
          "scattermapbox": [
           {
            "marker": {
             "colorbar": {
              "outlinewidth": 0,
              "ticks": ""
             }
            },
            "type": "scattermapbox"
           }
          ],
          "scatterpolar": [
           {
            "marker": {
             "colorbar": {
              "outlinewidth": 0,
              "ticks": ""
             }
            },
            "type": "scatterpolar"
           }
          ],
          "scatterpolargl": [
           {
            "marker": {
             "colorbar": {
              "outlinewidth": 0,
              "ticks": ""
             }
            },
            "type": "scatterpolargl"
           }
          ],
          "scatterternary": [
           {
            "marker": {
             "colorbar": {
              "outlinewidth": 0,
              "ticks": ""
             }
            },
            "type": "scatterternary"
           }
          ],
          "surface": [
           {
            "colorbar": {
             "outlinewidth": 0,
             "ticks": ""
            },
            "colorscale": [
             [
              0,
              "#0d0887"
             ],
             [
              0.1111111111111111,
              "#46039f"
             ],
             [
              0.2222222222222222,
              "#7201a8"
             ],
             [
              0.3333333333333333,
              "#9c179e"
             ],
             [
              0.4444444444444444,
              "#bd3786"
             ],
             [
              0.5555555555555556,
              "#d8576b"
             ],
             [
              0.6666666666666666,
              "#ed7953"
             ],
             [
              0.7777777777777778,
              "#fb9f3a"
             ],
             [
              0.8888888888888888,
              "#fdca26"
             ],
             [
              1,
              "#f0f921"
             ]
            ],
            "type": "surface"
           }
          ],
          "table": [
           {
            "cells": {
             "fill": {
              "color": "#EBF0F8"
             },
             "line": {
              "color": "white"
             }
            },
            "header": {
             "fill": {
              "color": "#C8D4E3"
             },
             "line": {
              "color": "white"
             }
            },
            "type": "table"
           }
          ]
         },
         "layout": {
          "annotationdefaults": {
           "arrowcolor": "#2a3f5f",
           "arrowhead": 0,
           "arrowwidth": 1
          },
          "autotypenumbers": "strict",
          "coloraxis": {
           "colorbar": {
            "outlinewidth": 0,
            "ticks": ""
           }
          },
          "colorscale": {
           "diverging": [
            [
             0,
             "#8e0152"
            ],
            [
             0.1,
             "#c51b7d"
            ],
            [
             0.2,
             "#de77ae"
            ],
            [
             0.3,
             "#f1b6da"
            ],
            [
             0.4,
             "#fde0ef"
            ],
            [
             0.5,
             "#f7f7f7"
            ],
            [
             0.6,
             "#e6f5d0"
            ],
            [
             0.7,
             "#b8e186"
            ],
            [
             0.8,
             "#7fbc41"
            ],
            [
             0.9,
             "#4d9221"
            ],
            [
             1,
             "#276419"
            ]
           ],
           "sequential": [
            [
             0,
             "#0d0887"
            ],
            [
             0.1111111111111111,
             "#46039f"
            ],
            [
             0.2222222222222222,
             "#7201a8"
            ],
            [
             0.3333333333333333,
             "#9c179e"
            ],
            [
             0.4444444444444444,
             "#bd3786"
            ],
            [
             0.5555555555555556,
             "#d8576b"
            ],
            [
             0.6666666666666666,
             "#ed7953"
            ],
            [
             0.7777777777777778,
             "#fb9f3a"
            ],
            [
             0.8888888888888888,
             "#fdca26"
            ],
            [
             1,
             "#f0f921"
            ]
           ],
           "sequentialminus": [
            [
             0,
             "#0d0887"
            ],
            [
             0.1111111111111111,
             "#46039f"
            ],
            [
             0.2222222222222222,
             "#7201a8"
            ],
            [
             0.3333333333333333,
             "#9c179e"
            ],
            [
             0.4444444444444444,
             "#bd3786"
            ],
            [
             0.5555555555555556,
             "#d8576b"
            ],
            [
             0.6666666666666666,
             "#ed7953"
            ],
            [
             0.7777777777777778,
             "#fb9f3a"
            ],
            [
             0.8888888888888888,
             "#fdca26"
            ],
            [
             1,
             "#f0f921"
            ]
           ]
          },
          "colorway": [
           "#636efa",
           "#EF553B",
           "#00cc96",
           "#ab63fa",
           "#FFA15A",
           "#19d3f3",
           "#FF6692",
           "#B6E880",
           "#FF97FF",
           "#FECB52"
          ],
          "font": {
           "color": "#2a3f5f"
          },
          "geo": {
           "bgcolor": "white",
           "lakecolor": "white",
           "landcolor": "#E5ECF6",
           "showlakes": true,
           "showland": true,
           "subunitcolor": "white"
          },
          "hoverlabel": {
           "align": "left"
          },
          "hovermode": "closest",
          "mapbox": {
           "style": "light"
          },
          "paper_bgcolor": "white",
          "plot_bgcolor": "#E5ECF6",
          "polar": {
           "angularaxis": {
            "gridcolor": "white",
            "linecolor": "white",
            "ticks": ""
           },
           "bgcolor": "#E5ECF6",
           "radialaxis": {
            "gridcolor": "white",
            "linecolor": "white",
            "ticks": ""
           }
          },
          "scene": {
           "xaxis": {
            "backgroundcolor": "#E5ECF6",
            "gridcolor": "white",
            "gridwidth": 2,
            "linecolor": "white",
            "showbackground": true,
            "ticks": "",
            "zerolinecolor": "white"
           },
           "yaxis": {
            "backgroundcolor": "#E5ECF6",
            "gridcolor": "white",
            "gridwidth": 2,
            "linecolor": "white",
            "showbackground": true,
            "ticks": "",
            "zerolinecolor": "white"
           },
           "zaxis": {
            "backgroundcolor": "#E5ECF6",
            "gridcolor": "white",
            "gridwidth": 2,
            "linecolor": "white",
            "showbackground": true,
            "ticks": "",
            "zerolinecolor": "white"
           }
          },
          "shapedefaults": {
           "line": {
            "color": "#2a3f5f"
           }
          },
          "ternary": {
           "aaxis": {
            "gridcolor": "white",
            "linecolor": "white",
            "ticks": ""
           },
           "baxis": {
            "gridcolor": "white",
            "linecolor": "white",
            "ticks": ""
           },
           "bgcolor": "#E5ECF6",
           "caxis": {
            "gridcolor": "white",
            "linecolor": "white",
            "ticks": ""
           }
          },
          "title": {
           "x": 0.05
          },
          "xaxis": {
           "automargin": true,
           "gridcolor": "white",
           "linecolor": "white",
           "ticks": "",
           "title": {
            "standoff": 15
           },
           "zerolinecolor": "white",
           "zerolinewidth": 2
          },
          "yaxis": {
           "automargin": true,
           "gridcolor": "white",
           "linecolor": "white",
           "ticks": "",
           "title": {
            "standoff": 15
           },
           "zerolinecolor": "white",
           "zerolinewidth": 2
          }
         }
        },
        "xaxis": {
         "anchor": "y",
         "domain": [
          0,
          1
         ]
        },
        "yaxis": {
         "anchor": "x",
         "domain": [
          0,
          1
         ]
        }
       }
      },
      "text/html": [
       "<div\n",
       "    class=\"webio-mountpoint\"\n",
       "    data-webio-mountpoint=\"1361689663514328160\"\n",
       ">\n",
       "    <script>\n",
       "    (function(){\n",
       "    // Some integrations (namely, IJulia/Jupyter) use an alternate render pathway than\n",
       "    // just putting the html on the page. If WebIO isn't defined, then it's pretty likely\n",
       "    // that we're in one of those situations and the integration just isn't installed\n",
       "    // correctly.\n",
       "    if (typeof window.WebIO === \"undefined\") {\n",
       "        document\n",
       "            .querySelector('[data-webio-mountpoint=\"1361689663514328160\"]')\n",
       "            .innerHTML = (\n",
       "                '<div style=\"padding: 1em; background-color: #f8d6da; border: 1px solid #f5c6cb; font-weight: bold;\">' +\n",
       "                '<p><strong>WebIO not detected.</strong></p>' +\n",
       "                '<p>Please read ' +\n",
       "                '<a href=\"https://juliagizmos.github.io/WebIO.jl/latest/troubleshooting/not-detected/\" target=\"_blank\">the troubleshooting guide</a> ' +\n",
       "                'for more information on how to resolve this issue.</p>' +\n",
       "                '<p><a href=\"https://juliagizmos.github.io/WebIO.jl/latest/troubleshooting/not-detected/\" target=\"_blank\">https://juliagizmos.github.io/WebIO.jl/latest/troubleshooting/not-detected/</a></p>' +\n",
       "                '</div>'\n",
       "            );\n",
       "        return;\n",
       "    }\n",
       "    WebIO.mount(\n",
       "        document.querySelector('[data-webio-mountpoint=\"1361689663514328160\"]'),\n",
       "        {\"props\":{},\"nodeType\":\"Scope\",\"type\":\"node\",\"instanceArgs\":{\"imports\":{\"data\":[{\"name\":\"Plotly\",\"type\":\"js\",\"url\":\"\\/assetserver\\/0bb828e2cc8f47d707334bab03c3d769fdb029bc-plotly.min.js\"},{\"name\":null,\"type\":\"js\",\"url\":\"\\/assetserver\\/2e0a92c28737fafad38dac141ae8bd9262316c10-plotly_webio.bundle.js\"}],\"type\":\"async_block\"},\"id\":\"13481942917942204209\",\"handlers\":{\"_toImage\":[\"(function (options){return this.Plotly.toImage(this.plotElem,options).then((function (data){return WebIO.setval({\\\"name\\\":\\\"image\\\",\\\"scope\\\":\\\"13481942917942204209\\\",\\\"id\\\":\\\"5\\\",\\\"type\\\":\\\"observable\\\"},data)}))})\"],\"__get_gd_contents\":[\"(function (prop){prop==\\\"data\\\" ? (WebIO.setval({\\\"name\\\":\\\"__gd_contents\\\",\\\"scope\\\":\\\"13481942917942204209\\\",\\\"id\\\":\\\"6\\\",\\\"type\\\":\\\"observable\\\"},this.plotElem.data)) : undefined; return prop==\\\"layout\\\" ? (WebIO.setval({\\\"name\\\":\\\"__gd_contents\\\",\\\"scope\\\":\\\"13481942917942204209\\\",\\\"id\\\":\\\"6\\\",\\\"type\\\":\\\"observable\\\"},this.plotElem.layout)) : undefined})\"],\"_downloadImage\":[\"(function (options){return this.Plotly.downloadImage(this.plotElem,options)})\"],\"_commands\":[\"(function (args){var fn=args.shift(); var elem=this.plotElem; var Plotly=this.Plotly; args.unshift(elem); return Plotly[fn].apply(this,args)})\"]},\"systemjs_options\":null,\"mount_callbacks\":[\"function () {\\n    var handler = ((function (Plotly,PlotlyWebIO){PlotlyWebIO.init(WebIO); var gd=this.dom.querySelector(\\\"#plot-24f4e300-7cca-41c2-a9fb-c61aeb4a2fe1\\\"); this.plotElem=gd; this.Plotly=Plotly; (window.Blink!==undefined) ? (gd.style.width=\\\"100%\\\", gd.style.height=\\\"100vh\\\", gd.style.marginLeft=\\\"0%\\\", gd.style.marginTop=\\\"0vh\\\") : undefined; window.onresize=(function (){return Plotly.Plots.resize(gd)}); Plotly.newPlot(gd,[],{\\\"xaxis\\\":{\\\"domain\\\":[0.0,1.0],\\\"anchor\\\":\\\"y\\\"},\\\"template\\\":{\\\"layout\\\":{\\\"coloraxis\\\":{\\\"colorbar\\\":{\\\"ticks\\\":\\\"\\\",\\\"outlinewidth\\\":0}},\\\"xaxis\\\":{\\\"gridcolor\\\":\\\"white\\\",\\\"zerolinewidth\\\":2,\\\"title\\\":{\\\"standoff\\\":15},\\\"ticks\\\":\\\"\\\",\\\"zerolinecolor\\\":\\\"white\\\",\\\"automargin\\\":true,\\\"linecolor\\\":\\\"white\\\"},\\\"hovermode\\\":\\\"closest\\\",\\\"paper_bgcolor\\\":\\\"white\\\",\\\"geo\\\":{\\\"showlakes\\\":true,\\\"showland\\\":true,\\\"landcolor\\\":\\\"#E5ECF6\\\",\\\"bgcolor\\\":\\\"white\\\",\\\"subunitcolor\\\":\\\"white\\\",\\\"lakecolor\\\":\\\"white\\\"},\\\"colorscale\\\":{\\\"sequential\\\":[[0.0,\\\"#0d0887\\\"],[0.1111111111111111,\\\"#46039f\\\"],[0.2222222222222222,\\\"#7201a8\\\"],[0.3333333333333333,\\\"#9c179e\\\"],[0.4444444444444444,\\\"#bd3786\\\"],[0.5555555555555556,\\\"#d8576b\\\"],[0.6666666666666666,\\\"#ed7953\\\"],[0.7777777777777778,\\\"#fb9f3a\\\"],[0.8888888888888888,\\\"#fdca26\\\"],[1.0,\\\"#f0f921\\\"]],\\\"diverging\\\":[[0,\\\"#8e0152\\\"],[0.1,\\\"#c51b7d\\\"],[0.2,\\\"#de77ae\\\"],[0.3,\\\"#f1b6da\\\"],[0.4,\\\"#fde0ef\\\"],[0.5,\\\"#f7f7f7\\\"],[0.6,\\\"#e6f5d0\\\"],[0.7,\\\"#b8e186\\\"],[0.8,\\\"#7fbc41\\\"],[0.9,\\\"#4d9221\\\"],[1,\\\"#276419\\\"]],\\\"sequentialminus\\\":[[0.0,\\\"#0d0887\\\"],[0.1111111111111111,\\\"#46039f\\\"],[0.2222222222222222,\\\"#7201a8\\\"],[0.3333333333333333,\\\"#9c179e\\\"],[0.4444444444444444,\\\"#bd3786\\\"],[0.5555555555555556,\\\"#d8576b\\\"],[0.6666666666666666,\\\"#ed7953\\\"],[0.7777777777777778,\\\"#fb9f3a\\\"],[0.8888888888888888,\\\"#fdca26\\\"],[1.0,\\\"#f0f921\\\"]]},\\\"yaxis\\\":{\\\"gridcolor\\\":\\\"white\\\",\\\"zerolinewidth\\\":2,\\\"title\\\":{\\\"standoff\\\":15},\\\"ticks\\\":\\\"\\\",\\\"zerolinecolor\\\":\\\"white\\\",\\\"automargin\\\":true,\\\"linecolor\\\":\\\"white\\\"},\\\"shapedefaults\\\":{\\\"line\\\":{\\\"color\\\":\\\"#2a3f5f\\\"}},\\\"hoverlabel\\\":{\\\"align\\\":\\\"left\\\"},\\\"mapbox\\\":{\\\"style\\\":\\\"light\\\"},\\\"polar\\\":{\\\"angularaxis\\\":{\\\"gridcolor\\\":\\\"white\\\",\\\"ticks\\\":\\\"\\\",\\\"linecolor\\\":\\\"white\\\"},\\\"bgcolor\\\":\\\"#E5ECF6\\\",\\\"radialaxis\\\":{\\\"gridcolor\\\":\\\"white\\\",\\\"ticks\\\":\\\"\\\",\\\"linecolor\\\":\\\"white\\\"}},\\\"autotypenumbers\\\":\\\"strict\\\",\\\"font\\\":{\\\"color\\\":\\\"#2a3f5f\\\"},\\\"ternary\\\":{\\\"baxis\\\":{\\\"gridcolor\\\":\\\"white\\\",\\\"ticks\\\":\\\"\\\",\\\"linecolor\\\":\\\"white\\\"},\\\"bgcolor\\\":\\\"#E5ECF6\\\",\\\"caxis\\\":{\\\"gridcolor\\\":\\\"white\\\",\\\"ticks\\\":\\\"\\\",\\\"linecolor\\\":\\\"white\\\"},\\\"aaxis\\\":{\\\"gridcolor\\\":\\\"white\\\",\\\"ticks\\\":\\\"\\\",\\\"linecolor\\\":\\\"white\\\"}},\\\"annotationdefaults\\\":{\\\"arrowhead\\\":0,\\\"arrowwidth\\\":1,\\\"arrowcolor\\\":\\\"#2a3f5f\\\"},\\\"plot_bgcolor\\\":\\\"#E5ECF6\\\",\\\"title\\\":{\\\"x\\\":0.05},\\\"scene\\\":{\\\"xaxis\\\":{\\\"gridcolor\\\":\\\"white\\\",\\\"gridwidth\\\":2,\\\"backgroundcolor\\\":\\\"#E5ECF6\\\",\\\"ticks\\\":\\\"\\\",\\\"showbackground\\\":true,\\\"zerolinecolor\\\":\\\"white\\\",\\\"linecolor\\\":\\\"white\\\"},\\\"zaxis\\\":{\\\"gridcolor\\\":\\\"white\\\",\\\"gridwidth\\\":2,\\\"backgroundcolor\\\":\\\"#E5ECF6\\\",\\\"ticks\\\":\\\"\\\",\\\"showbackground\\\":true,\\\"zerolinecolor\\\":\\\"white\\\",\\\"linecolor\\\":\\\"white\\\"},\\\"yaxis\\\":{\\\"gridcolor\\\":\\\"white\\\",\\\"gridwidth\\\":2,\\\"backgroundcolor\\\":\\\"#E5ECF6\\\",\\\"ticks\\\":\\\"\\\",\\\"showbackground\\\":true,\\\"zerolinecolor\\\":\\\"white\\\",\\\"linecolor\\\":\\\"white\\\"}},\\\"colorway\\\":[\\\"#636efa\\\",\\\"#EF553B\\\",\\\"#00cc96\\\",\\\"#ab63fa\\\",\\\"#FFA15A\\\",\\\"#19d3f3\\\",\\\"#FF6692\\\",\\\"#B6E880\\\",\\\"#FF97FF\\\",\\\"#FECB52\\\"]},\\\"data\\\":{\\\"barpolar\\\":[{\\\"type\\\":\\\"barpolar\\\",\\\"marker\\\":{\\\"line\\\":{\\\"color\\\":\\\"#E5ECF6\\\",\\\"width\\\":0.5}}}],\\\"carpet\\\":[{\\\"aaxis\\\":{\\\"gridcolor\\\":\\\"white\\\",\\\"endlinecolor\\\":\\\"#2a3f5f\\\",\\\"minorgridcolor\\\":\\\"white\\\",\\\"startlinecolor\\\":\\\"#2a3f5f\\\",\\\"linecolor\\\":\\\"white\\\"},\\\"type\\\":\\\"carpet\\\",\\\"baxis\\\":{\\\"gridcolor\\\":\\\"white\\\",\\\"endlinecolor\\\":\\\"#2a3f5f\\\",\\\"minorgridcolor\\\":\\\"white\\\",\\\"startlinecolor\\\":\\\"#2a3f5f\\\",\\\"linecolor\\\":\\\"white\\\"}}],\\\"scatterpolar\\\":[{\\\"type\\\":\\\"scatterpolar\\\",\\\"marker\\\":{\\\"colorbar\\\":{\\\"ticks\\\":\\\"\\\",\\\"outlinewidth\\\":0}}}],\\\"parcoords\\\":[{\\\"line\\\":{\\\"colorbar\\\":{\\\"ticks\\\":\\\"\\\",\\\"outlinewidth\\\":0}},\\\"type\\\":\\\"parcoords\\\"}],\\\"scatter\\\":[{\\\"type\\\":\\\"scatter\\\",\\\"marker\\\":{\\\"colorbar\\\":{\\\"ticks\\\":\\\"\\\",\\\"outlinewidth\\\":0}}}],\\\"histogram2dcontour\\\":[{\\\"colorbar\\\":{\\\"ticks\\\":\\\"\\\",\\\"outlinewidth\\\":0},\\\"type\\\":\\\"histogram2dcontour\\\",\\\"colorscale\\\":[[0.0,\\\"#0d0887\\\"],[0.1111111111111111,\\\"#46039f\\\"],[0.2222222222222222,\\\"#7201a8\\\"],[0.3333333333333333,\\\"#9c179e\\\"],[0.4444444444444444,\\\"#bd3786\\\"],[0.5555555555555556,\\\"#d8576b\\\"],[0.6666666666666666,\\\"#ed7953\\\"],[0.7777777777777778,\\\"#fb9f3a\\\"],[0.8888888888888888,\\\"#fdca26\\\"],[1.0,\\\"#f0f921\\\"]]}],\\\"contour\\\":[{\\\"colorbar\\\":{\\\"ticks\\\":\\\"\\\",\\\"outlinewidth\\\":0},\\\"type\\\":\\\"contour\\\",\\\"colorscale\\\":[[0.0,\\\"#0d0887\\\"],[0.1111111111111111,\\\"#46039f\\\"],[0.2222222222222222,\\\"#7201a8\\\"],[0.3333333333333333,\\\"#9c179e\\\"],[0.4444444444444444,\\\"#bd3786\\\"],[0.5555555555555556,\\\"#d8576b\\\"],[0.6666666666666666,\\\"#ed7953\\\"],[0.7777777777777778,\\\"#fb9f3a\\\"],[0.8888888888888888,\\\"#fdca26\\\"],[1.0,\\\"#f0f921\\\"]]}],\\\"scattercarpet\\\":[{\\\"type\\\":\\\"scattercarpet\\\",\\\"marker\\\":{\\\"colorbar\\\":{\\\"ticks\\\":\\\"\\\",\\\"outlinewidth\\\":0}}}],\\\"mesh3d\\\":[{\\\"colorbar\\\":{\\\"ticks\\\":\\\"\\\",\\\"outlinewidth\\\":0},\\\"type\\\":\\\"mesh3d\\\"}],\\\"surface\\\":[{\\\"colorbar\\\":{\\\"ticks\\\":\\\"\\\",\\\"outlinewidth\\\":0},\\\"type\\\":\\\"surface\\\",\\\"colorscale\\\":[[0.0,\\\"#0d0887\\\"],[0.1111111111111111,\\\"#46039f\\\"],[0.2222222222222222,\\\"#7201a8\\\"],[0.3333333333333333,\\\"#9c179e\\\"],[0.4444444444444444,\\\"#bd3786\\\"],[0.5555555555555556,\\\"#d8576b\\\"],[0.6666666666666666,\\\"#ed7953\\\"],[0.7777777777777778,\\\"#fb9f3a\\\"],[0.8888888888888888,\\\"#fdca26\\\"],[1.0,\\\"#f0f921\\\"]]}],\\\"scattermapbox\\\":[{\\\"type\\\":\\\"scattermapbox\\\",\\\"marker\\\":{\\\"colorbar\\\":{\\\"ticks\\\":\\\"\\\",\\\"outlinewidth\\\":0}}}],\\\"scattergeo\\\":[{\\\"type\\\":\\\"scattergeo\\\",\\\"marker\\\":{\\\"colorbar\\\":{\\\"ticks\\\":\\\"\\\",\\\"outlinewidth\\\":0}}}],\\\"histogram\\\":[{\\\"type\\\":\\\"histogram\\\",\\\"marker\\\":{\\\"colorbar\\\":{\\\"ticks\\\":\\\"\\\",\\\"outlinewidth\\\":0}}}],\\\"pie\\\":[{\\\"type\\\":\\\"pie\\\",\\\"automargin\\\":true}],\\\"choropleth\\\":[{\\\"colorbar\\\":{\\\"ticks\\\":\\\"\\\",\\\"outlinewidth\\\":0},\\\"type\\\":\\\"choropleth\\\"}],\\\"heatmapgl\\\":[{\\\"colorbar\\\":{\\\"ticks\\\":\\\"\\\",\\\"outlinewidth\\\":0},\\\"type\\\":\\\"heatmapgl\\\",\\\"colorscale\\\":[[0.0,\\\"#0d0887\\\"],[0.1111111111111111,\\\"#46039f\\\"],[0.2222222222222222,\\\"#7201a8\\\"],[0.3333333333333333,\\\"#9c179e\\\"],[0.4444444444444444,\\\"#bd3786\\\"],[0.5555555555555556,\\\"#d8576b\\\"],[0.6666666666666666,\\\"#ed7953\\\"],[0.7777777777777778,\\\"#fb9f3a\\\"],[0.8888888888888888,\\\"#fdca26\\\"],[1.0,\\\"#f0f921\\\"]]}],\\\"bar\\\":[{\\\"type\\\":\\\"bar\\\",\\\"error_y\\\":{\\\"color\\\":\\\"#2a3f5f\\\"},\\\"error_x\\\":{\\\"color\\\":\\\"#2a3f5f\\\"},\\\"marker\\\":{\\\"line\\\":{\\\"color\\\":\\\"#E5ECF6\\\",\\\"width\\\":0.5}}}],\\\"heatmap\\\":[{\\\"colorbar\\\":{\\\"ticks\\\":\\\"\\\",\\\"outlinewidth\\\":0},\\\"type\\\":\\\"heatmap\\\",\\\"colorscale\\\":[[0.0,\\\"#0d0887\\\"],[0.1111111111111111,\\\"#46039f\\\"],[0.2222222222222222,\\\"#7201a8\\\"],[0.3333333333333333,\\\"#9c179e\\\"],[0.4444444444444444,\\\"#bd3786\\\"],[0.5555555555555556,\\\"#d8576b\\\"],[0.6666666666666666,\\\"#ed7953\\\"],[0.7777777777777778,\\\"#fb9f3a\\\"],[0.8888888888888888,\\\"#fdca26\\\"],[1.0,\\\"#f0f921\\\"]]}],\\\"contourcarpet\\\":[{\\\"colorbar\\\":{\\\"ticks\\\":\\\"\\\",\\\"outlinewidth\\\":0},\\\"type\\\":\\\"contourcarpet\\\"}],\\\"table\\\":[{\\\"type\\\":\\\"table\\\",\\\"header\\\":{\\\"line\\\":{\\\"color\\\":\\\"white\\\"},\\\"fill\\\":{\\\"color\\\":\\\"#C8D4E3\\\"}},\\\"cells\\\":{\\\"line\\\":{\\\"color\\\":\\\"white\\\"},\\\"fill\\\":{\\\"color\\\":\\\"#EBF0F8\\\"}}}],\\\"scatter3d\\\":[{\\\"line\\\":{\\\"colorbar\\\":{\\\"ticks\\\":\\\"\\\",\\\"outlinewidth\\\":0}},\\\"type\\\":\\\"scatter3d\\\",\\\"marker\\\":{\\\"colorbar\\\":{\\\"ticks\\\":\\\"\\\",\\\"outlinewidth\\\":0}}}],\\\"scattergl\\\":[{\\\"type\\\":\\\"scattergl\\\",\\\"marker\\\":{\\\"colorbar\\\":{\\\"ticks\\\":\\\"\\\",\\\"outlinewidth\\\":0}}}],\\\"histogram2d\\\":[{\\\"colorbar\\\":{\\\"ticks\\\":\\\"\\\",\\\"outlinewidth\\\":0},\\\"type\\\":\\\"histogram2d\\\",\\\"colorscale\\\":[[0.0,\\\"#0d0887\\\"],[0.1111111111111111,\\\"#46039f\\\"],[0.2222222222222222,\\\"#7201a8\\\"],[0.3333333333333333,\\\"#9c179e\\\"],[0.4444444444444444,\\\"#bd3786\\\"],[0.5555555555555556,\\\"#d8576b\\\"],[0.6666666666666666,\\\"#ed7953\\\"],[0.7777777777777778,\\\"#fb9f3a\\\"],[0.8888888888888888,\\\"#fdca26\\\"],[1.0,\\\"#f0f921\\\"]]}],\\\"scatterternary\\\":[{\\\"type\\\":\\\"scatterternary\\\",\\\"marker\\\":{\\\"colorbar\\\":{\\\"ticks\\\":\\\"\\\",\\\"outlinewidth\\\":0}}}],\\\"scatterpolargl\\\":[{\\\"type\\\":\\\"scatterpolargl\\\",\\\"marker\\\":{\\\"colorbar\\\":{\\\"ticks\\\":\\\"\\\",\\\"outlinewidth\\\":0}}}]}},\\\"annotations\\\":[],\\\"margin\\\":{\\\"l\\\":50,\\\"b\\\":50,\\\"r\\\":50,\\\"t\\\":60},\\\"yaxis\\\":{\\\"domain\\\":[0.0,1.0],\\\"anchor\\\":\\\"x\\\"}},{\\\"showLink\\\":false,\\\"editable\\\":false,\\\"responsive\\\":true,\\\"staticPlot\\\":false,\\\"scrollZoom\\\":true}); gd.on(\\\"plotly_hover\\\",(function (data){var filtered_data=WebIO.PlotlyCommands.filterEventData(gd,data,\\\"hover\\\"); return !(filtered_data.isnil) ? (WebIO.setval({\\\"name\\\":\\\"hover\\\",\\\"scope\\\":\\\"13481942917942204209\\\",\\\"id\\\":\\\"1\\\",\\\"type\\\":\\\"observable\\\"},filtered_data.out)) : undefined})); gd.on(\\\"plotly_unhover\\\",(function (){return WebIO.setval({\\\"name\\\":\\\"hover\\\",\\\"scope\\\":\\\"13481942917942204209\\\",\\\"id\\\":\\\"1\\\",\\\"type\\\":\\\"observable\\\"},{})})); gd.on(\\\"plotly_selected\\\",(function (data){var filtered_data=WebIO.PlotlyCommands.filterEventData(gd,data,\\\"selected\\\"); return !(filtered_data.isnil) ? (WebIO.setval({\\\"name\\\":\\\"selected\\\",\\\"scope\\\":\\\"13481942917942204209\\\",\\\"id\\\":\\\"2\\\",\\\"type\\\":\\\"observable\\\"},filtered_data.out)) : undefined})); gd.on(\\\"plotly_deselect\\\",(function (){return WebIO.setval({\\\"name\\\":\\\"selected\\\",\\\"scope\\\":\\\"13481942917942204209\\\",\\\"id\\\":\\\"2\\\",\\\"type\\\":\\\"observable\\\"},{})})); gd.on(\\\"plotly_relayout\\\",(function (data){var filtered_data=WebIO.PlotlyCommands.filterEventData(gd,data,\\\"relayout\\\"); return !(filtered_data.isnil) ? (WebIO.setval({\\\"name\\\":\\\"relayout\\\",\\\"scope\\\":\\\"13481942917942204209\\\",\\\"id\\\":\\\"4\\\",\\\"type\\\":\\\"observable\\\"},filtered_data.out)) : undefined})); return gd.on(\\\"plotly_click\\\",(function (data){var filtered_data=WebIO.PlotlyCommands.filterEventData(gd,data,\\\"click\\\"); return !(filtered_data.isnil) ? (WebIO.setval({\\\"name\\\":\\\"click\\\",\\\"scope\\\":\\\"13481942917942204209\\\",\\\"id\\\":\\\"3\\\",\\\"type\\\":\\\"observable\\\"},filtered_data.out)) : undefined}))}));\\n    (WebIO.importBlock({\\\"data\\\":[{\\\"name\\\":\\\"Plotly\\\",\\\"type\\\":\\\"js\\\",\\\"url\\\":\\\"\\/assetserver\\/0bb828e2cc8f47d707334bab03c3d769fdb029bc-plotly.min.js\\\"},{\\\"name\\\":null,\\\"type\\\":\\\"js\\\",\\\"url\\\":\\\"\\/assetserver\\/2e0a92c28737fafad38dac141ae8bd9262316c10-plotly_webio.bundle.js\\\"}],\\\"type\\\":\\\"async_block\\\"})).then((imports) => handler.apply(this, imports));\\n}\\n\"],\"observables\":{\"_toImage\":{\"sync\":false,\"id\":\"8\",\"value\":{}},\"hover\":{\"sync\":false,\"id\":\"1\",\"value\":{}},\"selected\":{\"sync\":false,\"id\":\"2\",\"value\":{}},\"__gd_contents\":{\"sync\":false,\"id\":\"6\",\"value\":{}},\"click\":{\"sync\":false,\"id\":\"3\",\"value\":{}},\"image\":{\"sync\":true,\"id\":\"5\",\"value\":\"\"},\"__get_gd_contents\":{\"sync\":false,\"id\":\"10\",\"value\":\"\"},\"_downloadImage\":{\"sync\":false,\"id\":\"9\",\"value\":{}},\"relayout\":{\"sync\":false,\"id\":\"4\",\"value\":{}},\"_commands\":{\"sync\":false,\"id\":\"7\",\"value\":[\"react\",[{\"mode\":\"lines\",\"xaxis\":\"x\",\"y\":[22.05313691600778,22.072865969559242,22.408259893319578,23.29212152601045,25.59647506673169,28.686029999999995,30.0,29.1477,27.58911,26.563198727259206,25.80165,25.21767,24.7797,24.51138,24.325923969586437,24.578459999999996,26.219913189622652,28.607129999999998,28.488750000000003,27.82191240176487,26.847299999999997,24.909903976856608,23.173747201051082,22.210969350503788,22.05313691600778,22.072865969559242,22.408259893319578,23.29212152601045,25.59647506673169,28.686029999999995,30.0,29.1477,27.58911,26.563198727259206,25.80165,25.21767,24.7797,24.51138,24.325923969586437,24.578459999999996,26.219913189622652,28.607129999999998,28.488750000000003,27.82191240176487,26.847299999999997,24.909903976856608,23.173747201051082,22.210969350503788,22.05313691600778,22.072865969559242,22.408259893319578,23.29212152601045,25.59647506673169,28.686029999999995,30.0,29.1477,27.58911,26.563198727259206,25.80165,25.21767,24.7797,24.51138,24.325923969586437,24.578459999999996,26.219913189622652,28.607129999999998,28.488750000000003,27.82191240176487,26.847299999999997,24.909903976856608,23.173747201051082,22.210969350503788,22.05313691600778,22.072865969559242,22.408259893319578,23.29212152601045,25.59647506673169,28.686029999999995,30.0,29.1477,27.58911,26.563198727259206,25.80165,25.21767,24.7797,24.51138,24.325923969586437,24.578459999999996,26.219913189622652,28.607129999999998,28.488750000000003,27.82191240176487,26.847299999999997,24.909903976856608,23.173747201051082,22.210969350503788,22.05313691600778,22.072865969559242,22.408259893319578,23.29212152601045,25.59647506673169,28.686029999999995,30.0,29.1477,27.58911,26.563198727259206,25.80165,25.21767,24.7797,24.51138,24.325923969586437,24.578459999999996,26.219913189622652,28.607129999999998,28.488750000000003,27.82191240176487,26.847299999999997,24.909903976856608,23.173747201051082,22.210969350503788,22.05313691600778,22.072865969559242,22.408259893319578,23.29212152601045,25.59647506673169,28.686029999999995,30.0,29.1477,27.58911,26.563198727259206,25.80165,25.21767,24.7797,24.51138,24.325923969586437,24.578459999999996,26.219913189622652,28.607129999999998,28.488750000000003,27.82191240176487,26.847299999999997,24.909903976856608,23.173747201051082,22.210969350503788,22.05313691600778,22.072865969559242,22.408259893319578,23.29212152601045,25.59647506673169,28.686029999999995,30.0,29.1477,27.58911,26.563198727259206,25.80165,25.21767,24.7797,24.51138,24.325923969586437,24.578459999999996,26.219913189622652,28.607129999999998,28.488750000000003,27.82191240176487,26.847299999999997,24.909903976856608,23.173747201051082,22.210969350503788],\"type\":\"scatter\",\"name\":\"load\",\"yaxis\":\"y\",\"x\":[\"2020-01-01T00:00:00\",\"2020-01-01T01:00:00\",\"2020-01-01T02:00:00\",\"2020-01-01T03:00:00\",\"2020-01-01T04:00:00\",\"2020-01-01T05:00:00\",\"2020-01-01T06:00:00\",\"2020-01-01T07:00:00\",\"2020-01-01T08:00:00\",\"2020-01-01T09:00:00\",\"2020-01-01T10:00:00\",\"2020-01-01T11:00:00\",\"2020-01-01T12:00:00\",\"2020-01-01T13:00:00\",\"2020-01-01T14:00:00\",\"2020-01-01T15:00:00\",\"2020-01-01T16:00:00\",\"2020-01-01T17:00:00\",\"2020-01-01T18:00:00\",\"2020-01-01T19:00:00\",\"2020-01-01T20:00:00\",\"2020-01-01T21:00:00\",\"2020-01-01T22:00:00\",\"2020-01-01T23:00:00\",\"2020-01-02T00:00:00\",\"2020-01-02T01:00:00\",\"2020-01-02T02:00:00\",\"2020-01-02T03:00:00\",\"2020-01-02T04:00:00\",\"2020-01-02T05:00:00\",\"2020-01-02T06:00:00\",\"2020-01-02T07:00:00\",\"2020-01-02T08:00:00\",\"2020-01-02T09:00:00\",\"2020-01-02T10:00:00\",\"2020-01-02T11:00:00\",\"2020-01-02T12:00:00\",\"2020-01-02T13:00:00\",\"2020-01-02T14:00:00\",\"2020-01-02T15:00:00\",\"2020-01-02T16:00:00\",\"2020-01-02T17:00:00\",\"2020-01-02T18:00:00\",\"2020-01-02T19:00:00\",\"2020-01-02T20:00:00\",\"2020-01-02T21:00:00\",\"2020-01-02T22:00:00\",\"2020-01-02T23:00:00\",\"2020-01-03T00:00:00\",\"2020-01-03T01:00:00\",\"2020-01-03T02:00:00\",\"2020-01-03T03:00:00\",\"2020-01-03T04:00:00\",\"2020-01-03T05:00:00\",\"2020-01-03T06:00:00\",\"2020-01-03T07:00:00\",\"2020-01-03T08:00:00\",\"2020-01-03T09:00:00\",\"2020-01-03T10:00:00\",\"2020-01-03T11:00:00\",\"2020-01-03T12:00:00\",\"2020-01-03T13:00:00\",\"2020-01-03T14:00:00\",\"2020-01-03T15:00:00\",\"2020-01-03T16:00:00\",\"2020-01-03T17:00:00\",\"2020-01-03T18:00:00\",\"2020-01-03T19:00:00\",\"2020-01-03T20:00:00\",\"2020-01-03T21:00:00\",\"2020-01-03T22:00:00\",\"2020-01-03T23:00:00\",\"2020-01-04T00:00:00\",\"2020-01-04T01:00:00\",\"2020-01-04T02:00:00\",\"2020-01-04T03:00:00\",\"2020-01-04T04:00:00\",\"2020-01-04T05:00:00\",\"2020-01-04T06:00:00\",\"2020-01-04T07:00:00\",\"2020-01-04T08:00:00\",\"2020-01-04T09:00:00\",\"2020-01-04T10:00:00\",\"2020-01-04T11:00:00\",\"2020-01-04T12:00:00\",\"2020-01-04T13:00:00\",\"2020-01-04T14:00:00\",\"2020-01-04T15:00:00\",\"2020-01-04T16:00:00\",\"2020-01-04T17:00:00\",\"2020-01-04T18:00:00\",\"2020-01-04T19:00:00\",\"2020-01-04T20:00:00\",\"2020-01-04T21:00:00\",\"2020-01-04T22:00:00\",\"2020-01-04T23:00:00\",\"2020-01-05T00:00:00\",\"2020-01-05T01:00:00\",\"2020-01-05T02:00:00\",\"2020-01-05T03:00:00\",\"2020-01-05T04:00:00\",\"2020-01-05T05:00:00\",\"2020-01-05T06:00:00\",\"2020-01-05T07:00:00\",\"2020-01-05T08:00:00\",\"2020-01-05T09:00:00\",\"2020-01-05T10:00:00\",\"2020-01-05T11:00:00\",\"2020-01-05T12:00:00\",\"2020-01-05T13:00:00\",\"2020-01-05T14:00:00\",\"2020-01-05T15:00:00\",\"2020-01-05T16:00:00\",\"2020-01-05T17:00:00\",\"2020-01-05T18:00:00\",\"2020-01-05T19:00:00\",\"2020-01-05T20:00:00\",\"2020-01-05T21:00:00\",\"2020-01-05T22:00:00\",\"2020-01-05T23:00:00\",\"2020-01-06T00:00:00\",\"2020-01-06T01:00:00\",\"2020-01-06T02:00:00\",\"2020-01-06T03:00:00\",\"2020-01-06T04:00:00\",\"2020-01-06T05:00:00\",\"2020-01-06T06:00:00\",\"2020-01-06T07:00:00\",\"2020-01-06T08:00:00\",\"2020-01-06T09:00:00\",\"2020-01-06T10:00:00\",\"2020-01-06T11:00:00\",\"2020-01-06T12:00:00\",\"2020-01-06T13:00:00\",\"2020-01-06T14:00:00\",\"2020-01-06T15:00:00\",\"2020-01-06T16:00:00\",\"2020-01-06T17:00:00\",\"2020-01-06T18:00:00\",\"2020-01-06T19:00:00\",\"2020-01-06T20:00:00\",\"2020-01-06T21:00:00\",\"2020-01-06T22:00:00\",\"2020-01-06T23:00:00\",\"2020-01-07T00:00:00\",\"2020-01-07T01:00:00\",\"2020-01-07T02:00:00\",\"2020-01-07T03:00:00\",\"2020-01-07T04:00:00\",\"2020-01-07T05:00:00\",\"2020-01-07T06:00:00\",\"2020-01-07T07:00:00\",\"2020-01-07T08:00:00\",\"2020-01-07T09:00:00\",\"2020-01-07T10:00:00\",\"2020-01-07T11:00:00\",\"2020-01-07T12:00:00\",\"2020-01-07T13:00:00\",\"2020-01-07T14:00:00\",\"2020-01-07T15:00:00\",\"2020-01-07T16:00:00\",\"2020-01-07T17:00:00\",\"2020-01-07T18:00:00\",\"2020-01-07T19:00:00\",\"2020-01-07T20:00:00\",\"2020-01-07T21:00:00\",\"2020-01-07T22:00:00\",\"2020-01-07T23:00:00\"]},{\"mode\":\"lines\",\"xaxis\":\"x\",\"y\":[23.233649297461145,24.07286596955924,20.40825989331958,25.29212152601045,26.41596268527832,22.548200381149602,20.43269161798248,20.429948408104003,21.54474557679,18.7074031157096,13.75831679530248,11.288120443583601,12.545841842888402,13.5097931958908,16.815238957221602,16.821405225968398,16.244695857551484,16.6424359396444,17.683890077483042,16.45236398953596,14.162735529505479,15.776501910769403,14.668562382684042,14.9427835057188,22.05313691600778,24.07286596955924,21.588772274772946,25.29212152601045,26.41596268527832,22.548200381149602,20.43269161798248,20.429948408104003,21.54474557679,18.7074031157096,13.75831679530248,11.288120443583601,12.545841842888402,13.5097931958908,16.815238957221602,16.821405225968398,16.244695857551484,16.6424359396444,17.683890077483042,16.45236398953596,14.162735529505479,15.776501910769403,14.668562382684042,14.9427835057188,24.053136916007777,20.072865969559242,24.408259893319578,24.472633907463816,26.41596268527832,22.548200381149602,20.43269161798248,20.429948408104003,21.54474557679,18.7074031157096,13.75831679530248,11.288120443583601,12.545841842888402,13.5097931958908,16.815238957221602,16.821405225968398,16.244695857551484,16.6424359396444,17.683890077483042,16.45236398953596,14.162735529505479,15.776501910769403,14.668562382684042,14.9427835057188,24.053136916007777,23.253378351012607,20.40825989331958,25.29212152601045,26.41596268527832,22.548200381149602,20.43269161798248,20.429948408104003,21.54474557679,18.7074031157096,13.75831679530248,11.288120443583601,12.545841842888402,13.5097931958908,16.815238957221602,16.821405225968398,16.244695857551484,16.6424359396444,17.683890077483042,16.45236398953596,14.162735529505479,15.776501910769403,14.668562382684042,14.9427835057188,22.05313691600778,24.07286596955924,24.408259893319578,22.47263390746382,26.41596268527832,22.548200381149602,20.43269161798248,20.429948408104003,21.54474557679,18.7074031157096,13.75831679530248,11.288120443583601,12.545841842888402,13.5097931958908,16.815238957221602,16.821405225968398,16.244695857551484,16.6424359396444,17.683890077483042,16.45236398953596,14.162735529505479,15.776501910769403,14.668562382684042,14.9427835057188,22.05313691600778,24.07286596955924,24.408259893319578,22.47263390746382,26.41596268527832,22.548200381149602,20.43269161798248,20.429948408104003,21.54474557679,18.7074031157096,13.75831679530248,11.288120443583601,12.545841842888402,13.5097931958908,16.815238957221602,16.821405225968398,16.244695857551484,16.6424359396444,17.683890077483042,16.45236398953596,14.162735529505479,15.776501910769403,14.668562382684042,14.9427835057188,24.053136916007777,24.07286596955924,22.408259893319578,22.47263390746382,26.41596268527832,22.548200381149602,20.43269161798248,20.429948408104003,21.54474557679,18.7074031157096,13.75831679530248,11.288120443583601,12.545841842888402,13.5097931958908,16.815238957221602,16.821405225968398,16.244695857551484,16.6424359396444,17.683890077483042,16.45236398953596,14.162735529505479,15.776501910769403,14.668562382684042,14.9427835057188],\"type\":\"scatter\",\"name\":\"wind\",\"yaxis\":\"y\",\"x\":[\"2020-01-01T00:00:00\",\"2020-01-01T01:00:00\",\"2020-01-01T02:00:00\",\"2020-01-01T03:00:00\",\"2020-01-01T04:00:00\",\"2020-01-01T05:00:00\",\"2020-01-01T06:00:00\",\"2020-01-01T07:00:00\",\"2020-01-01T08:00:00\",\"2020-01-01T09:00:00\",\"2020-01-01T10:00:00\",\"2020-01-01T11:00:00\",\"2020-01-01T12:00:00\",\"2020-01-01T13:00:00\",\"2020-01-01T14:00:00\",\"2020-01-01T15:00:00\",\"2020-01-01T16:00:00\",\"2020-01-01T17:00:00\",\"2020-01-01T18:00:00\",\"2020-01-01T19:00:00\",\"2020-01-01T20:00:00\",\"2020-01-01T21:00:00\",\"2020-01-01T22:00:00\",\"2020-01-01T23:00:00\",\"2020-01-02T00:00:00\",\"2020-01-02T01:00:00\",\"2020-01-02T02:00:00\",\"2020-01-02T03:00:00\",\"2020-01-02T04:00:00\",\"2020-01-02T05:00:00\",\"2020-01-02T06:00:00\",\"2020-01-02T07:00:00\",\"2020-01-02T08:00:00\",\"2020-01-02T09:00:00\",\"2020-01-02T10:00:00\",\"2020-01-02T11:00:00\",\"2020-01-02T12:00:00\",\"2020-01-02T13:00:00\",\"2020-01-02T14:00:00\",\"2020-01-02T15:00:00\",\"2020-01-02T16:00:00\",\"2020-01-02T17:00:00\",\"2020-01-02T18:00:00\",\"2020-01-02T19:00:00\",\"2020-01-02T20:00:00\",\"2020-01-02T21:00:00\",\"2020-01-02T22:00:00\",\"2020-01-02T23:00:00\",\"2020-01-03T00:00:00\",\"2020-01-03T01:00:00\",\"2020-01-03T02:00:00\",\"2020-01-03T03:00:00\",\"2020-01-03T04:00:00\",\"2020-01-03T05:00:00\",\"2020-01-03T06:00:00\",\"2020-01-03T07:00:00\",\"2020-01-03T08:00:00\",\"2020-01-03T09:00:00\",\"2020-01-03T10:00:00\",\"2020-01-03T11:00:00\",\"2020-01-03T12:00:00\",\"2020-01-03T13:00:00\",\"2020-01-03T14:00:00\",\"2020-01-03T15:00:00\",\"2020-01-03T16:00:00\",\"2020-01-03T17:00:00\",\"2020-01-03T18:00:00\",\"2020-01-03T19:00:00\",\"2020-01-03T20:00:00\",\"2020-01-03T21:00:00\",\"2020-01-03T22:00:00\",\"2020-01-03T23:00:00\",\"2020-01-04T00:00:00\",\"2020-01-04T01:00:00\",\"2020-01-04T02:00:00\",\"2020-01-04T03:00:00\",\"2020-01-04T04:00:00\",\"2020-01-04T05:00:00\",\"2020-01-04T06:00:00\",\"2020-01-04T07:00:00\",\"2020-01-04T08:00:00\",\"2020-01-04T09:00:00\",\"2020-01-04T10:00:00\",\"2020-01-04T11:00:00\",\"2020-01-04T12:00:00\",\"2020-01-04T13:00:00\",\"2020-01-04T14:00:00\",\"2020-01-04T15:00:00\",\"2020-01-04T16:00:00\",\"2020-01-04T17:00:00\",\"2020-01-04T18:00:00\",\"2020-01-04T19:00:00\",\"2020-01-04T20:00:00\",\"2020-01-04T21:00:00\",\"2020-01-04T22:00:00\",\"2020-01-04T23:00:00\",\"2020-01-05T00:00:00\",\"2020-01-05T01:00:00\",\"2020-01-05T02:00:00\",\"2020-01-05T03:00:00\",\"2020-01-05T04:00:00\",\"2020-01-05T05:00:00\",\"2020-01-05T06:00:00\",\"2020-01-05T07:00:00\",\"2020-01-05T08:00:00\",\"2020-01-05T09:00:00\",\"2020-01-05T10:00:00\",\"2020-01-05T11:00:00\",\"2020-01-05T12:00:00\",\"2020-01-05T13:00:00\",\"2020-01-05T14:00:00\",\"2020-01-05T15:00:00\",\"2020-01-05T16:00:00\",\"2020-01-05T17:00:00\",\"2020-01-05T18:00:00\",\"2020-01-05T19:00:00\",\"2020-01-05T20:00:00\",\"2020-01-05T21:00:00\",\"2020-01-05T22:00:00\",\"2020-01-05T23:00:00\",\"2020-01-06T00:00:00\",\"2020-01-06T01:00:00\",\"2020-01-06T02:00:00\",\"2020-01-06T03:00:00\",\"2020-01-06T04:00:00\",\"2020-01-06T05:00:00\",\"2020-01-06T06:00:00\",\"2020-01-06T07:00:00\",\"2020-01-06T08:00:00\",\"2020-01-06T09:00:00\",\"2020-01-06T10:00:00\",\"2020-01-06T11:00:00\",\"2020-01-06T12:00:00\",\"2020-01-06T13:00:00\",\"2020-01-06T14:00:00\",\"2020-01-06T15:00:00\",\"2020-01-06T16:00:00\",\"2020-01-06T17:00:00\",\"2020-01-06T18:00:00\",\"2020-01-06T19:00:00\",\"2020-01-06T20:00:00\",\"2020-01-06T21:00:00\",\"2020-01-06T22:00:00\",\"2020-01-06T23:00:00\",\"2020-01-07T00:00:00\",\"2020-01-07T01:00:00\",\"2020-01-07T02:00:00\",\"2020-01-07T03:00:00\",\"2020-01-07T04:00:00\",\"2020-01-07T05:00:00\",\"2020-01-07T06:00:00\",\"2020-01-07T07:00:00\",\"2020-01-07T08:00:00\",\"2020-01-07T09:00:00\",\"2020-01-07T10:00:00\",\"2020-01-07T11:00:00\",\"2020-01-07T12:00:00\",\"2020-01-07T13:00:00\",\"2020-01-07T14:00:00\",\"2020-01-07T15:00:00\",\"2020-01-07T16:00:00\",\"2020-01-07T17:00:00\",\"2020-01-07T18:00:00\",\"2020-01-07T19:00:00\",\"2020-01-07T20:00:00\",\"2020-01-07T21:00:00\",\"2020-01-07T22:00:00\",\"2020-01-07T23:00:00\"]},{\"mode\":\"lines\",\"xaxis\":\"x\",\"y\":[1.1805123814533673,3.1805123814533673,1.1805123814533673,3.1805123814533673,4.0,4.0,2.0,-0.0,0.0,2.0,0.0,-0.0,2.0,4.0,2.0,2.0,4.0,4.0,2.0,4.0,2.0,0.0,2.0,0.0,0.0,2.0,1.1805123814533673,3.1805123814533673,4.0,2.0,2.0,-0.0,2.0,-0.0,2.0,0.0,2.0,-0.0,2.0,-0.0,2.0,4.0,2.0,4.0,2.0,0.0,0.0,0.0,2.0,-0.0,2.0,3.1805123814533673,4.0,2.0,-0.0,0.0,-0.0,2.0,4.0,2.0,-0.0,2.0,0.0,2.0,4.0,2.0,2.0,0.0,2.0,0.0,2.0,0.0,2.0,3.1805123814533673,1.1805123814533673,3.1805123814533673,4.0,2.0,2.0,0.0,1.9999999999999993,4.0,2.0,0.0,0.0,0.0,2.0,2.0,-0.0,1.9999999999999998,4.0,4.0,4.0,4.0,2.0,0.0,0.0,2.0,4.0,3.1805123814533673,4.0,2.0,4.0,2.0,-0.0,2.0,0.0,2.0,4.0,2.0,-0.0,2.0,-0.0,0.0,2.0,-0.0,2.0,4.0,2.0,0.0,-0.0,2.0,4.0,3.1805123814533673,4.0,4.0,2.0,4.0,2.0,2.0,0.0,2.0,-0.0,2.0,4.0,2.0,2.0,0.0,2.0,2.0,0.0,2.0,2.0,0.0,2.0,4.0,4.0,3.1805123814533673,4.0,2.0,4.0,4.0,2.0,-0.0,2.0,4.0,3.9999999999999996,2.0,0.0,2.0,4.0,2.0,0.0,2.0,-0.0,0.0,2.0,0.0],\"type\":\"scatter\",\"name\":\"storage\",\"yaxis\":\"y\",\"x\":[\"2020-01-01T00:00:00\",\"2020-01-01T01:00:00\",\"2020-01-01T02:00:00\",\"2020-01-01T03:00:00\",\"2020-01-01T04:00:00\",\"2020-01-01T05:00:00\",\"2020-01-01T06:00:00\",\"2020-01-01T07:00:00\",\"2020-01-01T08:00:00\",\"2020-01-01T09:00:00\",\"2020-01-01T10:00:00\",\"2020-01-01T11:00:00\",\"2020-01-01T12:00:00\",\"2020-01-01T13:00:00\",\"2020-01-01T14:00:00\",\"2020-01-01T15:00:00\",\"2020-01-01T16:00:00\",\"2020-01-01T17:00:00\",\"2020-01-01T18:00:00\",\"2020-01-01T19:00:00\",\"2020-01-01T20:00:00\",\"2020-01-01T21:00:00\",\"2020-01-01T22:00:00\",\"2020-01-01T23:00:00\",\"2020-01-02T00:00:00\",\"2020-01-02T01:00:00\",\"2020-01-02T02:00:00\",\"2020-01-02T03:00:00\",\"2020-01-02T04:00:00\",\"2020-01-02T05:00:00\",\"2020-01-02T06:00:00\",\"2020-01-02T07:00:00\",\"2020-01-02T08:00:00\",\"2020-01-02T09:00:00\",\"2020-01-02T10:00:00\",\"2020-01-02T11:00:00\",\"2020-01-02T12:00:00\",\"2020-01-02T13:00:00\",\"2020-01-02T14:00:00\",\"2020-01-02T15:00:00\",\"2020-01-02T16:00:00\",\"2020-01-02T17:00:00\",\"2020-01-02T18:00:00\",\"2020-01-02T19:00:00\",\"2020-01-02T20:00:00\",\"2020-01-02T21:00:00\",\"2020-01-02T22:00:00\",\"2020-01-02T23:00:00\",\"2020-01-03T00:00:00\",\"2020-01-03T01:00:00\",\"2020-01-03T02:00:00\",\"2020-01-03T03:00:00\",\"2020-01-03T04:00:00\",\"2020-01-03T05:00:00\",\"2020-01-03T06:00:00\",\"2020-01-03T07:00:00\",\"2020-01-03T08:00:00\",\"2020-01-03T09:00:00\",\"2020-01-03T10:00:00\",\"2020-01-03T11:00:00\",\"2020-01-03T12:00:00\",\"2020-01-03T13:00:00\",\"2020-01-03T14:00:00\",\"2020-01-03T15:00:00\",\"2020-01-03T16:00:00\",\"2020-01-03T17:00:00\",\"2020-01-03T18:00:00\",\"2020-01-03T19:00:00\",\"2020-01-03T20:00:00\",\"2020-01-03T21:00:00\",\"2020-01-03T22:00:00\",\"2020-01-03T23:00:00\",\"2020-01-04T00:00:00\",\"2020-01-04T01:00:00\",\"2020-01-04T02:00:00\",\"2020-01-04T03:00:00\",\"2020-01-04T04:00:00\",\"2020-01-04T05:00:00\",\"2020-01-04T06:00:00\",\"2020-01-04T07:00:00\",\"2020-01-04T08:00:00\",\"2020-01-04T09:00:00\",\"2020-01-04T10:00:00\",\"2020-01-04T11:00:00\",\"2020-01-04T12:00:00\",\"2020-01-04T13:00:00\",\"2020-01-04T14:00:00\",\"2020-01-04T15:00:00\",\"2020-01-04T16:00:00\",\"2020-01-04T17:00:00\",\"2020-01-04T18:00:00\",\"2020-01-04T19:00:00\",\"2020-01-04T20:00:00\",\"2020-01-04T21:00:00\",\"2020-01-04T22:00:00\",\"2020-01-04T23:00:00\",\"2020-01-05T00:00:00\",\"2020-01-05T01:00:00\",\"2020-01-05T02:00:00\",\"2020-01-05T03:00:00\",\"2020-01-05T04:00:00\",\"2020-01-05T05:00:00\",\"2020-01-05T06:00:00\",\"2020-01-05T07:00:00\",\"2020-01-05T08:00:00\",\"2020-01-05T09:00:00\",\"2020-01-05T10:00:00\",\"2020-01-05T11:00:00\",\"2020-01-05T12:00:00\",\"2020-01-05T13:00:00\",\"2020-01-05T14:00:00\",\"2020-01-05T15:00:00\",\"2020-01-05T16:00:00\",\"2020-01-05T17:00:00\",\"2020-01-05T18:00:00\",\"2020-01-05T19:00:00\",\"2020-01-05T20:00:00\",\"2020-01-05T21:00:00\",\"2020-01-05T22:00:00\",\"2020-01-05T23:00:00\",\"2020-01-06T00:00:00\",\"2020-01-06T01:00:00\",\"2020-01-06T02:00:00\",\"2020-01-06T03:00:00\",\"2020-01-06T04:00:00\",\"2020-01-06T05:00:00\",\"2020-01-06T06:00:00\",\"2020-01-06T07:00:00\",\"2020-01-06T08:00:00\",\"2020-01-06T09:00:00\",\"2020-01-06T10:00:00\",\"2020-01-06T11:00:00\",\"2020-01-06T12:00:00\",\"2020-01-06T13:00:00\",\"2020-01-06T14:00:00\",\"2020-01-06T15:00:00\",\"2020-01-06T16:00:00\",\"2020-01-06T17:00:00\",\"2020-01-06T18:00:00\",\"2020-01-06T19:00:00\",\"2020-01-06T20:00:00\",\"2020-01-06T21:00:00\",\"2020-01-06T22:00:00\",\"2020-01-06T23:00:00\",\"2020-01-07T00:00:00\",\"2020-01-07T01:00:00\",\"2020-01-07T02:00:00\",\"2020-01-07T03:00:00\",\"2020-01-07T04:00:00\",\"2020-01-07T05:00:00\",\"2020-01-07T06:00:00\",\"2020-01-07T07:00:00\",\"2020-01-07T08:00:00\",\"2020-01-07T09:00:00\",\"2020-01-07T10:00:00\",\"2020-01-07T11:00:00\",\"2020-01-07T12:00:00\",\"2020-01-07T13:00:00\",\"2020-01-07T14:00:00\",\"2020-01-07T15:00:00\",\"2020-01-07T16:00:00\",\"2020-01-07T17:00:00\",\"2020-01-07T18:00:00\",\"2020-01-07T19:00:00\",\"2020-01-07T20:00:00\",\"2020-01-07T21:00:00\",\"2020-01-07T22:00:00\",\"2020-01-07T23:00:00\"]},{\"mode\":\"lines\",\"xaxis\":\"x\",\"y\":[0.0,0.0,0.0,0.0,0.0,6.137829618850393,7.567308382017515,6.717751591895993,6.044364423209999,9.855795611549608,10.043333204697518,13.929549556416399,14.233858157111598,13.0015868041092,5.5106850123648385,7.757054774031596,11.97521733207117,11.964694060355596,8.804859922516957,13.36954841222891,10.684564470494518,7.133402066087208,10.505184818367042,5.268185844784989,0.0,0.0,0.0,0.0,0.0,4.137829618850391,9.567308382017517,6.717751591895993,8.044364423210002,5.855795611549608,14.04333320469752,11.929549556416399,14.233858157111598,9.001586804109198,9.510685012364839,5.757054774031597,11.97521733207117,13.964694060355598,8.804859922516957,13.36954841222891,10.684564470494518,7.133402066087208,8.50518481836704,7.2681858447849885,0.0,0.0,0.0,0.0,0.0,4.137829618850391,7.567308382017515,8.717751591895995,6.044364423209999,9.855795611549608,14.04333320469752,11.929549556416399,10.233858157111598,13.0015868041092,5.5106850123648385,9.757054774031598,11.97521733207117,9.964694060355594,10.80485992251696,9.369548412228907,14.684564470494518,7.133402066087208,10.505184818367042,5.268185844784989,0.0,0.0,0.0,0.0,0.0,4.137829618850391,9.567308382017517,6.717751591895993,8.044364423210002,9.855795611549608,10.043333204697518,11.929549556416399,12.233858157111596,11.001586804109198,9.510685012364839,7.757054774031596,7.975217332071169,13.964694060355598,12.804859922516961,11.369548412228909,12.684564470494516,9.133402066087207,6.505184818367041,5.268185844784989,0.0,0.0,0.0,0.0,0.0,4.137829618850391,11.567308382017519,6.717751591895993,4.044364423209998,9.855795611549608,10.043333204697518,15.9295495564164,14.233858157111598,9.001586804109198,5.5106850123648385,9.757054774031598,7.975217332071169,11.964694060355596,12.804859922516961,9.369548412228907,14.684564470494518,11.133402066087205,6.505184818367041,5.268185844784989,0.0,0.0,0.0,0.0,0.0,6.137829618850393,7.567308382017515,10.717751591895997,4.044364423209998,7.855795611549607,10.043333204697518,15.9295495564164,10.233858157111598,13.0015868041092,9.510685012364839,5.757054774031597,9.975217332071168,9.964694060355594,12.804859922516961,11.369548412228909,10.684564470494518,11.133402066087205,8.50518481836704,5.268185844784989,0.0,0.0,0.0,0.0,0.0,4.137829618850391,11.567308382017519,8.717751591895995,4.044364423209998,5.855795611549608,14.04333320469752,15.9295495564164,12.233858157111596,9.001586804109198,5.5106850123648385,9.757054774031598,11.97521733207117,9.964694060355594,8.804859922516957,13.36954841222891,10.684564470494518,9.133402066087207,10.505184818367042,5.268185844784989],\"type\":\"scatter\",\"name\":\"gas\",\"yaxis\":\"y\",\"x\":[\"2020-01-01T00:00:00\",\"2020-01-01T01:00:00\",\"2020-01-01T02:00:00\",\"2020-01-01T03:00:00\",\"2020-01-01T04:00:00\",\"2020-01-01T05:00:00\",\"2020-01-01T06:00:00\",\"2020-01-01T07:00:00\",\"2020-01-01T08:00:00\",\"2020-01-01T09:00:00\",\"2020-01-01T10:00:00\",\"2020-01-01T11:00:00\",\"2020-01-01T12:00:00\",\"2020-01-01T13:00:00\",\"2020-01-01T14:00:00\",\"2020-01-01T15:00:00\",\"2020-01-01T16:00:00\",\"2020-01-01T17:00:00\",\"2020-01-01T18:00:00\",\"2020-01-01T19:00:00\",\"2020-01-01T20:00:00\",\"2020-01-01T21:00:00\",\"2020-01-01T22:00:00\",\"2020-01-01T23:00:00\",\"2020-01-02T00:00:00\",\"2020-01-02T01:00:00\",\"2020-01-02T02:00:00\",\"2020-01-02T03:00:00\",\"2020-01-02T04:00:00\",\"2020-01-02T05:00:00\",\"2020-01-02T06:00:00\",\"2020-01-02T07:00:00\",\"2020-01-02T08:00:00\",\"2020-01-02T09:00:00\",\"2020-01-02T10:00:00\",\"2020-01-02T11:00:00\",\"2020-01-02T12:00:00\",\"2020-01-02T13:00:00\",\"2020-01-02T14:00:00\",\"2020-01-02T15:00:00\",\"2020-01-02T16:00:00\",\"2020-01-02T17:00:00\",\"2020-01-02T18:00:00\",\"2020-01-02T19:00:00\",\"2020-01-02T20:00:00\",\"2020-01-02T21:00:00\",\"2020-01-02T22:00:00\",\"2020-01-02T23:00:00\",\"2020-01-03T00:00:00\",\"2020-01-03T01:00:00\",\"2020-01-03T02:00:00\",\"2020-01-03T03:00:00\",\"2020-01-03T04:00:00\",\"2020-01-03T05:00:00\",\"2020-01-03T06:00:00\",\"2020-01-03T07:00:00\",\"2020-01-03T08:00:00\",\"2020-01-03T09:00:00\",\"2020-01-03T10:00:00\",\"2020-01-03T11:00:00\",\"2020-01-03T12:00:00\",\"2020-01-03T13:00:00\",\"2020-01-03T14:00:00\",\"2020-01-03T15:00:00\",\"2020-01-03T16:00:00\",\"2020-01-03T17:00:00\",\"2020-01-03T18:00:00\",\"2020-01-03T19:00:00\",\"2020-01-03T20:00:00\",\"2020-01-03T21:00:00\",\"2020-01-03T22:00:00\",\"2020-01-03T23:00:00\",\"2020-01-04T00:00:00\",\"2020-01-04T01:00:00\",\"2020-01-04T02:00:00\",\"2020-01-04T03:00:00\",\"2020-01-04T04:00:00\",\"2020-01-04T05:00:00\",\"2020-01-04T06:00:00\",\"2020-01-04T07:00:00\",\"2020-01-04T08:00:00\",\"2020-01-04T09:00:00\",\"2020-01-04T10:00:00\",\"2020-01-04T11:00:00\",\"2020-01-04T12:00:00\",\"2020-01-04T13:00:00\",\"2020-01-04T14:00:00\",\"2020-01-04T15:00:00\",\"2020-01-04T16:00:00\",\"2020-01-04T17:00:00\",\"2020-01-04T18:00:00\",\"2020-01-04T19:00:00\",\"2020-01-04T20:00:00\",\"2020-01-04T21:00:00\",\"2020-01-04T22:00:00\",\"2020-01-04T23:00:00\",\"2020-01-05T00:00:00\",\"2020-01-05T01:00:00\",\"2020-01-05T02:00:00\",\"2020-01-05T03:00:00\",\"2020-01-05T04:00:00\",\"2020-01-05T05:00:00\",\"2020-01-05T06:00:00\",\"2020-01-05T07:00:00\",\"2020-01-05T08:00:00\",\"2020-01-05T09:00:00\",\"2020-01-05T10:00:00\",\"2020-01-05T11:00:00\",\"2020-01-05T12:00:00\",\"2020-01-05T13:00:00\",\"2020-01-05T14:00:00\",\"2020-01-05T15:00:00\",\"2020-01-05T16:00:00\",\"2020-01-05T17:00:00\",\"2020-01-05T18:00:00\",\"2020-01-05T19:00:00\",\"2020-01-05T20:00:00\",\"2020-01-05T21:00:00\",\"2020-01-05T22:00:00\",\"2020-01-05T23:00:00\",\"2020-01-06T00:00:00\",\"2020-01-06T01:00:00\",\"2020-01-06T02:00:00\",\"2020-01-06T03:00:00\",\"2020-01-06T04:00:00\",\"2020-01-06T05:00:00\",\"2020-01-06T06:00:00\",\"2020-01-06T07:00:00\",\"2020-01-06T08:00:00\",\"2020-01-06T09:00:00\",\"2020-01-06T10:00:00\",\"2020-01-06T11:00:00\",\"2020-01-06T12:00:00\",\"2020-01-06T13:00:00\",\"2020-01-06T14:00:00\",\"2020-01-06T15:00:00\",\"2020-01-06T16:00:00\",\"2020-01-06T17:00:00\",\"2020-01-06T18:00:00\",\"2020-01-06T19:00:00\",\"2020-01-06T20:00:00\",\"2020-01-06T21:00:00\",\"2020-01-06T22:00:00\",\"2020-01-06T23:00:00\",\"2020-01-07T00:00:00\",\"2020-01-07T01:00:00\",\"2020-01-07T02:00:00\",\"2020-01-07T03:00:00\",\"2020-01-07T04:00:00\",\"2020-01-07T05:00:00\",\"2020-01-07T06:00:00\",\"2020-01-07T07:00:00\",\"2020-01-07T08:00:00\",\"2020-01-07T09:00:00\",\"2020-01-07T10:00:00\",\"2020-01-07T11:00:00\",\"2020-01-07T12:00:00\",\"2020-01-07T13:00:00\",\"2020-01-07T14:00:00\",\"2020-01-07T15:00:00\",\"2020-01-07T16:00:00\",\"2020-01-07T17:00:00\",\"2020-01-07T18:00:00\",\"2020-01-07T19:00:00\",\"2020-01-07T20:00:00\",\"2020-01-07T21:00:00\",\"2020-01-07T22:00:00\",\"2020-01-07T23:00:00\"]}],{\"xaxis\":{\"domain\":[0.0,1.0],\"anchor\":\"y\"},\"template\":{\"layout\":{\"coloraxis\":{\"colorbar\":{\"ticks\":\"\",\"outlinewidth\":0}},\"xaxis\":{\"gridcolor\":\"white\",\"zerolinewidth\":2,\"title\":{\"standoff\":15},\"ticks\":\"\",\"zerolinecolor\":\"white\",\"automargin\":true,\"linecolor\":\"white\"},\"hovermode\":\"closest\",\"paper_bgcolor\":\"white\",\"geo\":{\"showlakes\":true,\"showland\":true,\"landcolor\":\"#E5ECF6\",\"bgcolor\":\"white\",\"subunitcolor\":\"white\",\"lakecolor\":\"white\"},\"colorscale\":{\"sequential\":[[0.0,\"#0d0887\"],[0.1111111111111111,\"#46039f\"],[0.2222222222222222,\"#7201a8\"],[0.3333333333333333,\"#9c179e\"],[0.4444444444444444,\"#bd3786\"],[0.5555555555555556,\"#d8576b\"],[0.6666666666666666,\"#ed7953\"],[0.7777777777777778,\"#fb9f3a\"],[0.8888888888888888,\"#fdca26\"],[1.0,\"#f0f921\"]],\"diverging\":[[0,\"#8e0152\"],[0.1,\"#c51b7d\"],[0.2,\"#de77ae\"],[0.3,\"#f1b6da\"],[0.4,\"#fde0ef\"],[0.5,\"#f7f7f7\"],[0.6,\"#e6f5d0\"],[0.7,\"#b8e186\"],[0.8,\"#7fbc41\"],[0.9,\"#4d9221\"],[1,\"#276419\"]],\"sequentialminus\":[[0.0,\"#0d0887\"],[0.1111111111111111,\"#46039f\"],[0.2222222222222222,\"#7201a8\"],[0.3333333333333333,\"#9c179e\"],[0.4444444444444444,\"#bd3786\"],[0.5555555555555556,\"#d8576b\"],[0.6666666666666666,\"#ed7953\"],[0.7777777777777778,\"#fb9f3a\"],[0.8888888888888888,\"#fdca26\"],[1.0,\"#f0f921\"]]},\"yaxis\":{\"gridcolor\":\"white\",\"zerolinewidth\":2,\"title\":{\"standoff\":15},\"ticks\":\"\",\"zerolinecolor\":\"white\",\"automargin\":true,\"linecolor\":\"white\"},\"shapedefaults\":{\"line\":{\"color\":\"#2a3f5f\"}},\"hoverlabel\":{\"align\":\"left\"},\"mapbox\":{\"style\":\"light\"},\"polar\":{\"angularaxis\":{\"gridcolor\":\"white\",\"ticks\":\"\",\"linecolor\":\"white\"},\"bgcolor\":\"#E5ECF6\",\"radialaxis\":{\"gridcolor\":\"white\",\"ticks\":\"\",\"linecolor\":\"white\"}},\"autotypenumbers\":\"strict\",\"font\":{\"color\":\"#2a3f5f\"},\"ternary\":{\"baxis\":{\"gridcolor\":\"white\",\"ticks\":\"\",\"linecolor\":\"white\"},\"bgcolor\":\"#E5ECF6\",\"caxis\":{\"gridcolor\":\"white\",\"ticks\":\"\",\"linecolor\":\"white\"},\"aaxis\":{\"gridcolor\":\"white\",\"ticks\":\"\",\"linecolor\":\"white\"}},\"annotationdefaults\":{\"arrowhead\":0,\"arrowwidth\":1,\"arrowcolor\":\"#2a3f5f\"},\"plot_bgcolor\":\"#E5ECF6\",\"title\":{\"x\":0.05},\"scene\":{\"xaxis\":{\"gridcolor\":\"white\",\"gridwidth\":2,\"backgroundcolor\":\"#E5ECF6\",\"ticks\":\"\",\"showbackground\":true,\"zerolinecolor\":\"white\",\"linecolor\":\"white\"},\"zaxis\":{\"gridcolor\":\"white\",\"gridwidth\":2,\"backgroundcolor\":\"#E5ECF6\",\"ticks\":\"\",\"showbackground\":true,\"zerolinecolor\":\"white\",\"linecolor\":\"white\"},\"yaxis\":{\"gridcolor\":\"white\",\"gridwidth\":2,\"backgroundcolor\":\"#E5ECF6\",\"ticks\":\"\",\"showbackground\":true,\"zerolinecolor\":\"white\",\"linecolor\":\"white\"}},\"colorway\":[\"#636efa\",\"#EF553B\",\"#00cc96\",\"#ab63fa\",\"#FFA15A\",\"#19d3f3\",\"#FF6692\",\"#B6E880\",\"#FF97FF\",\"#FECB52\"]},\"data\":{\"barpolar\":[{\"type\":\"barpolar\",\"marker\":{\"line\":{\"color\":\"#E5ECF6\",\"width\":0.5}}}],\"carpet\":[{\"aaxis\":{\"gridcolor\":\"white\",\"endlinecolor\":\"#2a3f5f\",\"minorgridcolor\":\"white\",\"startlinecolor\":\"#2a3f5f\",\"linecolor\":\"white\"},\"type\":\"carpet\",\"baxis\":{\"gridcolor\":\"white\",\"endlinecolor\":\"#2a3f5f\",\"minorgridcolor\":\"white\",\"startlinecolor\":\"#2a3f5f\",\"linecolor\":\"white\"}}],\"scatterpolar\":[{\"type\":\"scatterpolar\",\"marker\":{\"colorbar\":{\"ticks\":\"\",\"outlinewidth\":0}}}],\"parcoords\":[{\"line\":{\"colorbar\":{\"ticks\":\"\",\"outlinewidth\":0}},\"type\":\"parcoords\"}],\"scatter\":[{\"type\":\"scatter\",\"marker\":{\"colorbar\":{\"ticks\":\"\",\"outlinewidth\":0}}}],\"histogram2dcontour\":[{\"colorbar\":{\"ticks\":\"\",\"outlinewidth\":0},\"type\":\"histogram2dcontour\",\"colorscale\":[[0.0,\"#0d0887\"],[0.1111111111111111,\"#46039f\"],[0.2222222222222222,\"#7201a8\"],[0.3333333333333333,\"#9c179e\"],[0.4444444444444444,\"#bd3786\"],[0.5555555555555556,\"#d8576b\"],[0.6666666666666666,\"#ed7953\"],[0.7777777777777778,\"#fb9f3a\"],[0.8888888888888888,\"#fdca26\"],[1.0,\"#f0f921\"]]}],\"contour\":[{\"colorbar\":{\"ticks\":\"\",\"outlinewidth\":0},\"type\":\"contour\",\"colorscale\":[[0.0,\"#0d0887\"],[0.1111111111111111,\"#46039f\"],[0.2222222222222222,\"#7201a8\"],[0.3333333333333333,\"#9c179e\"],[0.4444444444444444,\"#bd3786\"],[0.5555555555555556,\"#d8576b\"],[0.6666666666666666,\"#ed7953\"],[0.7777777777777778,\"#fb9f3a\"],[0.8888888888888888,\"#fdca26\"],[1.0,\"#f0f921\"]]}],\"scattercarpet\":[{\"type\":\"scattercarpet\",\"marker\":{\"colorbar\":{\"ticks\":\"\",\"outlinewidth\":0}}}],\"mesh3d\":[{\"colorbar\":{\"ticks\":\"\",\"outlinewidth\":0},\"type\":\"mesh3d\"}],\"surface\":[{\"colorbar\":{\"ticks\":\"\",\"outlinewidth\":0},\"type\":\"surface\",\"colorscale\":[[0.0,\"#0d0887\"],[0.1111111111111111,\"#46039f\"],[0.2222222222222222,\"#7201a8\"],[0.3333333333333333,\"#9c179e\"],[0.4444444444444444,\"#bd3786\"],[0.5555555555555556,\"#d8576b\"],[0.6666666666666666,\"#ed7953\"],[0.7777777777777778,\"#fb9f3a\"],[0.8888888888888888,\"#fdca26\"],[1.0,\"#f0f921\"]]}],\"scattermapbox\":[{\"type\":\"scattermapbox\",\"marker\":{\"colorbar\":{\"ticks\":\"\",\"outlinewidth\":0}}}],\"scattergeo\":[{\"type\":\"scattergeo\",\"marker\":{\"colorbar\":{\"ticks\":\"\",\"outlinewidth\":0}}}],\"histogram\":[{\"type\":\"histogram\",\"marker\":{\"colorbar\":{\"ticks\":\"\",\"outlinewidth\":0}}}],\"pie\":[{\"type\":\"pie\",\"automargin\":true}],\"choropleth\":[{\"colorbar\":{\"ticks\":\"\",\"outlinewidth\":0},\"type\":\"choropleth\"}],\"heatmapgl\":[{\"colorbar\":{\"ticks\":\"\",\"outlinewidth\":0},\"type\":\"heatmapgl\",\"colorscale\":[[0.0,\"#0d0887\"],[0.1111111111111111,\"#46039f\"],[0.2222222222222222,\"#7201a8\"],[0.3333333333333333,\"#9c179e\"],[0.4444444444444444,\"#bd3786\"],[0.5555555555555556,\"#d8576b\"],[0.6666666666666666,\"#ed7953\"],[0.7777777777777778,\"#fb9f3a\"],[0.8888888888888888,\"#fdca26\"],[1.0,\"#f0f921\"]]}],\"bar\":[{\"type\":\"bar\",\"error_y\":{\"color\":\"#2a3f5f\"},\"error_x\":{\"color\":\"#2a3f5f\"},\"marker\":{\"line\":{\"color\":\"#E5ECF6\",\"width\":0.5}}}],\"heatmap\":[{\"colorbar\":{\"ticks\":\"\",\"outlinewidth\":0},\"type\":\"heatmap\",\"colorscale\":[[0.0,\"#0d0887\"],[0.1111111111111111,\"#46039f\"],[0.2222222222222222,\"#7201a8\"],[0.3333333333333333,\"#9c179e\"],[0.4444444444444444,\"#bd3786\"],[0.5555555555555556,\"#d8576b\"],[0.6666666666666666,\"#ed7953\"],[0.7777777777777778,\"#fb9f3a\"],[0.8888888888888888,\"#fdca26\"],[1.0,\"#f0f921\"]]}],\"contourcarpet\":[{\"colorbar\":{\"ticks\":\"\",\"outlinewidth\":0},\"type\":\"contourcarpet\"}],\"table\":[{\"type\":\"table\",\"header\":{\"line\":{\"color\":\"white\"},\"fill\":{\"color\":\"#C8D4E3\"}},\"cells\":{\"line\":{\"color\":\"white\"},\"fill\":{\"color\":\"#EBF0F8\"}}}],\"scatter3d\":[{\"line\":{\"colorbar\":{\"ticks\":\"\",\"outlinewidth\":0}},\"type\":\"scatter3d\",\"marker\":{\"colorbar\":{\"ticks\":\"\",\"outlinewidth\":0}}}],\"scattergl\":[{\"type\":\"scattergl\",\"marker\":{\"colorbar\":{\"ticks\":\"\",\"outlinewidth\":0}}}],\"histogram2d\":[{\"colorbar\":{\"ticks\":\"\",\"outlinewidth\":0},\"type\":\"histogram2d\",\"colorscale\":[[0.0,\"#0d0887\"],[0.1111111111111111,\"#46039f\"],[0.2222222222222222,\"#7201a8\"],[0.3333333333333333,\"#9c179e\"],[0.4444444444444444,\"#bd3786\"],[0.5555555555555556,\"#d8576b\"],[0.6666666666666666,\"#ed7953\"],[0.7777777777777778,\"#fb9f3a\"],[0.8888888888888888,\"#fdca26\"],[1.0,\"#f0f921\"]]}],\"scatterternary\":[{\"type\":\"scatterternary\",\"marker\":{\"colorbar\":{\"ticks\":\"\",\"outlinewidth\":0}}}],\"scatterpolargl\":[{\"type\":\"scatterpolargl\",\"marker\":{\"colorbar\":{\"ticks\":\"\",\"outlinewidth\":0}}}]}},\"annotations\":[],\"margin\":{\"l\":50,\"b\":50,\"r\":50,\"t\":60},\"yaxis\":{\"domain\":[0.0,1.0],\"anchor\":\"x\"}}]}}},\"children\":[{\"props\":{\"id\":\"plot-24f4e300-7cca-41c2-a9fb-c61aeb4a2fe1\"},\"nodeType\":\"DOM\",\"type\":\"node\",\"instanceArgs\":{\"namespace\":\"html\",\"tag\":\"div\"},\"children\":[]}]},\n",
       "        window,\n",
       "    );\n",
       "    })()\n",
       "    </script>\n",
       "</div>\n"
      ],
      "text/plain": [
       "data: [\n",
       "  \"scatter with fields mode, name, type, x, xaxis, y, and yaxis\",\n",
       "  \"scatter with fields mode, name, type, x, xaxis, y, and yaxis\",\n",
       "  \"scatter with fields mode, name, type, x, xaxis, y, and yaxis\",\n",
       "  \"scatter with fields mode, name, type, x, xaxis, y, and yaxis\"\n",
       "]\n",
       "\n",
       "layout: \"layout with fields annotations, margin, template, xaxis, and yaxis\"\n",
       "\n"
      ]
     },
     "execution_count": 9,
     "metadata": {},
     "output_type": "execute_result"
    }
   ],
   "source": [
    "load = series[!, \"load-1\"] * -1\n",
    "fig1 = make_subplots(rows=1, cols=1, shared_xaxes=true)#, subplot_titles=[\"Dispatch\"])\n",
    "\n",
    "add_trace!(fig1, scatter(x=series.DateTime, y=load, mode=\"lines\", name=\"load\"), row=1, col=1)\n",
    "add_trace!(fig1, scatter(x=series.DateTime, y=series[!, \"wind-1\"], mode=\"lines\", name=\"wind\"), row=1, col=1)\n",
    "add_trace!(fig1, scatter(x=series.DateTime, y=series[!, \"storage-1\"], mode=\"lines\", name=\"storage\"), row=1, col=1)\n",
    "add_trace!(fig1, scatter(x=series.DateTime, y=series[!, \"gas-1\"], mode=\"lines\", name=\"gas\"), row=1, col=1)\n",
    "\n",
    "fig1"
   ]
  }
 ],
 "metadata": {
  "kernelspec": {
   "display_name": "Julia 1.10.5 8 threads 1.10.5",
   "language": "julia",
   "name": "julia-1.10.5-8-threads-1.10"
  },
  "language_info": {
   "file_extension": ".jl",
   "mimetype": "application/julia",
   "name": "julia",
   "version": "1.10.5"
  }
 },
 "nbformat": 4,
 "nbformat_minor": 5
}
